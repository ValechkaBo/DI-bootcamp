{
  "metadata": {
    "kernelspec": {
      "language": "python",
      "display_name": "Python 3",
      "name": "python3"
    },
    "language_info": {
      "pygments_lexer": "ipython3",
      "nbconvert_exporter": "python",
      "version": "3.6.4",
      "file_extension": ".py",
      "codemirror_mode": {
        "name": "ipython",
        "version": 3
      },
      "name": "python",
      "mimetype": "text/x-python"
    },
    "kaggle": {
      "accelerator": "none",
      "dataSources": [
        {
          "sourceId": 4213024,
          "sourceType": "datasetVersion",
          "datasetId": 2479030
        }
      ],
      "dockerImageVersionId": 30558,
      "isInternetEnabled": false,
      "language": "python",
      "sourceType": "notebook",
      "isGpuEnabled": false
    },
    "colab": {
      "provenance": []
    }
  },
  "nbformat_minor": 0,
  "nbformat": 4,
  "cells": [
    {
      "cell_type": "code",
      "source": [
        "import numpy as np\n",
        "import pandas as pd\n",
        "import matplotlib.pyplot as plt\n",
        "import seaborn as sns\n",
        "import itertools\n",
        "import statsmodels.stats.api as sms\n",
        "from scipy.stats import (ttest_1samp, shapiro, levene, ttest_ind, mannwhitneyu,\n",
        "                         pearsonr, spearmanr, kendalltau, f_oneway, kruskal)\n",
        "from statsmodels.stats.proportion import proportions_ztest\n",
        "from statsmodels.stats.multicomp import MultiComparison\n"
      ],
      "metadata": {
        "_uuid": "8f2839f25d086af736a60e9eeb907d3b93b6e0e5",
        "_cell_guid": "b1076dfc-b9ad-4769-8c92-a6c4dae69d19",
        "execution": {
          "iopub.status.busy": "2023-11-06T18:15:49.893535Z",
          "iopub.execute_input": "2023-11-06T18:15:49.894197Z",
          "iopub.status.idle": "2023-11-06T18:15:49.925697Z",
          "shell.execute_reply.started": "2023-11-06T18:15:49.894137Z",
          "shell.execute_reply": "2023-11-06T18:15:49.924613Z"
        },
        "trusted": true,
        "id": "NxVVGK3Ervuh"
      },
      "execution_count": 1,
      "outputs": []
    },
    {
      "cell_type": "code",
      "source": [
        "# TODO : Import the Data from the kaggle API\n",
        "from google.colab import files\n",
        "files.upload()"
      ],
      "metadata": {
        "id": "3tOTF5-JoVbY",
        "colab": {
          "base_uri": "https://localhost:8080/",
          "height": 1000
        },
        "collapsed": true,
        "outputId": "0a10f300-6c03-4ff3-a39f-36766d56dd51"
      },
      "execution_count": 5,
      "outputs": [
        {
          "output_type": "display_data",
          "data": {
            "text/plain": [
              "<IPython.core.display.HTML object>"
            ],
            "text/html": [
              "\n",
              "     <input type=\"file\" id=\"files-6bf4d659-aa21-4659-a48c-11ba756bf817\" name=\"files[]\" multiple disabled\n",
              "        style=\"border:none\" />\n",
              "     <output id=\"result-6bf4d659-aa21-4659-a48c-11ba756bf817\">\n",
              "      Upload widget is only available when the cell has been executed in the\n",
              "      current browser session. Please rerun this cell to enable.\n",
              "      </output>\n",
              "      <script>// Copyright 2017 Google LLC\n",
              "//\n",
              "// Licensed under the Apache License, Version 2.0 (the \"License\");\n",
              "// you may not use this file except in compliance with the License.\n",
              "// You may obtain a copy of the License at\n",
              "//\n",
              "//      http://www.apache.org/licenses/LICENSE-2.0\n",
              "//\n",
              "// Unless required by applicable law or agreed to in writing, software\n",
              "// distributed under the License is distributed on an \"AS IS\" BASIS,\n",
              "// WITHOUT WARRANTIES OR CONDITIONS OF ANY KIND, either express or implied.\n",
              "// See the License for the specific language governing permissions and\n",
              "// limitations under the License.\n",
              "\n",
              "/**\n",
              " * @fileoverview Helpers for google.colab Python module.\n",
              " */\n",
              "(function(scope) {\n",
              "function span(text, styleAttributes = {}) {\n",
              "  const element = document.createElement('span');\n",
              "  element.textContent = text;\n",
              "  for (const key of Object.keys(styleAttributes)) {\n",
              "    element.style[key] = styleAttributes[key];\n",
              "  }\n",
              "  return element;\n",
              "}\n",
              "\n",
              "// Max number of bytes which will be uploaded at a time.\n",
              "const MAX_PAYLOAD_SIZE = 100 * 1024;\n",
              "\n",
              "function _uploadFiles(inputId, outputId) {\n",
              "  const steps = uploadFilesStep(inputId, outputId);\n",
              "  const outputElement = document.getElementById(outputId);\n",
              "  // Cache steps on the outputElement to make it available for the next call\n",
              "  // to uploadFilesContinue from Python.\n",
              "  outputElement.steps = steps;\n",
              "\n",
              "  return _uploadFilesContinue(outputId);\n",
              "}\n",
              "\n",
              "// This is roughly an async generator (not supported in the browser yet),\n",
              "// where there are multiple asynchronous steps and the Python side is going\n",
              "// to poll for completion of each step.\n",
              "// This uses a Promise to block the python side on completion of each step,\n",
              "// then passes the result of the previous step as the input to the next step.\n",
              "function _uploadFilesContinue(outputId) {\n",
              "  const outputElement = document.getElementById(outputId);\n",
              "  const steps = outputElement.steps;\n",
              "\n",
              "  const next = steps.next(outputElement.lastPromiseValue);\n",
              "  return Promise.resolve(next.value.promise).then((value) => {\n",
              "    // Cache the last promise value to make it available to the next\n",
              "    // step of the generator.\n",
              "    outputElement.lastPromiseValue = value;\n",
              "    return next.value.response;\n",
              "  });\n",
              "}\n",
              "\n",
              "/**\n",
              " * Generator function which is called between each async step of the upload\n",
              " * process.\n",
              " * @param {string} inputId Element ID of the input file picker element.\n",
              " * @param {string} outputId Element ID of the output display.\n",
              " * @return {!Iterable<!Object>} Iterable of next steps.\n",
              " */\n",
              "function* uploadFilesStep(inputId, outputId) {\n",
              "  const inputElement = document.getElementById(inputId);\n",
              "  inputElement.disabled = false;\n",
              "\n",
              "  const outputElement = document.getElementById(outputId);\n",
              "  outputElement.innerHTML = '';\n",
              "\n",
              "  const pickedPromise = new Promise((resolve) => {\n",
              "    inputElement.addEventListener('change', (e) => {\n",
              "      resolve(e.target.files);\n",
              "    });\n",
              "  });\n",
              "\n",
              "  const cancel = document.createElement('button');\n",
              "  inputElement.parentElement.appendChild(cancel);\n",
              "  cancel.textContent = 'Cancel upload';\n",
              "  const cancelPromise = new Promise((resolve) => {\n",
              "    cancel.onclick = () => {\n",
              "      resolve(null);\n",
              "    };\n",
              "  });\n",
              "\n",
              "  // Wait for the user to pick the files.\n",
              "  const files = yield {\n",
              "    promise: Promise.race([pickedPromise, cancelPromise]),\n",
              "    response: {\n",
              "      action: 'starting',\n",
              "    }\n",
              "  };\n",
              "\n",
              "  cancel.remove();\n",
              "\n",
              "  // Disable the input element since further picks are not allowed.\n",
              "  inputElement.disabled = true;\n",
              "\n",
              "  if (!files) {\n",
              "    return {\n",
              "      response: {\n",
              "        action: 'complete',\n",
              "      }\n",
              "    };\n",
              "  }\n",
              "\n",
              "  for (const file of files) {\n",
              "    const li = document.createElement('li');\n",
              "    li.append(span(file.name, {fontWeight: 'bold'}));\n",
              "    li.append(span(\n",
              "        `(${file.type || 'n/a'}) - ${file.size} bytes, ` +\n",
              "        `last modified: ${\n",
              "            file.lastModifiedDate ? file.lastModifiedDate.toLocaleDateString() :\n",
              "                                    'n/a'} - `));\n",
              "    const percent = span('0% done');\n",
              "    li.appendChild(percent);\n",
              "\n",
              "    outputElement.appendChild(li);\n",
              "\n",
              "    const fileDataPromise = new Promise((resolve) => {\n",
              "      const reader = new FileReader();\n",
              "      reader.onload = (e) => {\n",
              "        resolve(e.target.result);\n",
              "      };\n",
              "      reader.readAsArrayBuffer(file);\n",
              "    });\n",
              "    // Wait for the data to be ready.\n",
              "    let fileData = yield {\n",
              "      promise: fileDataPromise,\n",
              "      response: {\n",
              "        action: 'continue',\n",
              "      }\n",
              "    };\n",
              "\n",
              "    // Use a chunked sending to avoid message size limits. See b/62115660.\n",
              "    let position = 0;\n",
              "    do {\n",
              "      const length = Math.min(fileData.byteLength - position, MAX_PAYLOAD_SIZE);\n",
              "      const chunk = new Uint8Array(fileData, position, length);\n",
              "      position += length;\n",
              "\n",
              "      const base64 = btoa(String.fromCharCode.apply(null, chunk));\n",
              "      yield {\n",
              "        response: {\n",
              "          action: 'append',\n",
              "          file: file.name,\n",
              "          data: base64,\n",
              "        },\n",
              "      };\n",
              "\n",
              "      let percentDone = fileData.byteLength === 0 ?\n",
              "          100 :\n",
              "          Math.round((position / fileData.byteLength) * 100);\n",
              "      percent.textContent = `${percentDone}% done`;\n",
              "\n",
              "    } while (position < fileData.byteLength);\n",
              "  }\n",
              "\n",
              "  // All done.\n",
              "  yield {\n",
              "    response: {\n",
              "      action: 'complete',\n",
              "    }\n",
              "  };\n",
              "}\n",
              "\n",
              "scope.google = scope.google || {};\n",
              "scope.google.colab = scope.google.colab || {};\n",
              "scope.google.colab._files = {\n",
              "  _uploadFiles,\n",
              "  _uploadFilesContinue,\n",
              "};\n",
              "})(self);\n",
              "</script> "
            ]
          },
          "metadata": {}
        },
        {
          "output_type": "stream",
          "name": "stdout",
          "text": [
            "Saving AB_Test_Results_DC.zip to AB_Test_Results_DC (1).zip\n"
          ]
        },
        {
          "output_type": "execute_result",
          "data": {
            "text/plain": [
              "{'AB_Test_Results_DC (1).zip': b'PK\\x03\\x04\\x14\\x00\\x00\\x00\\x08\\x00pi;Y\\xe5\\x0b\\xa1\\xe9\\x9cp\\x00\\x00\\x87\\x94\\x02\\x00#\\x00\\x00\\x00AB_Test_Results/AB_Test_Results.csv\\x84\\xdd\\xb9\\xaetK\\x93\\x1ef\\xbf\\xaf\\xa5\\xb1\\xb1\"#G\\x93\\x80\\xda\\xa0!\\x1a\\x94(\\x97 d\\t\\x10$\\x80 t\\xfd\\xca\\xaa\\x1fd\\xd7z\\xa2!\\x1d\\xef\\x14\\xf6W\\xb5\\x86\\xcc\\xc8\\x18\\xde\\xe1?\\xfd/\\xff\\xf2\\x1f\\xff\\xf3\\xbf\\xff\\x9f\\xfe\\xf9\\x7f\\xfbw\\xff\\xf1\\xdf\\xff\\xbb\\xff\\xf0\\xbf\\xfe\\xe7\\xff\\xf0\\xef\\xfe\\xe7\\x7f\\xf9\\xe7\\xff\\xf8/\\xff\\xdb\\xbf\\xfc\\x87\\xff\\xf4/\\xff\\xb4r\\xfd\\xf3\\xff\\xf3_\\xfe\\xeb\\xff\\xf1_\\xfe\\xaf\\xff\\xf6\\xcf\\xcf\\xdf\\xf3O\\xad\\xb7\\xfc\\xe7\\xff\\xfd\\xff\\xfe\\xbf\\xfe\\xdb\\x7f\\xfd\\xbf\\xff\\xcf\\xef\\x07\\xa7G\\xbc>X\\xc9\\x073V\\x7f\\x7fG\\xee\\xe7\\xfd\\xc1\\xee\\xe7\\xfd\\xa51\\xf7\\xfb;\\xda3^\\xffd\\x8d\\xfe\\xfe\\x8b\\x9dg\\xbc>\\x88\\xd8\\xfd}a1\\xdf\\x7f\\xd1F;\\xff\\xe3K\\xdb_\\x8c\\x7f\\xca\\xbe\\xcf\\xebgv\\x7f\\xa6\\xbf\\xfb\\xfe\\x8b\\xf3\\xec\\xf7\\x95\\xf5\\xb1\\xda\\xfb;N{?\\xc3\\xcc\\x9d\\xaf\\x0f\\xe6\\xd8\\xfb\\xfdAk\\xef\\x9f\\xed\\x8d\\x1fY\\xfc\\xc88\\xefo\\xc8\\x19<\\xf49\\xd7\\xeb\\xee3\\xc6\\xfbM\\xae3x\\x93m\\xf0Of<\\xfc\\xc5\\x99\\xaf\\x0f\\xc68<\\xc0\\xb6\\x83\\xeb\\xe0g3\\xf3\\xfd\\x1d\\xbb\\xad\\xf7{\\x9a\\x0fw?b\\xbd\\xaf\\xb4\\xe7\\xc3\\xbd\\x8c|\\xaf\\xa8\\xf6\\xac\\xf7_\\xec\\xc5\\xa5\\xef\\xb3\\xdeWz_}\\xe7J\\xc7\\xfb\\x83\\x11\\xbd\\xb1\\xe6\\xfa\\xfbJgo\\xffz\\x1d\\xf9\\xd7\\xc6?\\x9d\\x96\\xef\\x17s\\x7f\\x97%v\\xda{i\\xc7\\xe8\\xfc\\x93>\\xdf+j\\xf1n\\xd7z\\xdeW\\xda\\x07\\xabv\\xb1I{_\\xefW;\\xd7h\\\\V\\xbe\\x9f\\xcf\\xfd\\x8d\\xf7_\\xcc\\xbb\\xc6\\xde\\x17\\xdeY\\xd7{\\xec\\xf7\\xbd\\x8e\\xec\\xef\\x7fr\\xef\\xec}k\\xb3\\x1f\\xc3\\t!)\\x1a\\xab!6\\x0b9\\x9e\\xf7\\xbf\\xe8+\\xde\\xabc\\x9c|G\\xa4\\xf9\\xf0f\\xcfl\\xef={\\xfa\\xfb_\\x8c\\xcd{\\xed\\xfeE\\x9f\\xfd}\\x19\\xfb\\x13)\\xdfO\\xf4\\xb0\\xab\\xf7~\\x7f\\x90\\xcf\\xe3\\xca\\xdf\\xef\\x07x_\\xfd\\xfbU\\xe7\\xfd\\x93\\xf7\\xf32b\\xdf-\\xf9\\xfe\\'k\\xb3\\xf1o\\xb8)[\\x92\\x97`L\\xef\\x9bh\\xbb\\x06\\x11\\xe9\\xec\\xf6\\xbe\\xb9~\\x1e~\\xf69\\xef\\x7f\\x12\\xf7pq\\x95\\x12\\x91\\xee&\\xe5n9[\\xf6J\\x8e\\x81>Y\\xfa\\xc1j(\\xdb)\\x06\\xab\\xf4\\xcc\\xf9\\x0e/\\xf3\\x18\\t\\x1a7\\x97\\x9f\\x17\\xf5\\xba\\x8e3\\x08\\xd9\\x83\\xdb\\x1f\\x8d\\x1dw\\x03\\xe1{U\\xdem\\xfc^R\\xf7\\xa8!\\x98\\x1cbGw\\xcd\\x05\\x0b\\xfb\\x89\\xf7\\xf3:\\xad\\xbd\\x9f\\xc6\\xfe\\x04\\xfd\\xf7\\x13e\\xdf\\xf7\\xce\\xbd\\xee\\\\\\xef%\\xd7\\x92\\xcb\\xe8\\xbe\\xe9I\\xf0\\xcd\\xa7\\x1b\\x04\\xc9\\x11f\\xb6\\xf7\\xde\\xb8\\xfb\\xed\\xfd#\\xb1\\x83\\x88\\xfe<,\\x0e\\xbf4N#\\xb8$\\xe9\\xcd=\\xd0\\xfe\\xf5\\x1d\\xf4\\xbf\\xb6\\xee{;\\xefgz\\x8f\\xde\\xf7[Y\\xf3\\xbc\\x03\\xe3=\\x15\\\\\\xfa\\xe3\\xfd\\xaa\\xf7`1\\xec\\xdd\\xdf\\x7f\\xd1\\xa6\\xab\\xa3\\xb1lw\\xfc\\xbc\\xec\\xf8[\\xe3\\x1e\\x14\\x83+\\xeb\\x9c\\xd7{\\xfe,\\xe4\\xf6w\\xceM_x$7\\xe4\\x90$~\\x8e\\xf4\\xd7\\x0f?\\xcf;\\xbe\\x8e\\x15\\xef%\\xb3:\\x87\\xc9\\x0c\\xc2\\xc5\\xdd/\\xe6U\\x1cY\\xe7\\xf7\\xf4\\xfd\\xfeJ\\xf0\\xc19\\xf9~Dq\\xdf\\xef{\\x01\\x0c>\\xb8\\xb1\\x90U\\xb5|\\xcc\\xee\\x87\\xbd\\x08\\xe3\\xd3#~n\\xce\\xc1\\xf3\\xb0\\r\\xef\\xdd\\xbfwL\\'\\xb1Z\\x86\\xb16Hf\\xe7j&g\\xe6Q\\x0f\\xab\\xfd~\\x05{j.\\x8e\\xf4\\xccw\\\\\\xbbO\\x90\\x05s\\x8e\\x076I\\xf5-\\x10<~\\xdf_1\\x9e\\xf1\\xbe\\xd9\\x08\\x16T\\xf3;O7\\xdb\\x8f\\x87\\x97\\xb0\\xc7\\xfb/J\\xb2\\xbf\\x1f\\xde}\\x0e\\x1e\\xfa\\r\\x96\\xef\\x17\\xd9\\xfbfa?\\xdd\\xbd\\xcf\\x13\\xbc\\x0f\\xac\\xa4\\'dol\\xec\\xf5\\x18_}\\x80\\xfd\\x90h\\xdd\\xf5\\xc5V\\x18\\x8f\\xc9\\x9a\\x05\\xd4$=9\\xcfy\\x7f0c\\xfa\\xee\\x1f\\x8e\\x9f`\\x8b\\x06\\xf9K|\\xf6\\xfd\\xeb\\xba\\x92\\x15w\\x93\\x02\\x1e\\xcfM\\xdd\\xf9U\\xd6\\xf5\\xcd\\xa0\\xdf\\x0f\\xb0ur\\x11S\\xd7\\xbe\\xb9\\xae\\x9c\\xfc\\xc8\\xfc\\x9c\\xf0\\xaf\\x9bo\\xf9~\\xc4st\\x8f\\xc1d\\xc5=$\\xf2\\xf3S\\xa6\\xbc>\\xe8\\xac\\xa7\\xfdt\\xd6\\xf5N?\\xe0\\x1c<\\'L=&!\\xac\\x9b\\xad\\xe4y\\xdf\\\\R\\x1c\\xf5\\x87,|\\x19\\xf4\\xe6&\\xbd[\\x9b\\x15\\xd765\\xd9\\x8d\\x1c\\x14\\xf5\\x9f\\x1d\\xf9\\xba\\x8c\\xce\\xbeo\\x93E:\\\\\\x82-6k\\x92\\ry\\x83\\x1e\\xfbo6\\xd6\\xf9&p\\x9e<\\x1c\\x8a\\x0f\\x0b*\\x9a\\xbfr\\xb7\\xe4\\xfbf\\x17\\xa1\\xe3\\x98\\x98\\xb6\\xe4-=\\x9c\\xbc7\\xef\"\\x83\\x9e$\\xaa\\xed\\xd0\\x9d\\xb99\\xf7{q\\xdcs\\x96NB\\x90W\\xc4\"\\x93\\xcf\\xf9~\\x1a\\xb7\\x1c}\\xaf\\xc0\\xb6\\xad\\x1f\\x0c%\\xeb\\xf4\\xcd\\x85>\\xe4\\xdc\\x9f\\xd4\\xe4\\xf5A\\xa7`_\\xd3\\xc4\\x8b%\\x99\\x87\\xee\\xc4\\xb7\\x80\\x7f\\xddIIC\\x82\\xbc4=gF\\x1b\\xfc\\x01\\x1bvP\\'~R\\xdf\\xf7e\\x9bs~b\\xe2\\xeb\\xb5.\\x0f\\xccO\\xea\\xf3\\xba\\xccA\\x01{\\xcb\\x8d\\xf7u\\xeeC\\x86\\xb1\\x83\\xd5tOa\\xb2Co\\xe5\\xae\\x1d\\x02m\\xc9\\xda;\\x07\\xc0 I\\xbfu\\xf5\\xfb\\xcas\\xd0\\xdc\\xc8f\\xeb\\x8f4\\xbf\\xa5?\\xd1\\x1f\\x1f(\\x05\\x8a\\xbd\\xc1Y\\x9a?\\x9b\\xa6]\\xd2\\x1a\\x0c\\xbf\\xf3\\xb0\\xe1\\xe3S\"\\xb3\\xb68\\x84\\x16\\xe7\\xd68\\x9c\\x85\\'z\\xf2\\x1d\\x04\\x9e\\xd8\\xdc\\xc9\\xceN\\xfc\\x1b\\xd4Mc\\xfb\\n\\xd2\\x93\\xffxa9x\\'\\x0f\\xa7t\\xbby\\xf2\\xfb\\xc5?\\xed__\\xc2\\xf9;\\xf1O\\xa6\\x13\\x93\\xb0r\\xa30qfr\\xd4u\\xf7Z\\xeb,\\x9e\\xde\\xe8\\x02\\xdf[\\xb1c@\\xf6\\x10\\x87E\\xbdi\\xdb\\xdcD\\x89j\\xd6\\\\\\xbd\\xdb\\x95\\xf8tk\\xdf\\xff\\xc2\\xc2k\\xf20\\xee\\x01\\xcc\\xc1\\xbfX\\xf6\\xf7\\xc5\\xf2\\x1d\\x96\\xe1=\\xe8\\xa4\\xde\\xba\\xe3\\xbd\\x11b\\x98:\\rR\\xf1\\xf1\\x9c\\xf7?9\\x83\\xf3a\\xad\\xc6_\\x1c\\x82\\xc0\\xda<\\xb0\\xfb\\x01\\xafit\\x02\\xf3\\xe0\\xd0\\x99Iqw\\x8b\\x88\\xf7k\\xb9\\x01\\x8e\\xc5\\x90\\x04\\xf3\\xf1\\xe9\\x05\\xbd\\x1f2\\x1d\\x84M\\xc5|\\xb3hJ\\xe8\\x9b\\xbe\\xbf\\xff\\x82\\xa4o\\'\\xa7\\xd2~6!q\\x12\\xbc\\xd3zhy\\n\\xddD\\x9b\\xc0\\x1bQ^$\\xcb\\xc5ci\\xdaL\\xbb\\xeb\\xdc\\x1e\\xf1\\xa4\\xf6M\\x9b\\xf7m\\x9b\\x91\\xf0\\xde\\x08-\\xf3a\\xb1\\xf4M\\xe7\\xec\\xae\\xb7\\xf7o\\xdcS\\x88\\x04\\xd7\\xd5\\xd3\\xef\\x7f\\xfc\\x13N\\xbf\\x19\\x1ce7\\n\\xb0\\x9c\\x1ae\\xd9\\xd8\\xc3%\\x99\\xbcHco\\x0c\\x9am{\\xa6\\xe7#\\x81 \\x1b\\xcf\\xeb$\\xad\\xb4\\x08b\\xdc6]\\xddAk\\xfa\\xbe\\x046q\\x10\\x19r\\xb0\\\\\\x0e\\xb9\\xe7\\x99\\xe4\\x9ek\\x90\\x9b\\xdf\\x93\\x87\\xaf\\x98\\xf4\\xf4J\\x0e\\x1c\\xceKNi\\x8c\\x1c^\\xcb\\x98d\\x92\\xf7\\x03\\xba\\xc6\\x9b~\\xc3Yd)c\\x10l\\x9b\\x13\\x951\\x08\\x83\\xdb\\xbb\\xcd5\\xa9\"\\x86\\xbd\\xfb\\xc1Is/\\x8c\\x0f\\x0e+\\xaamz\\xb1Y\\x9eX\\xf0\\xc4\\xfarT\\xbaI\\xe3n\\xd1i\\x0f\\x87\\xfd36G`Nv\\xc7i|\\xe9\\xb2l\\x9f\\x0f=\\xf2\\xbdYssl7\\x83\\xc7\\x82\\xe1\\xb8\\xa7\\xc1\\xb5\\x91\\xee\\xb4\\xc6H\\x92\\x0c!m\\xff\\xdf|\\x9e\\x89\\x9c{\\xa3\\xb5E^2\\x89i=l\\xacv#\\x01\\x9b\\xf8\\x9eUdC\\x9f\\xd9\\xf3\\xeb\\x81\\x0e\\x92\\xb0\\xb9\\xa8\\x88\\xfa\\xb4\\x139]\\xe8\\xdd\\xf6\\xe6\\xb3\\xdf!~\\xb5\\xce\\x0co\\xd0\\x05\\xda\\x8eA\\x8fM\\x9eSJ\\xeeN\\xef\\xe4\\xd6\\xcff\\xecv3\\xe9\\x15\\xb4\\xc7\\xd7\\x18\\xdc\\xecb\\x01\\x0e[\\xd7\\xd3lz\\x0c\\xce\\x8d[\\x8a\\xb08\\x1c\\xf4\\xecF\\xfb\\x7f;c(S\\xe2\\xbe\\xa9\\xcd\\xee\\x8e\\xe5;\\x0e\\x03\\x82\\xf3\\x19\\xf4\\xbc6B8\\xda\\xb03\\xb2\\x1d_\\x1f\\xc7:\\x0e\\xd3\\x8cWk\\xefr\\x8c\\x10\\x05\\x82\\xd6\\xee}\\x07\\xa5\\xb1m\\x03\\x90\\x02\\xf1\\xe1a\\x8c\\xc6n\\xcb\\xc1\\xc9<\\x83\\xa1_kl\\xaeC\\x0ch\\xb6E\\xfa\\xa1\\xa1s\\xcf*n\\xfe\\xde\\x9bq\\x84@\\xdb\\x89E\\xa2\\'\\xc2\\xa0\\xd9\\x06\\xd5ql\\xd6J$\\xc1jv\\xe3\\xfd:nG\\x1e\\xcfj\\x05\\xe7\\xc2$v\\x92\\x92\\xb5F \\x8e\\xd2\\xb1`\\xaf\\x1d\\x82W\\xb3ZY\\xd6;7\\x92\\xff\\xeb\\x13\\x8f\\xbf6?\\xe7\\xe3\\xfbN\\xf6\\xe0\\xd0\\xbd\\x07\\x86o\\xc9\\xa3\\x8d\\x059\\xb3\\xcc\\x1d\\x192w\\xf7k.:\\x9b\\xf1\\xd0\\x84l\\xc3\\xc1,\\xf5\\xcdJB\\xe4\\x18,\\x8d\\x1d\\xec5\\xd2\\xaf\\xd9\\xb7\\xc9C\\x90\\xb38\\xbb\\xf9^\\xe6\\xeb/:\\t\\xeb:\\xe0D\\xe2!B\\xce\\xe9\\x19\\xed\\xf8\\xb3\\xdb\\x06?%\\xf9\\xe4TO{\\xa5\\xf7\\xb2\\xf8\\'\\x1eu39\\xd9\\x8e\\xd1\\xed\\x1e\\x86\\x1e\\xb0\\xcc\\xe9\\xd6\\x1a\\x8c\\r\\x0e\\xb3\\xf12\\xec\\xfcNn_w\\xbf\\xed\\xd9.@\\x0c\\xf7=\\xd9\\xf3\\xa7\\x17\\xdam\\x1c\\xc5\\x10\\x8a\\x14\\x0c\\x01J;\\xab\\xdb\\xd9\\\\\\xcf\\xc3*>>\\x8fA\\xc7u7\\xce`k\\x82V\\x1aZ\\xb6\\x0c{p\\x19\\x99\\xcd\\xd2\\x8d\\x1c\\xe5\\xde=\\x1d\\x07v\\xc6>\\xac\\xda\\x1b\\x02\\xd9\\x8f\\x9d\\xa1\\xc9M\\xa5x^\\x02%L{\\xe6bp\\x95\\x9b\\x87Q\\xf7x\\xa7%\\xdb\\x8e\\x13\\xf8E\\ru\\xc3;Y\\xf3!J\\x96\\xa2|6\\x1eq\\xcc\\xc1\\x10n\\xf1\\xc0\\xa2\\x8b\\xb5x8fn\\xbe\\xca\\x8b,w\\x9b\\x14w\\xa3@!\\xadDn\\xf2\\xc9\\x84\\xb1Q4\\xdcM\\xfb\\xafo!\\x9e\\xbf\\x99\\x9f\\xfa\\x8e\\x7fTF\\xae\\xc1\\xed\\xcd\\xc94}\\x178\\x81=\\xd1\\x91\\xa6%\\xdb\\xa6\\xf3\\xe0~\\';\\xff\\xc6|G\\xc1f\\xe3\\x8d\\x1d7\\x16]\\xc1\\xedF\\xdf\\x9d9\\xc0M\\x15i\\x9d\\xf9\\x94K\\x83.7\\x1d\\xf6\\xd3\\xe8.mk\\xd7(\\xad\\xed\\xa4\\x10\\xbd/\\xdb\\x06\\x14-\\xaa\\x1e<\\xa0\\x15\\xe0\\x00nd\\xa4=\\xd2(>\\x8e\\x9d\\xd6nK8\\x879\\xd6c\\xd3\\xc1\\xd70\\xc3)\\xe3\\x07\\xd5\\xfa\\x0e\\x06\\xe4i-\\xd9\\x85\\xd3\\xfe\\xdb\\xb1\\x9f\\xbbK\\xf3\\xfa8$\\xb3\\x0b\\xfa\\xed\\xfd\\xbc^\\xc3.\\xad\\x0c\\x1b\\xa7\\x9bTd<L\\xbao\\x1aK*\"v\\xf8\\x0b\\xd2|\\xad\\xb1nn2h\\xba|\\xd3\\xd4\\xd7S?f{\\x03h\\xda\\x16Jt\\xc20\\xf5\\xf0\\x80\\x9a\\xe5YX\\xfe\\xcf\\t2\\xf8<\\xcb\\xe1%\\xb5h8a\\x9f\\x8b\\xf2b\\xb5\\x06\\xea\\xc3!j\\xa3\\x83\\x10fZyX\\xc8Q\\xe6OiE\\xf2\\x10\\xe7\\xd6\\xe6\\t\\x8e\\xc5\\xc0$\\x1f\\x16\\xe1\\xdd\\xc7\\xef\\x9f\\xed\\x93\\xe5aip\\x96\\xd1\\xc4H\\x19^\\xa7K\\xf0&\\xfe,\\x9f\\x02\\xcd\\xda\\xd4VK\\x8c\\xef8\\xe08\\xd7,O\\xc3\\xfc\\xee\\xd0/)p\\x9eC\\xb4\\xbdI%O\\xa7\\xb1\\x8aO\\xc1\\xbb\\x0f\\x92\\xb7\\xbb\\x11\\xa8\\x94\\xba\\x0b\\xaeQ\"\\xb7^f\\x1b\\xb4\\xec\\x8e\\xed\\xd94\\x19\\x19m\\x98\\xa83\\xc5\\x1a\\x93m\\xde\\x03\\x90\\xd5\\x1a&\\xea\\x0f3\\xf9L\\xc6!98YO\\xb7\\x8599\\x8c\\x8f\\xc8\\x9b\\xc5\\x07\\xfb\\xf0\\xc0\\x8eX\\xe2[\\xd1\\n\\xc3\\x02M:\\x83\\xe7s\\xcc*\\xef\\xb6\\x17\\xafbN\\xe0J\\xcf\\xe3j\\x88\\x02\\xec\\xfc\\xa9\\xf8c\\xfd=\\xe3\\xd3\\x8c\\xb7\\xd1\\xc7Jn\\x87i\\xeb\\xea\\x9c\\xbe\\xf3\\x83F\\x7f\\xfdp\\x97\\x9b0\\xb9\\xbd#^=:5j\\xa4\\x87~p\\x1e\\xdd\\x0c\\xa7\\xcc\\xcb,\\x90X\\xca\\x11\\xe1\\x81M\\x964\\x0b\\xcf\"(\\xc8\\x97\\xf4\\x97R\"\\xa4m\\xbc\\xe4x.\\xbd\\xf7>\\xcdE\\x17M\\xb8\\x14\\x04\\xbf\\x1b\\xe7\\xe4\\xad28I?\\x10\\xc3\\xd7\\xbd\\x19p\\x9c1\\x857?\\x1cq\\x1f\\x9b5\\xe7\\x80\\xbc:\\xce\\xa1f\\xe7\\x98\\xbc\\t `\\xa4\\x87\\xeeM.\\xda\\x11\\xf7\\xe0 k*\\xdd\\xe7~\\x8c\\xa6\\xe4&\\xf6\\xc7\\x16\\x05\\xf8=\\x9b\\x01\\x87L\\xba\\r\\xf3\\x10;\\x8f\\x9c\\x93\\xb68\\x17\\xfa\\xb2\\xd7, \\xec\\xdb\\xcbz}\\xa9\\xbd\\xfa\\x9e\\xfc\\x93\\xa4[\\xb8\\x16\\xe1\\xb7\\x9b\\xaa\\x8cE\\x87\\xbb\\xa5@\\xe9Aux\\xac\\x84\\x8f\\x9d\\xa9\\xd197\\xc7\\xe3\\xad\\xd8r\\x8cA\\x965\\xf6\\xf1\\xa1\\xd3|n\\xddU\\xedw\\xda\\x16\\x96n\\x94\\xe1\\xcc\\xe00h_\\x05#`um\\x7f\\xf1\\x06R2]\\xd7\\xf0\\xf1x?\\x87\\xd78\\x960\\xabY^4\\xdd\\x1a\\x02Kv\\t:\\xdb\\x8c<\\x9dq\\x9a\\xc7\\xad\\x87\\x94aN\\x92\\xb2\\xe1\\xd2\\xd8\\xbf\\xd3\\x90\\xf6\\x17\\xeb\\xbe\\x14;u\\xc1\\x07G\\xa0\\xc6\\x8c\\xe9\\x92\\xe4\\xee\\xbf\\xcd\\xe6\\xf73v\\x05\\x0eVqK\\n\\x90\\x1b\\x02\\xedt>\\xb4\\xde}\\xb5\\x93\\x0b=A\\xdb\\xb2\\x89\\xae\\xdc\\xce%LC\\xf6\\x02\\xcd\\xe5\\xd3\\x12\\xe9\\x7f\\xe3.\\xa5E\\xba\\xd7<\\x953\\x1d\\xbf9\\x0b\\x19$!{\\x08\\xc9[\\xccdf#\\tI\\n\\xad\\xb9\\x88\\xfe\\xe3\\x91\\xaf2\\xc0\\'\\x96\\xb1\\xea\\xadV\\xb8y\\xf9;\\xcd0\\xb2\\xc2\\xf3\\xa1I\\xc2\\xdb\\xbeUR\\xe7a\\x96\\xdb\\x0f\\x1c\\xb2\\x9c\\xbc4)\\x99\\xf7\\xe6}\\xe2\\x926\\x0f\\x8d\\xbf\\xbb\\x1c\\xa9\\xcb\\xa9\\xd4\\xee\\xa1\\xc4\\xb9\\xdf\\xcbk\\xa4\\x13\\x98\\x83\\x90\\xb9\\x9c\\x1aN\\xde\\xda\\x9e\\xb4\\xaf[\\x97\\x9e\\xbb\\x1d\\xcao[\\x83\\r\\xd4\\xed=\\xe8\\xca\\xd1G\\xe7t\\xc9\\xd6\\tFA{\\xb8\\x14\\x9e\\x82K\\xa3#\\xd99\\x81\\xbb0\\x99\\xbb\\xe1\\x89\\x80\\x06\\xfb\\xb5\\xa6\\x9b\\x8d\\xf4\\xcc\\xc6Xk\\\\\\xc5\\x97m\\xf9~\\xe4\\x14\\xfe\\x0f\\x9bo\\xb9@w\\xd2\\xe5\\xe9[\\xf8\\xe6\\xe3A\\xf7\\xd8\\xf2%\\xbb]\\xc9\\xf3l\\x83_\\r\\x8b\\xac\\xee\\x91\\xb37\\x0f\\xa3\\xf9^O\\xe3\\xbd\\x8e\\xc5\\xe9\\x19\\x9d\\xbd5;\\xe5\\xe0Y\\x84\\xc4\\x19\\xac\\xc0e\\\\\\xfe\\x02%^/\\xb6\\xf4\\xab\\xc8U\\xc7\\xe1\\xadd0G\\x0c\\x99\\xa5\\xa31p\\xbf\\x87!\\xa1\\\\\\xf0\\xd24\\n\\xf4\\t=\\xfc\\x14h\\x17\\xcb\\xe9\\x08.\\x9f\\xc2\\xc3J\\xec\\xeeA:\\xfbEj\\xbd.4\\x89$)\\x8137\\xad\\xa6=e\\xfa\\x18\\x88\\xb7\\x1b\\xa1\\x03\\x00\\xeaI\\xabi<T\\xa9\\xb9\\xcc\\xd4\\xa5j\\x9ccY\\xb2d\\x89>\\xe9\\x8b4\\x0c\\xb0$\\xb7\\x90\\xa1\\\\\\xf4\\x83\\xbf\\xfc\\xa2\\xf7\\xd6\\x10\\x86\\xd5\\xcd\\n\\xc9\\x7f\\x9d1\\xe7\\x146?\\xb9\\x91\\xb9J\\xe6\\xee\\xf8$,\\x85R$Es>gW(\\xe4\\xec\\xdf\\x05\\xf7~\\xc2\\xf7i\\x08\\\\\\x92X8L\\xb5\\xecX4\\x07\\x98\\xad\\xb18V\\xb7kV\\xaa\\xdce3J\\xceR\\x1f\\x86\\x92\\x03xP\\xccui$\\x9c-=\\xda*\\xb7\\xcb\\xb2\\x98\\x0eE\\xa3+\\xbd\\xd1\\x08O]X\\xfb\\xfa\\xed\\xeb\\xc7Gm`\\n6\\x19\\xb2\\xe7\\xdb\\xb1He\\xccu\\x9f9?+\\xa9k$\\xcfgT\\xce5q\\xc0)\\xe9<Lo\\xef\\x13\\xa5{\\xdeh\\xab\\xc5\\xa7\\x98~\\xad0g\\xff\\x8b,%\\x1e\\x1a^\\xf7d\"\\xef\\xb6\\xb8\\x1eKA\\x10\\xe1\\x99\\x07\\xae\\xc1=\\x99\\xcc\\x81\\xc1\\x056\\x95\\'\\n\\xbd(\\x16\\x9bgn\\xb1\\xdf\\x0fY\\xddh\\xec\\xd9H\\x0b\\xce\\xe5\\\\\\xc4f\\xcd4G\\xfb\"X\\xde\\x0b\\x9f\\x1576\\x9b\\xe7\\x16P\\xce\\xbchU\\x1d\\xd1`k\\xcb{\\xf7gO\\xa7\\xe6\\xba\\x99\\r\\xe5\\xf5\\x027\\x9a\\xb3\\xb4\\x03\\x95R\\x98\\x08\\xb7\\xec)>`2\\xbf\\xbb5\\x00\\x87y8,\\x98\\x02tTp\\xd8\\xee\\xaf\\x15.S\\xa7\\xd7\\x83\\x94\\x9e\\x13r\\x0e2\\xe9\\x18\\xdcYlv\\xec6\\x8d\\xcbV\\x88\\xd1@\\xe1{3\\xe8=\\x84\\xfc\\x10\\x1a\\xd7\\xca\\x18~\\x93\\x85\\x1c\\xf1\\x9b!e2h&7\\xb1\\xf2\\xcdT\\xba[\\xec\\x8dE\\x96{\\xd3M\\x16\\\\!\\xabl\\x80Y\\x05\\xb7\\xb0\\x05\\xc4\\xce\\xa7\\xd9\\xb3u\\x02\\x16\\x05\\xd6!A[\\xdc\\xd5c6)t\\xab[7\\x1cq~mpD\\x16\\xea}nr\\xb2\\xfdK\\xae\\x1e\\x7f}T*E6\\xfb\\xcd\\xe1\\x00]\\xb2Es^\\xbe\\x05L\\x9f%\\xaa%K\\x0b\\xd1\\xb3\\xc86wOJ\\xaf\\x9b\\xc3\\x13\\x906\\xbb\\xa3\\x1d\\xfaF\\xc3\\x1c\\xf4L\\x0e\\xb8&,;\\x06\\xa7S\\x8aU\\xeb\\x8f\\x1a\"6\\xd2\\xfa\\xa6?\\x9an\\xb9>\\xfc\\x0e[29A\\xd9\\x9d\\xf2\\xfa\\x83\\xdb\\x1f\\xf9\\xd3A\\xed\\x7f{\\xdd\\xa5L@9\\x85O\\xbd\\xebd\\xb6,*K\\x12F\\xa0\\xa2%\\xcai./$\\xd9`7\\xd7#\\x89\\xe80mV\\x10\\xe6\\x96;\\xec4\\xa1\"KH\\xfeba\\xf7c{\\xf3)\\xf0f\\xb2\\x9dc\\x7f\\xbd-G\\x93\\xc9\\x03\\x9d\\xc1J_n\\x0eI\\xb7M\\x8d\\xa7e\\xd9\\xe8\\x98\\xe9f*\\xcc\\xae,\\xd5O\\xd1\\xca\\x11\\x8fqk\\xd3\\xf7u6\\x813\\xbb\\x0c\\xaf\\x04*V\\\\\\xa7x\\xe7\\xbb5\\n\\xde\\x94\\x8a\\xc4\\xaa\\xf0n/;\\xf0\\x0cU\\x8fm\\xae{\\x94\\xf0\\xcc\\x93{\\x19\\x8d\\xfc0\\xd43(\\xbat]\\xe4\\x7f\\x9b\\x9c\\x9b)v\\xfb&3\\x9cOK\\x88\\x8f\\xe3\\xbe\\x1b\\x9f\\x19\\x83\\x18n\\xa6\\xb3\\xa7\\xb0\\x12\\xf8\\x1e\\x8b\\xaf\\xb7\\x9f\\x92:\\x0fy\\xc4\\xda\\xa0+\\xbe\\x02\\x19\\xefu\\xcc6\\xbee3\\x99\\xbe\\xd9\\xcd\\xa1A\\xb2\\x1d_\\xcdCM\\xd7\\x8eZ(i\\xce\\x1d2k\\x87+\\x8c\\xe3j;`_a<2\\xa9\\xe2N[\\xd5\\xa4\\xe3\\x1d\\x15\\xcd\\x9f]\\xbe\\xe0\\xb5\\xe8\\x1f\\x13,\\xdb\\xeb]\\xad\\xa6f\\x03!U\\x9c(\\xf4\\xb2a{\\xb3\\x07\\xdfq\\xd7\\x9a\\x1dx\\xde\\xfa\\xbd.\\xfb\\x88\\x1cTS\\xe0\\xe3H\\x8a\\xfd\\xf1(\\xa8&\\x87/\\x1b-\\xab\\xa6\\xfe\\xcf#\\xe1s\\x15\\xda-\\x93\\xbc\\x9b\\xfap\\x80\\nI\\x9b\\xbf\\r\\xa9\\xfch&\\x85\\xf0\\xdc\\x9b\\xa6X\\xba\\x97.\\x04\\xcb\\xeb\\x04\\xd0\\xa6c#\\xbf\\x88\\xe91\\xeb\\x8be)\\xd6\\xca\\xd8\\x8d\\x05x\\x0f\\x1dk\"u\\'\\x8f\\xea\\x96\\x96\\xb7Cp\\xe1L\\x90\\xb4S\\x80\\xd0MA(\\x80\\xc9\\xc7\\xf3\\xf8\\xdeT\\xc0\\xd9\\x93)\\xef\\x96\\x0c=\\x05\\xc9~I\\x90\\xef{\\xa3,P\\x87\\xa7Mue\\x9c4\\xf5%BB\\x19\\x90\\xb4H\\xb2\\x07\\x7fB\\x14\\x8e\\xb0\\xc9T,\\xaap\\x13\\x0fM\\x9e68?\\xef\\x11cj\\xa9\\x86\\x87\\x8d\\xd8\\xfb\\x1a\\xcb\\x0c\\x83\\x97\\xe2\\x14\\x04\\xbaK\\xd8\\xd3\\xe9\\x83C*:\\xcbm5\\xba>\\xbbsj-\\xdb\\x99m\\xa9\\x08\\xf3\\x90\\xf0\\xcfI\\x94\\xccN\\x94\\xecR\\xc7b\\x10\\xec\\xb7\\x8d\\xd9\\xecTQS\\xb8t\\x93yx:\\xc5\\xee\\xe9\\xcd\\xf7\\x06\\xc1j[RGA\\xff\\x06\\x07\\xd9\\x1c.\\xb0\"\\xe1ul\\xfd\\xa7\\xa0\\x93-\\xecB5\\x9b.\\xd1\\xbb\\xcb\\x06\\xdej\\xc0\\xdd\\xca\\xe4\\xfd\\xe6\\x94\\xa69\\xbe\\xa7!\\xfe(\\x8a\\xc0\\xe8\\xe3j\\x10\\xa1T\\xc4Ao=\\xe4p@\\xb1\\xcb.>K\\xecs\\x17\\xda\\xfb\\x9dq\\xbd\\x96\\x98\\xf3\\xf9\\xf0-\\x9c\\x02,P\\xf1\\xed\\x08\\xc7\\x9b\\x8b\\xc8\\xda\\x1b\\x8f\\xb0\\xd9\\xf4k\\x0e\\xf8\\xa6@K\\xe5\\xc9f\\xa7.\\x1bK\\x19\\xdc\\x02\\x11\\xa5\\\\\\xbc\\x95\\x9b4@\\x9aI\\xc7\\nI\\xb5\\xad\\x90}\\xb1\\x8a\\x1e\\xabR\\rV&[-\\xe7\\xa9\\x12\\xb1(\\x9e\\xe1\\x88\"\\x1eN\\xae\\xb0\\x05?\\xcd\\xc0\\x8a\\x0e\\xddZ4\\x88\\x0b\\xa5\\xf4\\xab\\xbb\\xfc\\xbe\\xb0R\\xd4\\xbf\\xaf\\xeb.\\x0c\\xf6\\x16\\x8d\\xca\\x95?YL\\xacOQ\\x7f\\xd4\\x85=\\x9dSx[r\\xa6\\x7f\\xd1\\xc4$og8s\\xaa>3\\xedm[!\\x1c\\xd1V\\xcd4n9\\xa6\\x9ebn\\xef&\\xa7\\x84:\\xf2jh\\x83\\xa4\\x0c\\xd0-\\xf6lU\\xde\\x1f\\xbf\\xf1\\x80\\x81?\\xd3Fc\\x03\\xa4zo\\x8d\\x88\\xa6\\xc4\\xde\\x01\\xf8\\xda%\\xcf\\xdd\\xe3\\xcd\\xb6\\xb5\\'\\x80(\\xef|\\x08$\\xc74e\\x1dk\\xd2N@\\x1bSI\\xa0\\xd3,\\xc2\\xa8\\xd1\\xc7f\\x0f\\xf7-\\x0eQ-\\xda\\xbby\\xc8q\\x1d\\x01\\xc6\\x90\\xd8\\xd6i\\x0b\\x9de\\xa9\\x11>\\xd3\\x87C\\xa2\\xab\\xc8\\x92\\xf9\\x13n\\xe2\\xcc\\xbf\\'\\xaa8LW|w<\\xea\\xc6m\\x858\\xa6\\xeaC\\xc3B5\\xd5\\xfd,\\x83\\xb0\\x10\\xa0\\xa2\\x92\\xe3\\xb1\\xbb?\\x15\\x03\\x8b\\x9cV9\\x1cF\\x8a\\x8cL;V9\\x14\\xf1\\x9c\\xa5\\xd1\\xc1i\\xddbx.\\x94\\x0beA\\xa4T\\x9d\\xe3\\xd0j<\\x8e\\xc6$\\xb2I\\xa5=aC\\xaa\\x1d\\x0f\\x1bq\\x82\\xbf3\\xbc\\x88\\xbf\\xb3?\\xfc\\x0c\\xdb\\xc8e\\x8c\\xa5\\x16\\x85\\t\\xf1^\\xb2\\x9b\\x82\\xf3{\\xa8u9\\x07\\x87\\xc5\\x8c\\xa2\\xa4\\'\\xace\\x91\\x98k\\xb6 D\\xe5\\xf8\\x9eZ*\\x8c\\x9aT[\\xbd\\xb3J\\xa7,\\x80x\\xa4\\xfe\\x1dN\\xb5S\\xb4\\x82\\x8a\\xe4\\xed\\x12\\xf7b\\rw\\x82\\x84\\xb0\\x0bsl\\x8ec{\\xb7\\xb7\\xa8f\\xdd\\x9a\\x1eY\\xcb\\xbe\\xa0e\\xf2\\x96\\x1d7\\x8exi\\xcf\\x86\\xb0\\xa4=\\x83\\xc9i\\xf3\\x11\\xce\\xcd\\xbb\\x8fA\\xfc\\x0c+\\xc1\\x91\\xb4\\r\\x96\\xca\\xe5\\xb5\\xa7gA\\xdf\\x0f\\'aKT\\x12\\xfb\\xc3\\\\4\\x85\\x8bo\\xc5\\x89\\xdb\\x96bvdg\\x08\\x15\\x15%\\x16\\x83Sll\\x05\\xd1\\xda+X\\x8c\\x8a}\\xec\\n1\\xd7S\\xde\\tA\\xfcB\\x00\\xe2o\\xcc\\xcf\\x00\\xe0\\xfd%C1\\xb7\\x99\\x0c\\x07\\x8b\\x1c\\xc7n\\xdc\\xfeZ\\xea@=\\x92\\x89\\xed\\xb4Oq\\x9c*\\x01u\\x13\\xdc\\xe6<m\\xc9G\\xbe\\x15\\xb9`G\\xd1{A\\x0b<\\xa6\\x9d\\xbc\\xc6\\xca^\\n>\\xaf\\xe6\\x90\\xa5\\x994S\\x91n\\xfb\\xfdq\\xa49nZ{]H\\xc9\\xb0E\\xd4\\x14\\x10_\\xe6V\\xb7$u\\x80dc\\xf31\\x15\\x95a8\\x16\\xdb\\xa7\\x85$\\xe8\\xa5\\x8c\\xe1 h\\xcd\\xe4-l\\x07\\x00\\x85Xm\\xe3\\xee\\x1e\\x9cdt\"l\\xacm\\x9ago\\x0b)\\x89\\xdd\\xc2\\xae\\xa9d\\xd7\\x8a\\xca\\x80\\xa2rj\\xeb\\xe6\\xb1\\r\\xb0y\\t\\xb7\\x82\\x12XG\\xdb{8R\\xd9\\x14]S\\x01\"\\x91Tw\\xdb\\x9b\\x99\\xab\\r\\x0b\\x9a;{\\x91{\\xf1\\xa4\\xf1q-UpS\\xbeKsJ\\x90&\\xf7Sb\\xe4\\x0e\\'\\xa9G\\xd3\\x0c\\xc1\\x8e\\xa5@\\x98z\\x97\\xc4Vff\\x95C\\x821i\\x17\\xa8\\xf1\\x10\\xae[\\xe7X\\x9d\\xc24O*\\xc8^\\xf0\\xdd\\x9bH[\\xd4\\xc2GR\\xda\\x84\\xc3\\xd8\\xc2\\x8a\\x99\\xce\\x97\\x8ej\\x1a\\xa5\\x8117\\xa3\\x87Hnn\\t9M]\\xb0JEu\\xb7\\x1b\\xad\\x02A\\x83]\\xc5\\xa03(A\\xa7\\x0eMQ\\x98\\xfdar\\xf7\\xd02\\xab\"\\xc7\\x8bE\\xd8\\xbby\\xc7\\xa2\\xcd\\xdd\\xca\\xb8\\xa2)\\x8e\\xae\\xa0R\\xdf\\x02\\xb4\\x04bn\\xcd\\xb8\\xbe\\xa3\\xaa\\xd7\\x07C\\xe5\\xf7Au8\\xb6M\\x9f\\x87\\xd4mh\\xd42\\x05\\x07/5\\xb3\\x97\\xbd\\x82o\\xad\\xf8\\xfa@A\\xe1(\\xec\\x07\\x1bI\\x0f\\xf3\\xfcT\\xf9\\xa0\\x17\\x15!\\x01\\xff\\xc7.YJ;7\\r+]\\xfd\\xed!\\xb0\\xb4\\xc9j\\xcbA\\x800\\xcb9Yr\\xcd\\x89w+\\x16q\\xc9\\xdc\\xf8\\x96\\x02T\\xf5C\\x02\\xb01j\\x947\\xbbt1R\\xb7\\xaf\\x90\\x17\\xbe\\x02\\x95\\xaf\\'\\xd8\\xc9*\\xbe\\xc8\\xc3\\xf7#\\xa4\\xaf6\\x8a\\xfb@\\x99\\xd7\\xa8\\x05?\\xbb\\xd6\\x1d\\x1a\\xa8\\x0c\\x9fX,R\\xdbY\\x98jF\\xe4(\\xb9]\\xa9z9\\x15cq\\xb6\\x14\\x14\\xb3\\x16\\x1as\\x13\\xc3N!\\xe5M\\xe5\\x8e\\x14:\\x98b\\xef\\xcb\\x8c,\\xc3g\\xee\\xf8}\\x17\\x19\\xb4G\\x89\\xc6\\xc3\\xea\\x18\\x9c\\xf8{q\\x1a\\x8dC\\xd4\\xbbg\\x1e\\xd0\\x85\\xa6C\\xc6\\x00\\x9e\\x96\\n\"5\\x99-Cc\\x85\\xa3^\\xdb\\x11\\n\\x9d\\xf6\\xd3\\xfbr\\xdc\\xe7\\xa02\\x14m,\\r\\x8fy\\xca|BQ%\\xcb\\xc0\\xb3\\xc5\\xfeN\\xf0W\\xe9\\x04\\xfa\\xa4\\xc7\\x93\\x1e`e\\xb42\\xa6\\x80\\xac\\xc3\\xa5\\xdf\\xdaRt\\xab\\x8bA\\x11\\xd0A\\xe5\\xd8\\x1e\\xcb\\x8bGB%\\xff\\x9f\\x83\\xd8z\\x04\\xeb\\xad\\x01O\\xf1\\x14\\xd0m)\\xbd;\\xa1c(S\\xd5$\\xd0\\x1c\\xad\\xeb\\xce\\x91|\\xab\\xdc\\xc4W\\x0c\\xeb\\xf5\\x17:\\x12\\x8cn\\xa3J\\xcb\\xc1a\\x7fx/%b\\xc4\\xae6;1\\xdb\\x0c:\\x85\\xb3\\x8cG\\x84\\xc7\\xa3\\x04\\xbc\\x0e\\x8da\\xfb\\xab\\x08p\\x15\\x9b\\x83\\x87N\\xd5\\x90B\\xd9\\x0f{4t\\x1di\\xa9\\xea\\xa2\\xd6\\x99M\\xc2\\xdaT\\xa2k6\\x11[\\xda}\\xa4\\xd6\\x07M\\\\\\xfc=X\\xd9p\\xaa\\xc8\\x8f\\x02V\\x0c\\xda\\xf6\\xb7\\xd0!\\xde\\x04g\\xcf(\\xb3&\\xda\\x0c\\xbf\\x9a1\\xf17\\xe2S\\xbe\\x93\\xff\\xd8/\\\\\\xe1L~X\\xf9\\xa8\\x1d6\\x94\\xe4,L:\\x87\\x9d\\xa9\\xbc\\xc7S\\xcc:\\xf4\\xaeU\\xf3\\xae\\xe81\\xcc\\xa2_^\\xa0\\x132\\x0f\\x9a\\xad\\xc0Y\\xe4\\xc9\\x08\\xc6Q\\xdc<LA\\xa7\\xfa\\xee\\xc3\\xf2bL\\xeb\\xd3\\xdf]\\x9e\\x1fw\\xb8\"\\xb2\\x13Kj\\xdd\\x14\\xb3\\xfd\\xcb\\r\\xbe\\xef\\xba\\x12\\xf7\\xf7 d\\x85\\x06zS\\xd9\\x9d{\\xb7\\xec\\x8d\\xce\\xc1Z\\xc8\\x07\\xab`\\x18\\x82=\\x9a&\\xe5y\\xe8\\xe5L\\xa1$\\xa3\\x95\\x1a\\xd6>\\x81\\xc5\\xc2-j-\\xf3\\x9c\\xc9\\x8b\\xb1\\x1a\\x8a\\x1f\\x17\\xef\\xbfns\\xb4\\x8b-\\x99\\xcd\\xd1\\xb5\\x8d\\xf0\\xf6\\xa8\\xc6&?\\xfd\\x0c]u\\x9bnp\\x9dx<=\\x9fN\\x01\\xd9J\\xf0\\x0c\\xfd\\xbc\\xf2h\\xa9P\\x08.\\xa1\\xae\\xa0$\\xda\\xb6)(z\\x01Tk\\x85\\xb1t\\xeei\\xe6H\\xab\\xb3\\x1cV\\x15!*\\x14\"[\\xb0;L3\\xd9@i48A\\xd8\\xca\\x87!\\xfb\\xf6\\x9f\\xe4#\\xe7Z\\r\\x9d\\xd4\\xa9\\xe1t\\x82z\\x17\\x97P\\xfc\\x91\\x01\\x1a\\r[\\xd8)Kb\\n.\\x99\\xb2y\\x8e\\x8c\\xa0\\x94\\xfe\\xa4\\xd4\\xcf,\\xdc&\\xb3\\xaalE\\x87\\x90\\xb6\\xdb\\xd4ca5\\xadhD\\x14\\x9c\\xe0\\xe8\\xcd\\x00\\xed\\xd6d\\xb5w\\x07\\xc8\\xed\\xd1c\\xee\\xe7^\\xf33\\xa8\\x9cz\\x166\\xa5N\\xbb\\x00\\x94\\x91l\\xc9\\xa5\\xf3Gi~\\xb6\\x82\\x1c\\xddz\\xeeq\\xa0\\xc7(\\xca\\xf3b\\xb4Eu\\x0c\\x8d\\x8a\\xb7\\x87\\xe0&\\x84\\xadi8V\\xf93L\\xb1\\x8f\\xb8\\xed\\xa1\\xd1j\\xdf\\xcc\\x1en\\xba\\xe3\\xa4\\xd7l&I\\xcc\\xda`\\xb0=U\\xf2>V\\x07\\x05\\xf4\\xa2\\xe0\\xb1\\xf2\\xabM\\xa5\\x946\\x10\\xca]\\xa5\\x91\\xb74\\x11\\x15\\x17\\x9a\\xad\\x80u)\\xbfz\\xf7\\x0c\\x10\\x1e\\xaexd\\xcf\\xc7\\xf5f<\\x17\\xd7\\xe7\\xd1TH\\x14S\\x05\\xd3\\xf1\\x88k\\xdf\\xd2,J\\x8b?\\xc3\\xd5c\\x852\\xb8\\xd7H\\x9dD\\x1e\\x9e\\xf9M\\x7f\\xc8v\\x8a\\xd5\\xd1\\xb4\\x93U(5\\x0c\\xd7\\xb7\\x19\\xd4y\\xec\\x7fh^\\xd3\\x97\\xfd\\xb3\\xc5\\x85\\x8eB\\xb6sv\\x93.\\xd1\\x90(\\xb6e\\x1b\\x04\\x91\\xb6\\xc0\\x99r\\xa2\\x99\\xaco\\xdd=\\x0e\\xa9\\xee\\xa7\\x12$\\x87\\xc46\\xe5+\\x14|\\x07\\x13\\x80e^\\xb3\\x1e;c\\x9bx\\xd7\\x8co9\\x85\\xc8jq\\xbd\\x92<o:(\\xe5\\xc6\\x9ab\\\\7P\\xb3\\x1e\\x05\\xf6t\\xd1u7&\\xd0\\xf4\\x93\\x979\\x1d\\x85\\r\\xa9C=\\xd8}\\xe3\\x88;\\xd8\\x140\\xcb\\x0bk\\xaas\\xe6#\\xa5K;\\xb3c\\xfe5\\xba;\\xd8\\xddw\\xef\\x96RK\\xc8\\xd91\\xab\\x19\\x87>\\xceH\\xe4\\xba\\xba<\\xf9-\\xad$\\x0e\\x8d\\xf7[\\x04P\\x10\\x87`\\x97M\\xefg\\x88R\\x0fe\\x0f\\xa7*\\xc5MV\\xeeT\\xf5}\\xaa\\xa3\\x19\\x92\\xe0\\xf2\\x08\\xb3PK|I\\xd0\\xba\\xf9\\x16\\x9d\\x8b\\x02\\'\\x0b\\x96\\xd4\\x11\\xf9\\xdf5\\xf1(4\\xf9c\\xae=@p\\xc6\"\\xe2\\x87.<y\\n\\xb2\\xd4\\x93\\xa9\\xce\\xcfX\\x1e\\xb3\\xd9\\xe3\\r:\\x96\\xd3H04\\x11\\x9d*t\\x7f\\xb5\\xe5_\\xcfG\\xe0v\\x16w\\x11}y\\xc6)C(\\xc9)\\xd2c\\x1d8\\x16\\x87\\xa1\\xd9d%9\\xdb\\x10[\\xd6\\x8a\\xa4u\\xc1\\xff\\xb2\\x01\\x87\\xed\\x80\\x12\\xc2\\xdc\\xd4G\\x92s\\x99\\xcdoY\\x00&\\x03\\xab8\\x9f/y\\xd2E\\xdcH\\t\\x80|h\\xa8,\\t\\xfe[\\x04Wj\\x7f3\\xec\\xcf}=\\x8a\\xfe\\xfb\\x07\\xf1\\x97\\xf3\\xf3\\xa2\\xf9]\\xfb\\xff]7\\xb7\\xa93A)\\xedw!Y\\x16^\\x8d.\\x0bG\\xdd\\xa0S\\x04\\x97\\x8b\\xc0g\\x91\\xb0\\x14\\x10;\\x86BL\\xca\\x9e=\\x1c\\xcd\\xc3\\xfe\\xb6\\xa7\\xc4^\\xd2\\xa3lh\\x0e\\xe5\\x8c\\x8e\\x02\\xcc\\xae\\'\\xe9A\\x0e\\xd5{\\xcaH\\x15\\xef\\xd6S\\xbb*\\x82\\xeaV\\xafD\\xcbd9q]|\\xdc)>\\xb8\\xb3\\x00]\\x19\\xb1\\x87*\\x87\\xf7\\x00\\xe5\\xbc\\xd4\\tn\\x17o\\x1b\\xe3\\xe1V\\x08\\xa3\\xb8\"\\xa6h&\\x9dER\\x9d\\x99T\\xd4#\\x1a\\xeb\\xe2l\\xf2\\xc6\\xd4[\\xb0Mr\\x92\\xd0d,\\xbb\\xa0\\x8d\\xd0Us\\xaa\\xf2/\\x95L\\xed\\x95V\\x08\\x7f\\xe6\\xc87\\xeb\\xe359\\xb9\\r\\xe57F\\xa7\\xbf\\xbe=>c\\xe9\\x1b\\x91\\xb6\\x1dg9@\\x04\\xf0;3\\xedE.^\\x05\\xda\\xd3\\x94g\\xd1\\x96\\xe7\\x1cp\\x9e]\\xb3\\x81)\\xea\\xa7\\xd9d\\xbe\\x0b\\x88\\xe4@O\\x90\\xe3\\xd2\\xdf\\xf6\\x80\\xba\\xd6\\nK\\x1b\\xdb\\xe4B\\x8b5n7C\\x1bj\\\\\\x1cS\\xb6\\xd3\\x1c<v\\xda$\\xb7\\xa6\"\\xdbTa\\xb1\\xa4\\xd2\\xc7<\\xe7;\\xec~]\\x98\\xf6&K\\xa9\\xdc&\\x9cR\\xe4c\\xd3\\x92\\xa9\\xa9\\xe9\\xb5\\x9a\\x0b\\xdb|L\\xb8\\xceI\\xe9\\x10\\xd3\\x13D\\xe5\\xa7\\xaeZb8\\xa0\\x99\\xd2\\xba\\xda\\x90\\xf1gN\\xb75Y\\xa9\\\\\\x0f\\x8e\\xcf\\x01\\xa2\\xa5h\\xa2E\\xc1\\xd8\\xa5\\x10\\xe0^Zh$[_\\xe5\\xb5\\xd7\\xe3\\xe9\\x1a\\xf0\\xa9\\xe95\\xd5\\xd3\\xed\\xe2W4\\xb0J\\xeb\\xb0/!\\xf9\\xbdAu#n\\x12jD\\xc9\\xb4\\xd2\\xc8\\xd4\\xdd2O\\x19\\xfe\\x92$\\xdf\\xa4\\x995j\\x1b\\xa9/N\\x89\\xa6\\xe7AS\\xa9`\\x8b\\xfa\\xd8\\xb60\\xee3\\'\\xbfx$\\xe5\\xaa\\x97x\\x04\\xe7,\\xc1JK1\\x9b\\xe5\\xa06U\\x9e;\\xf3g\\x8b\\xe6_\\xeb\\x1f\\xe2\\x8f\\x0f\\x95\\x8a9\\x1d\\x8f\\xcf\"\\x8eu<z\\x03\\xa2W3\\xcf(S\\xa0\\x9b}\\x93\\x90jZ\\xb44VK\\xedaV1\\xe9\\x11r\\x10C\\x1b\\x89\\xa9\\x1c\\xc6\\xe0\\xf6\\xc7$\\x9b\\x99\\x87\\xf0{\\x93|\\xaeC\\xc3\\xcf\\xa5\\x01q\\xdaR\\xdez6\\xcd\\xe3\\xc9jO\\xfe\\x16\\xfb\\xef/\\x8dF\\xd2\\xba\\xe4\\x1c\\x0favG\\x97\\xc1Y\\xd0\\xfe\\xa7\\xd0\\xa5\\xb5L\\x7f\\n\\xe5\\xd3N\\xc6d\\xf3OY\\x8f\\x99\\xb4Gfj\\xff\\x9e\\xa6\\x1eG\\x9cYi\\xa08y\\x1e\\xbbNMI\\xf3\\xab\\xf1:\\xcfG\\x1cg\\xa4\\xa3|\\xc7\\x88sj\\xc7\\xb0\\xf9\\xd5\\xb6\\n\\xa3D\\x08X\\xd1\\xb5\\x96;\\x1fe\\xe8%Wj\\xeb\\x10\\x13\\x9a\\x8a\\x0c\\xfd\\xeb\\x1a\\x87\\xf1x\\x94\\xd8\\x97\\x06\\x17\\xa9\\xd4\\xbf\\n\\xfbz\\x95o\\x15\\xb8\\x14\\xa2\\x18\\x05\\x03\\xee[\\x8b\\xd0\\x97\\xd69Z\\x14\\x1a|x\\xb8\\x94\\x07Z8\\xd8\\x94\\x88\\xd3n\\xf8\\x17\\x97\\xf7\\xba\\x13AR9\\xde\\xcb\\xab\\x7f\\x08[\\xb4\\xae\\x87\\xfe\\x7f\\xa5Oo#\\xbf\\t\\xdfjSe\\xfa\\x0es\\xa1K~N\\xa3K>E~\\xd5\\xf9\\x81@{\\xe9{\\xab\\xcc;E\\x82\\xaeB\\x19\\x16\\x16<\\x8fg/\\xd9\\xf1.&\\x19\\x1e\\xc6)#`\\xd9\\xf0\\x0e\\xd7d\\xc8\\x8c9\\xab(;\\xf14Nc5\\x84UL\\x96\"W\\xb9\\xb1%u(\\'_z\\x84\\x01\\xafe\\xdb\\xb4\\xb4\\xce,z\\x95\\xdb\\x9a\\xa1<t\\xd1\\x91\\xebZ\\x82L\\xd5\\xb2\\x8b\\xbd\\xf9S\\x1a\\xab\\x055\\xc5\\xc1\\x92\\xc2\\x93\\xef\\xbd\\xb1\\x8c\\x83L$:\\xe7\\xea\\x11[\\xb4\\xf5z)\\xae\\xb9q\\x04B\\x14\\x0c\\xb8w\\xdbUTi\\x06\\xa0\\xaf\\x92\\xee\\xeb\\xe6\\xca\\xa0Z\\xaaK{Ts\\xd2\\x8adY\\xe3\\xa7\\x02F\\xb3\\xa0\\x9e%\\x81\\x8dF\\xe7%\\x8e(\\xbb.\\xb8\\xa4\\x18J$1k+eR\\x9c\\xc55#\\xefzb\\r\\xcb\\xf3-\\x95a\\n\\x8a\\x1a\\xe2\\xa4\\xf7 X,]>\\x15\\x19\\xa1\\xc94=\\xabR\\xf8\\xfb\\t\\xda\\xa6K\\xcf\\x8fA\\xa4\\xcd\\xedX\\xfa\\xd0\\x0e\\x12\\xf4\\xe9\\xa0H\\xf1\\x8b\\xb6(\\x83\\xce$\\x89[II<\\xb5\\xe9\\x9a\\xc5\\x85\\xd7\\x19\\x06\\x87\\xce\\x94\\xe1\\x1b*\\x8bw\\x8d5\\xc2l\\xab\\xf9(\\x9a<\\x91^\\x8c \\x8c+\\xa3\\xf3+\\xcdj\\x7fop]c\\x97\\xfa\\x85\\xcchj^\\xb2\\x8bF\\x97\\x1e*\\xe31FN%\\x99\\'-\\x97)\\xff\\xf2\\xe6cl\\xce2\\xc11\\x81\\xf8\\xaa\\x08\\xbdn_\\xd3\\xa3Pu8\\x1fI/\\x05]\\xa7\\x1d\\xc7Q\\xb1[\\x85\\xea#kx/\\x0e\\x95\\x9b\\x15\\xd3\\xddn<\\xf4\\xf1\\x10f\\xb7\\xece\\xbbK\\x8bD\\xb1\\x17\\x18\\x9cz,CJ\\xd0\\xd8\\x84\\x88\\x14\\x03Zx\\x8dy\\x9a\\xc1\\x8dY\\xd3\\x12yr\\xa3.\\xfb\\x8f\\x06\\xa7t_\\x8d\\twS\\xad\\xad\\xd9\\x876\\x06\\xb7b*h \\xd2\\x95j\\xd9$\\xecr\\xf4\\xfb*\\x86\\x03\\xac\\x03\\x85\\xda\\x8f\"\\xeb\\xcd0\\xb17+\\xf8F\\xa2\\x7f\\xbd\\xd7\\x96\\x9f\\xa4\\xf8\\x0c\\xea\\xe7(\\xea\\x91\\x9b\\x04-\\x97`\\x1f\\xb1\\x15S\\x81\\xfc>\\xca\\xdd\\x14\\xe4!\\x19mdI\\xd04+\\x7fd\\xa55\\xfb\\xce\\xe6\\xe2M-\\xa7\\xa6dC\\xf2^B\\xe9\\xa6\\xad\\xf8mj\\xa99u\\x86\\x18\\xbe\\xec\\xfd\\xb0\\x08\\x8b\\x15\\xc2\\x11\\x90?\\xc2y\\x93\\xd8\\xba\"L89\\xf7i\\x0clu#\\xc2\\x055\\x1d.\\x1d\\xeb\\x92V\\x08\\x9d\\xfaP\\x87y\\xe4R\\xf2,&\\xb3\\x80\\xcd\\xf3<\\xfa\\x9a\\x1dE|\\xbb\\xc8\\xbae\\xe2\\x9d>\\xad\\x9b\\xac\\xd97R2o\\xb3V\\x96\\x1d\\xe1\\x93\\xdc\\xfd\\x8d\\x89\\x16\\xb2|\\xc7q\\xce\\x18\\x92Y\\xd2l\\xbe\\xa0\\x02OT\\x9c\\x17\\x1d\\xcfYRb \\xa4\\xd3\\xa3k\\xa7-a\\xc5\\xccc\\xdbM\\xf0g\\xa7\\x8a(c\\xeb!\\xf3\\x109\\x8b\\x8cj{H)\\xa6\\x14\\xd8a\\x7f\\xa1\\x08|\\xa4\\xa8\\xa2\\xa5\\xbaK\\xd1g\\x18]\\x12\\xcd2\\xe7\\n\\xf1\\xe7\\xf2\\xda\\xaa\\xb6\\xbd\\xe2\\x1cS\\x98\\x91f\\x00\\xda\\xe3\\xf4\\x7f\\x83g\\xcb\\xe4\\xa3\\x0c\\x10\\xb6\\xc4\\n\\xb1^}\\x1e\\xf3:\\xe7QJ:|\\x8b\\xf4\\xd7\\x8b\\xd4Sm\\x8b\\n\\x89\\x87f\\xf7J\\xbe#B\\x03C[\\xb7\\xf1+\\xeb\\xd5>\\x1a^\\xe7)v8\\xa2\\r\\xa7\\x82\\xf0\\xb6\\x11\\xcf\\x90\\xcek\\xabv\\x08\\xd2\\xee\\x9e\\xf0\\x1a\\x01\\xf6\\xe2G%\\xddp\\x1d\\xf5\\xea\\xc8\\x15S\\xb9\\xd1\\x0c5s;qo\\x9bn\\x0f\\xe5\\xfc\\xb2`\\x8e9\\xee\\x8bXd\\x81\\xbfjC\\\\:\\xf0\\x85\\xf6&/C|\\xe2\\x08>X\\x8el\\xa2\\xbaJ\\xb2_\\xb7x\\xc5\\x87\\xdd\\x18\\x0f\\x8f\"Z\\x19i\\xd9a\\x151\\xb4\\xb5\\xc2\\x1b\\xba\\xe8\\x16%\\xda\\xf8\\xb5\\xde\\x8a\\xcf\\x07K\\xeeK1pRza\\x96\\x91\\x06s\\xfd%\\x9fF\\x81\\xa7e\\xc2\\x7fK\\x04\\x16\\x86\\x8a!;\\x8b\\xb2\\xb6\\xb4\\x03\\x13\\x8a1\\x94@\\x08*\\xb5\\xdd\\xd41.z<\\x95\\x11`\\xa1Q\\x8az\\xa5\\xcb\\x1c4E\\x17Xx\\x8e\\x8b\\xb8\\x0c#\\xc8\\xeaFj\\xa1QX\\x18\\xe6[\\xd9\\x8b\\x0f\\xa0\\xc5\\x08Oc\\x17Ep\\xfb\\x83\\xa2\\xd3\\x0b\\x86\\xed;v{mpZ\\xfa\\xd3\\xc4q3/]\\x87vY\\xdf:\\xa7\\n;\\x94\\x192=\\xf9\\xa6\\xef=6\\xb1\\xac\\x95NqgL\\xd74\\t(9\\xdcp\\xb2\\xd7\\x0fa\\xa2\\xfd2\\x19\\xf2\\xe3\\xa7\\x16`fn\"\\x00{k\\xeaY\\xb7\\xa9n\\xb6\\xf2\\xa6\\xad{\\xac\\x0f\\xc6?\\x99\\xf6g\\x96\\xbd\\x15]\\xed\\xba\\x12\\x00\\xbb@f\\x04,\\x90\\'v{\\x0b\\xa3\\x93+\\xac\\xa3?\\xc4C5\\xbdE\\xff\\xfc\\xfa\\xe6\\xf4\\xbf\\xb6>\\xeb\\x8b\\xaa~S\\xe6w\\x1d\\r\\xf7/\\xbaq\\xff\\xad\\xcf\\x12$\\xbc7\\x15u\\xc5tw\\xe5\\xf8\\x8e\\xa0\\xf7\\xdd\\xac(-\\xfe\\xba\\x0e6)|6\\'u\\xc4\\xf1\\xdd\\xcf\\x14\\xdcc\\xcd9\\x97\\xa8\\xef\\xa4\\'\\xb1\\x8b<\\x86\\xe2;{S\\xea\\x8e2\\xe6m*\\x1cMN\\xc8\\xb3\\x95\\xcbW?,\\xf3\\xa7\\xfd\\x12\\xcf\\xdfn\\x9f\\xf9\\xa9u\\x13_\\xbb\\x05\\x1cF\\xfc$\\xec_\\x0f\\xc3\\xed\\x00\\xb0\\x97\\x85h\\xaf\\xe8\\x86N\\x9b\\xa6\\xd4\\t\"4v\\xb0\\xa3n\\xba\\xc9\\xd9\\xb3\\xd9\\xd9\\xaf\\xe5\\x7f\\xaft~\\xd2%s\\x17v\\xd9\\xd4\\x9a\\xba\"\\x82\\x0b\\x12\\x89b5\\xd90\\xab,\\xe5S8\\xa7\\x82\\xef\\xc1N6\\x85q\\x8ap\\xf1Q\\xb1o\\x08\\x13i\\x9a\\x9a\\x1f\\xcf\\xfb\\xdczs\\xfe\\xc2\"\\xfa\\xdf\\x19\\x9f\\x9e\\x0c\\x81\\xbfK?+d\\x0cmj#\\x85\\t\\x15V\\x84\\xa6\\xb4\\xd2\\x81\\xba8\\xbe-\\xb8\\xa0\\x957-\\x85T\\x9d\\xb6\\xafr\\xe0\\xeb+$\\x02\\xab\\xaa9\\xbc3\\xf9\\r])\\xafn\\x8fk\\x17\\x07c\\x919\\xb7\\xb2\\x07>W4\\xc6\\x1e\\xf0\\x99c\\x19\\x075\\xf1\\x1bj\\xb3\\x87\\x8bE\\\\\\xc5t\\xe2\\xba\\x9f\\xe2\\xc0g\\xc6)\\x11\\xe3\\xebt\\xf7\\xbaPm\\xb8\\x1e]\\x1d\\xa6&eRcS\\xa0\\xceT\\xc5$\\x1f\\x9a\\x14\\xa3\\x9b\\xd7\\xe9;\\xf2k5\\xf4U\\xb2\\xf8\\x92x_\\x8f\\xd4Yh\\x8a\\r\\x1c\\n\\xb0\\xdc\\x9c\\xc9\\'\\xe8\\x00zjPT\\x1av\\xc7E\\xad\\xd8\\xe0V\\xba\\xc1Q_\\x91\\xe1/8\\xf6\\xb5\\xc8\\xb2\\xa6\\xbf\"\\x0eyy\\xf3m\\xca\\x98\\xd4_\\xbd+/\\xd2\\x9d\\xa6N-\\x8a\\xba\\x8d\\xd8\\xadw\\x82P\\xa8\\x10E{\\x0ek\\xa1\\x8d\\xd2 \\xd6\\xd2O\\xdf\\xc4\\xb6\\x15LP\\xa2\\xa4o\\xfa\\x86\"\\x8e\\x8a\\xbeH\\x93\\x05\\xdd\\xa5Z\\x0f\\xad\\xa9\\xd5\\xcf_\\xa9\\xb8\\xe5\\xe3K\\xd1\\x1f\\x8bj8~[\\xa6\\xf1\\xe9\\xc6\\x14G\\xc8\\x15\\x84\\x9a\\xef4\\xfa\\xf5\\x81ey\\xd3\\x88$%\\xf7\\x1f%4\\xc7q\\x87JJ-\\x14\\xf0\\x99$a\\xc3r.=!\\x96\\xce?\\xd3Vv/*\\xc1\\xab\\xdc\\x9cq\\xf306kvKN\\x91\\xb2g\\x80\\xea\\xe6\\xea\\xa7\\x1a\\xae\\x0b~\\xe1+\\x84\\x10O\\x01\\x00\\xdb\\xa4\\xa6M]\\xa3\\xa6\\xba)\\x93\\x9a\\xa7\\x88~41J\\x925\\xba\\\\\\xa2u \\x9e\\xdcB^|\\x04\\xa1g,1\\'\\xcaT\\x9eF\\x93b\\xe8p\\xd14L\\xd9\\x8e(\\xba\\xdd\\x81\\x82\\x82[:\\xc3\\xb7\\xae\\xa0\\xa6q\"\\x8fe\\xe4\\x12\\xea\\xa27\\xdf\\x00\\xd8\\x1d\\x8e\\xec\\xef^rBOQ\\xd4\\x9co\\r\\xe1\\xb2CAV\\x9b\\x8c\\xa1\\xfc\\xc4vT\\xd0\\x87=\\xfbE\\x1fhZ\\x03\\x15^y\\x13\\xaf\\xf6h\\xf0w\\xc4\\t\\xfc\\x82\\xd8\\xdb\\xdfj\\xff\\x10Tx=\\x8eG\\xcbD\\xb5\\x0b\\xef\\x91\\xca*M\\x1b\\xdb\\x85\\x9b\\xb1K\\xc0W\\xfe\\xe7\\x94LP\\xca\\xa9\\x06\\xf4\\xe7\\xdf\\x18\\xc939\\x12,\\xfd\\x05N\\xbc\\xb7\\x0fY\\xdb\\x91\\xab\\x1f\\n\\xc0\\x14e\\xe1&k\\xb7\\xb03n&\\xcd<FY\\xafH\\xc1(\\x14\\t7t\\x88&2\\xa1\\xd7\\xafv\\x05E\\xd2Z\\n}\\x85\\x90\\x0f\\xfd?\\x8a\\x8e\\xd5\\xd0\\xb0\\x91\\xdew\\xb1.\\xd9\\xb67\\x1f\\xc7H\\xe6p9\\xe89lA#[C\\xb0\\xb6\\xf5\\x15HbK\\x19\\x00\\x8e\\xa22X\\xf58LJ\\xb6\\xd2\"\\xca\\xd5\\x8b\\x19\\x9c\\xf4a\\x97\\x16k\\x03_\\xe2Vg\\x03\\xa1\\xb9s\\x8a],z\\\\M}\\xf6n \\r\\x85\\x88\\xbbt\\x86)yeo\\xc7\\xeb\\xba\\xd2-m:\\xbaV\\xe7\"\\x18\\xda\\xa2#\\xe1<\\xa7\\x93,\\x8d\\x87D\\xa7\\xf9\\x17\\xbd\\x15d\\xb0\\x03\\x1e\\xb9e{H\\xf9\\xd3\\xd5$\\x9bY\\\\\\xd0\\x9c<[m\\xb6\\xa9\\xd1\\xb9\\x13\\x9c\\xd3\\x99\\x167e\\xd4\\xf6\\x12\\x815\\x89\\xb4\\xb9\\xed{\\xa8\\x0fx\\x96\\xd2\\x17\\r\\xc8\\xc2T\\x1c\\xfb\\x9e^\\xd6\\x11\\x9aN\\xab\\xe3\\xa3\\xc4\\xf2\\xb6\\x195\\x8b+\\xb5p\\xc7\\x1d\\xbc\\x96(V\\x17K\\xaeG\\x93\\xb3V\\x10\\n\\x8f9\\xc6T@h\\xc1Y[B\\t\\x07\\xaf\\xa9\\x0b|\\xbdq\\xd6\\xc6\\x91\\xafiQ4\\x85\\xc6\\x80M\\xc7\\x9a\\xde\\xccQ\\x17\\xaf\\xba\\xc8\\xaf\\xaf\\xc7\\xcc%H\\xd8\\x9bf\\x94\\x92\\x06\\xb4\"\\x8aj\\x82\\xc3\\x9b.\\xde\\xe1{\\x88\\x93\\x0e\\xc5G\\x1f\\x85C\\x17\\xfd\\x84\\xad\\xbc\\xf6\\xdd\\xa1D\\xc5b\\x93\\xa8\\nV.vB\\xd81\\x9f\\xa5\\xab\\xe8\\xd4\\xa6\\x85\\xfe\\x1a\\n,\\x1e\\xd1\\xae\\xdf\\xf1\\xdd\\xeb\\xd2\\xcd\\xc7\\x0f\\x18\\xb4\\xf0\\xe0\\xd9\\xd4\\xba\\x85\\x1b\\x1c>\\xe2\\xe9`\\xbc\\x97\\x93\\xe7!\\xe9\\x8f\\xe3)k\\xae\\xb4\\xf4\\\\\\xdb\\xca\\\\\\x84\\x19\\xfdTBWT@v\\xd2\\x98\\x9d\\x84\\x92\\xa3j\\xeaz\\x80\\x1e\\xa4\\xb8{\\x85\\xecR\\xe3\\x90B\\xf4]\\x12\\xe9\\xf7\\xb6\\x07;\\xd8\\xd3\\xf7\\xa4\\xe2\\x08}\\xc8\\x8b\\xef\\xcfr\\x1d\\xc5\\xd8mh\\x1f&\\xb6\\xe7\\xd83L>\\x18O7\\xb4\\x88\\xb8\\xd2\\x92[\\xcc\\xcd\\xb0y\\\\\\x81<AF\\xdbE\\x9e\\x0f\\xbb\\xb0\\xc7^p\\x9a\\xa3\\xe5S$\\xc0l\\xed\\xda\\x96\\xcd\\x12\\x9eZ\\xd1&\\xd3\\x9d\\xe585\\xf4n\\xc36c\\x97\\xd9\\xdb\\xa5\\xb8\\xb7C\\xa6s\\x06\\xffdV@#h\\x97t\\x088\\x16\\x9bx\\xdb2m\\x9eUg\\x9a\\x1e9\\x9ek\\nf\\xecb \\xa5\\tS\\xd3\\xb4\\xa3\\x98\\x96EA\\xe2\\xa6\\xed\\xcc\\xad\\xf9\\xa9z\\xe5\\xd3d\\xb1\\xab\\xe6\\xb0B(e\\xb1\\x1a\\xec4\\xec\\x86v\\xf3\\xcb\\xfd\\x13\\xc4\\x9f\\xb1\\x84\\xd1\\xf4\\xd7\"\\x1c\\xbb:\\x7f-+\\xad%2w\\x06]\\x87\\xd4\\xa3>D\\xe6F\\x01\\xd7\\x1f\\x0e\\x92\\xf4^f\\x99O-\\xc7B\\x1a\\xf8-)\\r\\xbf\\xe2u\\xdfI\\xe4\\xec\\xba\\xb6o\\xf5\\xee\\xb4\\x96\\\\\\xc7\\xa4=)ow\\x0b\\x93rO#\\xdb\\xe3\\xac\\xd2=\\x94@\\xe8z\\x879T\\x96-\\x13\\x02K\\xb7\\t\\xd4\\x8a^zV\\x04B\\xab\\xd7(V\\x06\\x92RcqX\\x9fFAw\\x1e\\xce\\x9aV\\x06C\\x87\\x82\\xaeP\\xf1\\xa6\\x1d\\x06\\xe5&\\xef!\\t\\xa4\\xef1\\x9f\\xb4\\x0e\\xf8N\\xf2\\xdf\\x0f\\x8c \\'4.\\x0c?]g\\xcf3\\xe8\\x0f\\x14\\xf1\\xdb&\\xc9\\xb2\\xab<\\xda\\xc5\\t\\x1e\\x11\\x8eK0\\xc0\\xb2V]\\xbe\\xfb\\xa17\\xdfq\\xf6?\\x8e\\xc4\\xbb-joq\\x1dC\\x1a\\xef\\xd2l$\\x1f\\x87%\\xbf_\\xda>\\xdfau\\xfa\\x8b\\x96\\x8b\\xf5\\xf7\\xec\\x8f\\x018\\t\\xb5\\xf4\\x9f\\xf30H\\x8c)\\xe6n\\xaa\\xdc\\xe8\\xc0|/Zt\\x85\\x90p\\x0bG\\x8b\\xf1e\\x01\"\\x03\\xd0\\x7f\\x12S\\xda\\xf2$\\xe5\\x0e\\xc7\\xe3K\\xd1\\x9aT\\xac\\xef\\x0b\\xb1\\xff\\xfd`$#\\x95\\xd6\\x08\\xd0]\\x11\\xeb\\xe9\\xdc\\xbe\\xe0\\x1c\\xba]\\x82>U\\xa7k\\x0e\\xf25fo\\nOt\\xd3_\\xdbTE\\xdc\\xb1/\\xfb\\xc4\\xca\\xd9\\xee\\xa1\\xe0\\x81\\x82\\x99\\xc919\\x07\\xcf<\\xed\\n\\xc7.\\xb7\\xa6\\xfc\\x9a\\xc4\\xd5s(\\x82\\xf3Q\\xfe\\xa28Hi\\rb\\x97\\xa5Z\\xb4\\r&\\x15C\\xee\\xeb\\xd4\\xb6\"vI+\\xd4\\xce\\xa9\\xa31\\xe5\\x89\\x1e\\xcf{\\xf9\\xfaR6\\x96\\x9c\\xa1\\xdc\\xe6\\x94\\x92\\x96C\\xc1\\xf7\\xad\\x03\\xd9W\\xbe\\xfcu\\x1dr\\xb9N\\x97\\xbb\\x14\\\\z?\\xdd\\x05Vl;\\xb5\\xa3N*\\xc3)\\x9dxh\\xdd\\xd0\\x8b\\xf2Ki,\\x98\\xcb\\xd8\\xc1\\r\\x05#\\x8e\\x18V1s\\xe3\\xb7\\x9c\\xff\\xcekW\\x08\\x07\\xb0\\xc3\\xd6\\x87m\\x17G\\x9a\\xb7X\"yqr\\xa1\\xed\\xd9\\xdd;\\xef\\xc7\\xd3\\xccf\\n\\x12\\xe4t\\x92\\xbfc=\\x91\\xda\\x99/\\xed\\x11\\x8e\\xd8\\xbd[\\xaf[\\xc51R\\x12\\x1c\\xaf\\xb7\\xec\\x9cj\\x85\\x14\\xed\\xc2\\xc6*\\xde\\xc52}\\x95;\\xa1\\xb7\\x13\\x07\\xfc\\xed\\x96\\xbf\\xfe\\xc5\\x8e\\xbc~\\x05\\x95\\xa4\\xf9\\x90r.\\x19\\r[=\\xbe\\x1eJ*K\\x04\\xb4\\x98Xv\\xba\\xfa,);\\x91wt\\xaa\\xd1\\xbd\\xa5\\x9e\\x0c\\xbf\\xf4!\\xc34\\xd1-><z\\x0eE\\x97\\xe8&\\xb2}\\xe9\\x15uT\\xfb\\r5\\xee\\x86\\xe4\\x9f\\xc2+-\\xb8@]c\\xf3\\x11\\xc2\\xa8z\\xf4`\\x96\\xbd\\x8e\\x96\\xd3\"\\xb7R\\xbf\\xb2\\xb9\\xc0T\\xc5||I\\x8e-\\x9a\\xfak\\x8fdU\\xa9\\xe3z\\xeeD\\xd0\\xb9\\xd8E\\x1c\\xdf\\x00(\\xebo\\x08K_\\xf2\\xbe\\xba\\xf0\\'M\\xce\\x03\\t\\x98\\x8f\\xc50\\x00\\x83b\\xa2\\xa1\\x91_\\x16\\xb6\\x86\\x121\\xba\\x14\\xb7)\\x81V9\\xa5\\xb1\\xe4U\\x96\\xd6\\xc7\\xaf\\x1a]\\xfb\\xc0\\xac\\x0f\\x81zX\\xa7\\x1e%,\\xf6.\\x84F\\x07\\x1d\\xc5\\xa7%\\x05\\xdc\\xa5\\xadW\\xd9\\x03\\xa9\\xc1\\xc5*A\\xd4c\\x8b\\xc0\\x9d\\xa1\\xb0\\x88\\x89\\xd2\\xd1h~l\\r0DP\\xc5\\xa6\\xd0_\\x8a\\xff\\xe4T|\\xcc\\x1a\\xb2Z\\xa0\\x0e\\x81\\xdb\\x0fg\\xce\\x90O\\xbc$\\t\\xaa\\xb4\\x16\\xe6\\xeaG?\\xea\\x90\\xcbz\\x1e\\x10\\x1a\\xd9\\xd5\\xaa\\x15H\\xb3\\xc5\\n\\xb4\\xe2u\\x97\\xca\\xcc(\\xb5\\xadC\\xecV\\x18zoM\\x88\\x95H\\xdf\\xb65\\xf62\\x05\\x16\\xc9\\xdbl\\xd0L\\xf9\\xc3\\xcb\\xdc*lW\\xd6\\xbfP^y>\\x8c/\\xfb\\xbf\\xb1:(\\xe5T\\xa5\\x18io\\xc4\\xc2=6+}u\\xc0\\xf4y\\x14\\x0e0+\\xce\"\\xfci\\x1f5\\xe5\\x1b\\x9c\\xcd\\x85-\\xd9\\xc0\\xeb\\x18\\xb2\\x0e\\xfd\\xdcY\\x12\\xc5F\\xf3h\\xacn\\x1c, \\x0f\\xc1I\\xca|}[\\xd1\\xaf{\\x19\\n(\\xe9E\\x96\\x1a\\xf5vm\\x1f\\xbb\\xebx\\x0b\\x81:\\xe2\\xa1\\x9b$S\\x1b\\x0cSo\\xf6Y\\xc4h\\x1d\\x1fm\\xf1\\x97\\xb9\\xc9\\xea\\xe8\\x0c\\x8db\\x96\\xa0@\\xf2\\xb4F \\\\\\x91y\\xb6\\xe6\\xea\\x13\\x7f\\x1d\\x95\\x13\\xcf\\x06\\x16-\\xdc\\xf4\\t\\x0c\\xad\\x16i\\x89d\\xf1\\x11t\\x00\\x9d\\x1e\\xc1S\\xba\\x7f\\x13\\xe8\\xd4\\x841\\xddB\\x87dV\\\\\\xaf\\xb8\\xd4/}\\xe4\\xf5\\xb4\\x1fnu\\x0eOm\\xe1\\x1c)9\\xf9+\\xfb\\xfc\\xfaYe\\xa5\\xb4i\\x1f\\xed\\xf1^\\x0b\\xf6\\x95\\xe6\\xd7\\x14%\\xdei~\\xed\\xc7\\x1f\\x19\\\\\\xc5/\\xa0\\xbb\\xfdE\\xff\\xc4\\x10\\xdb\\x83,\\xc6\\xa62\\xcbY\\x9c(\\xdb\\x94e\\xbb\\x99\\xf7Q\\x1c\\xc8\\x9d\\xb8\\x1c\\xa0\\xce\\x94\\xf7T\\xac=m\\nte\\x1b\\xbaG]hq\\xb7\\x96\\xf0\\xa0\\xd2]OH\\xcf]\\x19\\xd6!\\x16\\x7fj\\x97\\xb5\\'\\'\\xd9)Phg\\x86\\xfd\\xf0+Y\\xbe\\xa3\\xaaK\\xb1\\xe2\\x1a\\xed\\xb1\\xd9\\xc9Y\\xa6\\xc2\\x9ce\\x90\\xbb\\xaag\\x92=\\x00\\x85\\xd95\\xe81\\x13\\xef\\xa9(\\xab\\xce\\x8d\\x8b\\xa3Q~[\\xa8/\\xd0-l\\x8e\\xd2q\\xc7\\xdea/\\xd5\\xd2rw\\x1d%e\\xb4\\x88\\xe8\\x0b\\x11\\xa3\\x9b\\xd1\\x81\\xd5(\\x91yJ*\\xd3s;\\x9b^\\xf22\\xbc\\xbf\\xdae\\xaf\\xe7\\xf3\\xa8\\xa6`N<S\\xde\\xa1\\xe6\\xe0\\x85\\x1b<\\x8fHC\\x8da\\x84vna:\\xc5%\\xee\\x0b`x\\xfd\\xc8R\\xc0zR\\xe6\\x9eI\\x9f8\\xd42\\x1fr\\xe6\\x96\\xfd3\\x05On\\xbdD#Y`}\\x14zq\\x8aJu\\xc66\\x95:(\\xdeLE3l\\xe9%+\\x1d\\xfbkK\\xfdz^)I\\xd3F\\xc2\\x92\\xdb\\xb1\\x15\\x98\\x9f\\xd6qG\\xc9\\x85/\\xee\\xebu\\xe5C\\x93\\xa0\\xd4>\\xbck\\xb1]Lp\\\\>\\xcd^\\xfd\\xe3Z\\xe0\\x80\\x9c>\\xbfS\\x04\\xac\\x1cq7\\xa1d[\\xfc\\xec=DX_\\x85\\x1cy\\xa4\\x0b&quk!\\xb8tD:\\x0f\\xcb\\xbak\\xe5\\xbc\\xe4z\\xe8\\xb0e\\x8aHCs\\xd80j\\xc5w\\xf6\\xd0:\\xec\\x85@\\xf1\\x14B\\xf32\\x05\\xf1\\xb2\\x1e+\\xb0\\xc7\\xb9W\\xb1\\xdd\\xa0\\xa2/\\xa0\\x9cR\\x8dO\\xc1\\x8e\\xbb9K\\x93\\xca\\xb6\\x86Jy\\x83\\xe7\\xb3\\'\\xf3\\x81\\xd9\\x9d\\x9c\\xda\\x1d\\xeb\\x85ye\\xffb\\xeb\\x0f\\x12\\x83\\xdc2\\xec]\\xbb\\xcaS\\x11\\xe1&.?O\\x19\\xd8\\xedrol\\x8c\\x82&\\xb2\\x95/z=\\xe9\\x7f\\xcf\\xad\\xb3\\x13\\xa3\\xe9\"C|\\xf4\\x8c\\x0f;$M\\x0eY\\x1f\\x86r;\\xe6\\xcd\\xb2\\xe4+\\xd6\\xf1\\xba\\x8e\\x14\\xee.\\xce\\xee\\xe8/\\xf2E\\xe2\\xb1\\xf9\\xc8\\xcd\\xbb\\xd1~\\x14\\xd2\\x06\\x0b\\xee\\x88`^j*\\xc7Q\\x94 \\xc9\\'\\x86\\xf2\\x8e3\\x95\\x9b\\x10\\xc2T\\\\\\xbeC\\xa9\\xa5\\xd3\\x85\\xb7\\xafp\\xf9\\xb8\\xa9\\x89\\xf6\\xabI\\xe2\\xb7\\x13\\xdf\\x8b\\x04\\xbe\\x01\\xab\\rz\\xba\\xc34o\\xa8\\xadXlV\\x8b\\xf9m7\\x1c5\\x91e\\xd2>Kcou:\\xdc\\xd5\\x01nP\\t\\x9fB\\x93\\x15.\\xa0\\x90\\x8dr\\x8d;\\xa4*;qi\\x1c\\xc9\\xa7\\xa4R\\x1a\\xec\\x8eC\\x96\\xd3t\\x90=E\\x92\\xdaI\\xc6~\\xa8\\xbf\\xbb\\x84\\xc2MHT\\xcb$\\xcc\\xeee-4\\x15A\\xce\\xd0\\xb9HE\\xd7(\\x89TQ\\tW\\x80\\xec\\xf7N\\xf7\\xdf\\x9c\\xff\\xd09~=?\\x15\\x84\\xbf\\xc8\\xac\\xd7K\\x9b&t\\x83\\xb1\\xce\\xf1\\xe4jK4Axnk\\x92\\xd3\\x1f*\\x95\\xd9\\xde\\xc9|\\xff\\xcc\\xdc\\xc9N\\x17G\\xfbj\\xda\\xa0iZqK\\x17\\x9eY\\xb1\\x10\\x18r\\x95\\xf50\\x19\\xba\\xe1\\x1e.\\xf5\\x93|:\\x86V\\x0c\\x9a\\xbc\\xa7\\x9a\\x19\\xc9\\xed\\xce\\x87\\x9a\\xb45\\xb5\\x15\\xf4\\x08\\x8a\\xa3d\\x98:R\\xc9\\x81\\xd9\\xcad\\x82$0D\\xbb\\xb7\\xcd\\x11\\xe1(\\xb7\\xa7\\x00\\xd5\\x87U:\\xe4\\x928N\\n\\x95\\xbbz\\x14\\x00\\xaf\\x12\\x07\\x1b\\x1em\\x81=\\xb6p\\x8ao\\xc9U\\xf5\\xfc\\xb4/i\\xc5\\xbc\\xa69\\xe0\\xd4\\x88\\xe8(\\xc1V\\xe0pE\\xc9\\xe3,\\xc2\\xa8=\\xb5\\xaf7\\xc2\\xeb\\x01\\x16\\xd4\\xb4\\x00\\x97T\\xd4h\\xe8\\xf9<\\x04u\\x16~\\xef-|\\t\\xefO\\xf1\\x8b\\xe2\\xc2\\x83\\x9boG\\x81Q\\xab\\xc7\\xd0\\xf3l\\x08J\\xcb\\xa4\\xed\\xd4\\xbb\\x01\\xdf\\xac%\\x1b\\x1d\\xb3o\\xb7\\xeb\\xf5\\x1d\\xbaB\\x0b\\x80\\x8ec\\x8b(\\xf4F\\xd0V\\xbbQ\\xa5ES\\rD\\xce\\xc6\\x9a\\xb4\\xa7\\x8b\\x87\\xfd\\x9e\\x92`\\xca\\xe40\\xbd\\x8c\\x82\\x16(#;\\x15\\x9e\\xee\\xe9G\\xb8\\x92\\xa0\\xb9\\xc4\\x134\\xbb\\x949la\\'M\\xda\\x1e\\x1c\\x01\\xc5!f\\x1c\\xee\\xe5\\xd6\\x1d\\xb4\\xbd\\x97\\xf4^i\\xd7E\\xfdzo=Q\\xc5CO\\x8f\\x19\\xed\\x84\\xacn\\xee\\x02\\xa4\\xach\\xbc\\xa6\\xccR\\x14\\xd8\\xc4U5\\x7f%\\xbbk\\x12|\\x9ai\\xe1]\\xf7,\\xf3N=>\\xba[X9\\xac-\\x90\\xf2\\x14\\x19\\x04\\xcd\\xa5bk6\\xf6o\\xc9\\x81\\xbd^\\xa3\\xf6K}\\x16+?\\xe9L\\xa1U\\xa63\\x939l6K\\xb8\\x9f*\\x8e\\xa7 \\x98\\\\\\xc2H\\xc5\\xeaV\\x9d\\xef \\xc3\\xd8\\xaa\\xc3-\\xed^\\x14f\\xb6\\x8d)P\\x8eY\\xb8\\x84\\xfe\\xf3(\\x06\\xec:\\xe8\\x85y\\xa1\\x14\\xca\\x96\\x04\\x7f\\x0b\\x1b\\xaeB\\x00\\xfaV\\x10\\xe2\\xfe\\xff\\xfb>B\\xb6\\xefz\\xf8\\xd9\\x03\\xda\\xcc\\xf1R/\"C\\x82\\xf5\\n\\xcdb4\\xca\\x96\\xa9\\xc2pt\\x08z\\xa7)&-Q|\\xa8\\x94\\xf5\\xa8\\n\\xae\\xcc\\xc0|H\\xab\\r\\x98=\\x905nC\\xab\\xce\\xd2Dy?\\x7f\\xd9\\xd8\\xa5w\\xb1\\x92\\xc5\\xbb\\x94\\x95\\x99\\xde\\xc7R~\\xa4\\xe8\\x9f\\x0f\\x0f\\xe8>\\x956\\xe4\\xbcI\\x8e\\xbd\\xdd50\\xff\\xc9w\\xda_\\x9cO\\x03\\xdd:\\x9b\\xec\\xb8\\x0f\\xeb\\x9a\\xe9\\x1b\\x120h\\xdfk?.\\x03\\'\\x91Ks\\xcbT\\x84n\\xd3\\x05\\x0c\\xe7\\xb6\\xa3\\xe8\\x1c\\x16\\xb4\\xb2\\x98\\xf2\\xe3\\x02\\x1eJ\\x82\\t\\xc9\\xec\\xab\\x18\\xd82\\xcd\\xdf\\xad\\xea\\x88\\xd2~s\\xee\\xd6\\x8b\\xac\\x98\\xa3\\xa4\\xc2\\t\\x1bv!\\xda\\xa3\\xeeL\\xd7\\xb7#\\x8aL\\x08-O;\\xc6\\')\\xc5\\xdbr\\x04\\xadq\\xe3Lj\\x96\\x1b \\x9dk\\xd3\\t:&\\r6Im\\x9f7s\\xb9\\x9e`m\\xb3\\xfa<\\t\\xd3\\x98*\\xf4=,\\x85\\xee#\\xcf\\xe1a\\xa1tk\\xa4\\x80\\x9b\\xa2\\x94_\\x06I\\x1a\\xad\\xef\\xda\\\\\\xb3\\xca\\xf1\\x91\\x8b\\x1cX:\\xeb8w\\xdb\\x05\\x06\\xdb\\x08\\x90\\xdd\\xc6N\\xd7\\xff}\\x16\\n\\xef\\xa32\\xbaE\\xa0\\xd3\\x98/\\xb1\\xe6\\xbdB\\xa5u\\xaa\\xca\\xd6<\\x08\\x87b8\\xc7I\\xf9T\\x1b8\\n\\xefa\\xeb\\xa8\\xf1\\x80Vn\\x8a\\x90N\\x07\\xe1\\xc5OD\\xe5\\xce\\xd0\\x8c\\xf6\\xc8QL\\x8b\\xf7\\x107\\xb1\\x05\\xde\\xed\\xa9%\\x90z\\xf5+Yp_\\xae\\xd6{71\\x13+\"\\xc7\\x05\\x81o\\xceI\"!Q\\xa7\\xfd\\x92\\x95\\xa3\\x7f\\xdcl\\xcfC\\xdf\\xb5\\r7\\xbd\\x86]\\xdd\\xeew\\xb7\\xacn\\x92\\x8c\\x84\\x10\\xaeS\\xc6S\\xd2\\x1eT}pX\\xf0\\x88\\x85\\xe4\\x15\\xdd\\\\\\x8e\\xf8\\xd7\\x1f\\x1b,N\\x9a|\\xc0\\xeb\\xe8\\x85\\xb7@\\x18\\x9e\\xadk:Au\\xc8\\xeb/\\x96\\x85Sz]\\xe9\\x04\\x15+\\xb1e\\xa1>l1\\x14\\xe4\\xe3V!\\xect\\x81k\\xa3{\\x90\\x11\\xbc\\xde\\x8e\\xde\\xe33:f\\xef%\\x8f\\'\\x0b\\xae\\xa0\\xab\\xcb\\x1d\\x1a\\xc6I\\\\\\x16K\\x15\\xba8\\xacb\\xb3\\xbe%\\xe2\\xead\\x94\\xaa\\x92\\x87\\xc4\\xc1/|\\xe6\\x7fl\\x95\\xbf\\xf1\\x119\\xf2\\xbcT\\xf9N!\\x12-\\x15\\xe6\\xd1\\xb2C\\x0f\\xbf\\xe6\\xfcf\\x8a\\xc7\\\\\\x0ev\\xe5\\xb7\\xaa\\xf3y\\x86\\xa4~\\xb1{S\\xa1 \\x0b\\xe8\\xef\\x99\\xfd~\\xad\\xaf\\xc0\\xbd?\\x92\\xcb$\\x17C\\xa7\\xbae\\xa2\\xd9\\xd5\\x12(\\xc3\\x98e\\x03\\xa6\\x94\\xe5\\xffF\\x14x?>\\x1eN\\xefZ\\x82,\\xf2\\xcc\\xe1\\xd3\\xf9\\x1aq\\xbf\\x9fN\\x19\\xe4\\xbd/j\\x88\\x8d?E\\x95D[\\xb0\\xe2\\xf9\\x15\\x1c\\x16k\\x14=\\xc9\\x9f\\xeb\\xfcj\\xe2O\\x9bu\\xb9\\x8a\\x98(\\x15]\\xfc\\xea\\xa0\\x7f\\xa9\\xf5c\\x11\\x87s\\xd3\\x97\\x1dv\\xa1Cs\\x92\\x11\\xe6Z\\x02\\xb5\\xf7pf&\\x81v<:\\x16Sj\\x0e\\xaf+\\x87\\x87\\x9d\\x82\\x9999\\xd9\\xbe\\xce\\x03\\xaf\\x07\\xe4l\\xa9\\xf8Z\\x9c\\xe0/\\x8e`\\x84c\\xc38\\xd3Q0W\\xa5i\\xe9\\x92\\xc2>\\xc9\\xf5[\\x9a7\\x85\\xf8\\xd2&#W]\\xb8!\\xf2\\xa0\\xcbv\\xbcA\\x93\\xbe\\xbfk\\x83T\\xf5\\x0b y\\xdd\\xda)\\xc3TE\\xcb\\x04\\xf0v[\\x9b\\xf7\\xe9\\x84\\x1fp\\x1e\\xb4\\xe5+Ic\\xd1O\\xb6\\x16\\x7fk\\xfd\\x83|\\xff\\xba\\x15\\xa7]\\x93&M\\x0b\\xb5\\xae\\x1e\\x15\\x14\\r\\x14\\xe7Q\\xe8S\\xa3\\xf3-\\x84\\xff+R\\xfd\\xde\\\\\\xbe\\xd9\\xe0y\\x0cQP\\x87j3\\x95_\\xed\\x9av\\xbce\\x05\\xe6\\x87\\xfb$\\x90\\x85\\xa7\\xd5\\x18l\\x9e\\xc1\\\\`*\\x86\\x95\\x83\\x04y\\x1c9\\xaa6Lo\\x99l\\xae \\xee\\xac3\\x82\\xedz\\x9aHw\\xdfR\\x17\\xbf\\xcem\\xaf\\xed\\xe7IV\\xc6]U\\xdf\\xa8r?\\x9d\\xa4s\\xa2\\xce\\xf4_\\x849\\x9f\\xd2\\xaag\\xa9&\\xd6T\\xd1\\r\\x13\\xb8\\xa2a-\\xc3\\xeff\\xab\\x02.\\xcb\\xfc\\xd5\\x96\\xc9\\xcf\\xf2j\\x1f\\xf1\\xc7\\xe9`\\\\W[A\\x9d\\xe1\\xeaYKY=U\\xc2\\xef\\xad\\xf2\\x1e%\\xe1L\\x8dU\\xa6\\xf7\\x9a\\xcf\\x0f\\x02\\xf3{\\xd8\\x1d\\xe1jK\\xcct\\xb2\\x8a\\x8fx\\xf91\\x18+\\xe5RQy\\xb0\\xe9\\x97s\\xdd)due\\x11\\x92q\\xd3Wm+\\x15\\x16lH\\x9e\\xe3\\x85I\\xc4W\"7\\xa7\\xb8E\\xb10\\x1e\\x97\\xa7\\xf8\\xd7;\\x1e\\xdcKq5G\\xe9\\xab8m(\\x1cwL\\xefo]\\xe2\\xd0Q-\\xc3P\\x1d\\xc1b0\\x0b#T\\xd1\\xb2\\xddx\\xe6\\xdbu<4\\x8d\\xde[\\xb5c\\x17\\xd4v80\\x15\\r\\x9c\\xd2\\xde\\x8eL\\xe9\\xa9\\n\\xccQ\\x9bg\\x997O!\\xf3\\xcd$\\xe5\\xab\\xaf\\xf6z/[JB\\x14O\\x90\\x82h\\xd3 &\\xc8\\xc0\\xf6\\x036c+7\\x1e6\\xb3\\xda\\xef\\xe6\\xf8\\xea!\\x84\\xdeX\\xf7\\xf53/\\x19f\\xc2\\xd2}\\xa7ww\\x9cT\\xe4\\xf2\\x18\\xe5_\\xa43\\x82\\xa3\\xe6K\\xd1\\xa2?\\x0f\\x88\\x85\\xa9j\\xe2r\\xf4\\xeb\\x10q\\x1d\\x0e\\xf3#\\xc1\\xa9\\xa5\\xf3\\xbec\\x166\\x14\\x82S\\xa3\\xf4l\\xa8\\xa8\\xbd\\to\\xb7\\xbb\\xe5\\x88~\\xa4\\xbc\\x05\\xa7\\x04-\\n\\x96\\x9f\\x90\\xae7V\\x91V/\\x8e\\x14So\\xb6\\xed\\x1em\\x96\\x84ze\\x1d\\xe4Y\\x8b\\x1c\\xe4\\x17n\\xf6\\xfa\\x17*]\\xe9\\x18\\x93v\\xbb2\\xc1t\\x959\\xcd,\\x1d\\x0b+\\xc2\\xaf\\xa9\\xfd\\xeba0:/\\xd6b\\xdbiQ\\xd1!\\xd09\\xb1\\xa5dX\\xc9_\\xc7\\x99\\xd4\\xd7\\x9e\\xeb\\xfdJ\\niHt\\x9eZ-)\\x9f8\\x1d\\xa1:\\xba\\x98\\xbf\\x95\\x7f\\xfb[\\xb7\\x8e%Z-\\xb1gCG\\xa7\\xe9I\\xb4;\\xef\\xe04\\x9a\\xbc\\xd3n}Kb\\xc0\\xd4,(T2.\\xa6\\x86\\x8ez\\x96aU!c\\xa3}\\x97\\xcc\\xbf\\x8f#\\xe9\\xe5\\x04T%\\xed\\xafU\\x101\\x82 B\\xc2\\xa1\\x9cw2\\xbc\\xec\\xa6\\xd1g\\xfc\\x84\\xdc\\xf1\\x11\\r\\xbb\\xf5\\x91Y\\x9e\\xb2\\x17\\xea>f\\x02ti\\xea u\\x05:\\xa3\\x0c\\xfd\\x1c\\x1c\\xa6#\\xa9\\x9dr\\xaf\\x1d\\x92.\\xb1\\xeb\\xf7\\x94\\xa2<T\\xd3\\xe9\\xd8\\xe9\\xec%\\x86\\xca\\x92$\\x96\\xad\\x92n\\x99k\\x16\\xf3\\xaf\\xad%\\xdb\\xf8\\xd53\\xf9X\\x9f\\x8e\\xd0$XO\\xe9\\xeeD\\xa5=\\xbc\\xa6S(\\x07\\x8f\\xa4\\x8e\\xc2\\x95P\\xb4\\xa20\\xf3\\xbb\\xa7\\xfaT0\\xee\\xdb*~]\\xc7\\xb2\\x9c\\xd9\\xea\\xaa\\x8b\\xb0\\xd9\\xb2u\\xc6\\xd0po\\xf2\\xd4\\xef!N\\x97\\xd1\\xb6nN\\xc7\\xca\\x9db.\\x95\\xf9h\\xda/\\xcc\\xa6\\xbd\\xd7\\xd4\\x7f!\\x14\\x1a;T\\xd4\\xdfH\\xfb\\xbe[\"Z\\x11\\xd8\\x08f\\x87!<t8uZ\\x8dB\\xa3/nVa\\xffs\\xa4\\xeew\\xea\\xe5\\xe5\\x88)\\x17m4{\\x9dSK\\x82\\xa5\\xd1k\\xecY\\x96\\xcf\\xfb\\xbaC\\xeb\\xd2\"S\\x90<\\xcf\\x98,\\xa7P\\x9fdo\\xe1\\x15\\xc5\\xf2\\xd8\\xc8\\xd1\\x94\\xe8\\xcb\\xc7+\\xff9\\x01\\xfa_\\xe6\\x07\\xf0N\\x05\\xa9\\xd8\\xd4ZT\\xa1\\xa3\\xd1L\\xcf\\xe2\\xdb&i6-+\\x96[c\\x95\\xe0\\x9b\\xe6c\\x1e\\xe5\\xc7\\xe0\\xbb\\x04\\xa1\\x8e\\xe0\\xd5v\\x852\\xa7\\x96 \\x9d+\\x9fb\\xe0n\\x92\\xc2z\\x12\\xb6\\xd5\\x0b\\xf7H\\xf7\\x17\\xb5\\xccd\\xac\\x1f]\\xb9\\xe7d\\x7f\\x8e\\xa5\\x18\\x92\\xf8\\xc8\\xe6\\x99\\x10\\x0f\\x1bvuN\\xe2\\xc2\\xe0o\\x83\\xe6A\\x9c\"\\x0b\\xe2\\xcc\\xdcq\\x8f\\xb0\\xad\\xe2O\\x11\\xc3L\\xc8\\x16\\xff\\xd0\\xd8m\\x07\\xbb\\xfeVX\\x1e\\x12~\\xa9\\xd6\\xde\\xbd\\x18\\x0e\\xa9\\xbf\\xec\\xf4p\\xc9A\\xe8*\\xec\\x16\\xe2_n\\xcf\\x08y\\xcb\\xad\\xcc=\\x07\\xf1*\\x94\\x1eh\\x02\\xde\\x0b:\\xa2\\xeb\\x06\\xda\\x85\\xfbO1QS\\x1c\\xf9J\\xc5kT;\\xcd\\xd0!E/\\xf4\\xd6\\xccP\\x83 \\xb7T5\\x0cR\\x88\\xb5y\\x0b\\xbb\\xbc\\xc8\\xc2\\xa8(\\x96\\x90\\xb40\\xbe\\xd3\\xfb\\xf7U\\xbc\\xef\\xa3\\x88D\\xdb\\x84\\x1d\\x9d\\x94cj\\x8at\\xc4jN\\x1ex\\x13\\x96?\\x1dy\\x08\\x93)\\xa8\\xca.\\xe1\\xa7m\\x83U\\x07@6\\xa5}om\\xce\\xcf\\x12\\r&\\xa1\\xbf\\x85\\xc9d\\xb1Q*V/\\xcd\\xfd\\xd9\\xe9\\xa2\\x0c\\xa1o\\xc7\\x8e\\xf3\\xcd\\xb7826\\x14\\xc6#tx+\\x0f\\x1f\\xb66\\xfb\\xf9\\xc9Z\\xa2\\xfd\\x9d\\xf3a\\xdar\\xbci^9m\\xb4\\xf5\\xa3Yw/\\\\\\\\\\xf5C\\x84\\x9e\\'H\\xab\\xa6\\xe3\\xf3\\x96\\x95\\xf1r?\\xff^\\xd7R\\xe5\\xd7\\xbat\\x9d\\x1f\\x95\\xaf\\xf6\\x17\\xf3C(\\xf113\\x9e\\x17\\x96\\xb2\\x1f\\x92\\xb4\\xae\\xa5\\xdc}`\\xa5\\x0f\\xcb,\\xca\\x92G\\x9c\\xde\\\\\\x16\\x85!\\xb3J\\xb9\\xa9\\xa6d\\xe8\\x08\\xbec7\\x02\\xc1.\\xfd\\xc0\\xd2\\xcbt\\xf6\\xd4\\x1f\\x1bo\\x9dVH4\\xc6\\xdeS6\\xd6\\xd4\\xee%Ez\\xcf\\xe2\\xff\\x1dTAC\\xdb\\xbe\\x14X\\xdc\\x8a\\x92\\t\\xef \\x1d\\x94\\x0b\\xa1\\x0b\\xa9D\\xa97\\xde=U\\xc5\\xef\\x8a\\x90\\xe3\\xe4>r\\xc6\\x94\"\\x9aj\\xa4\\x85\\xc2\\xa4\\xa9<j\\x13\\xb1\\xeeL;\\'\\x15\\xd10\\x82\\xd9\"\\xdb6[F\\x918x\\x08\\x9c[ZUS\\x1ec8\\x7f\\xee\\xae\\x9d\\xa90\\xccR\\x0f\\xae7\\x0b\\x9eG\\xcb\"\\xab\\x93\\xa31^\\xd7\\xd7n\\xe8\\x91u\\x06\\r\\x86\\xe2?_\\x0c\\t\\xa6\\xbe\\x9b;4r\\x13\\x88\\'y\\xb9}\\xfc\\x88^\\x17*]\\xb0\\xb6W\\xa4-\\x8eY\\xa0\\xc8j\\x05\\xd8\\x1d\\x18\\x8f\\n\\xf4*\\x8dv\\xf1\\xce\\xfe\\xa8|\\x91b\\xcb\\xb2J\\xd0\\xd4\\xeam\\x15c\\xe6\\xe0\\xd8Ye\\xd6\\xe92\\x0e)\\x0e\\xa1\\xaer(\\xb3\\x94[\\xf0\\xa3\\x9e\\x87Z@\\xa9\\x0e\\x1b\\x85\\x17\\xb0t\\xac-\\x92\\xf6jH\\x8fST\\x0e\\t\\xf7\\xb3\\x90\\'UYZN\\xaa\\xf4\\xbfJ\\x07\\r_\\xeb\\xeb\\xd7\\xafN)Q\\x0fH\\xbdU\\xf0H\\x9a\\xa15\\xedB\\xc6\\xd1\\x0bU;\\xb9Q\\xc4q\\x97e\\xd6\\x06\\xf4\\x9a\\x12Qf(r\\x96$T\\x85\\x9f\\x1a\\x9a\\x15\\xf7\\x82\\x0f\\x0f\\x92\\xd6\\xa5<\\xa3\\xe2ES\\xb6\\xe0 x\\x87(\\xe2*J5\\xd9*\\xf7\\x0c\\xa6<\\xd6\\xde\\xb1\\x08\\xecN]\\x81\\xe7\\xefp0\\xff\\xda\\xfe\\x88D\\x80N\\x08\\x1a\\xf0\\xd3\\x85\\xbd\\x97\\x89\\x8e\\xf4\\xf9\\xf5[\\x06\\xe4\\xdfY\\x9f&\\xa9\\xe7\\xb46\\xd3Q\\xcc*\\xa9\\xbaG\\xe3B\\x8e\\xcc\\x08\\xf5\\x05\\xba\\x08{\\':s0\\x9e\\x196@\\x8f\\xe8\\xc5\\xa9\\x19\\xe3,xy\\xa7W\\xc7\\xa5\\xbf\\x97-\\x07s\\xa3\\x02\\x19\\xcfM0\\x1e\\x8e\\x07J\\x03\\xd4\\xef<\\xca$i\\x9b\\x94\\xe2\\x9e\\xb4j(\\x03\\xeb6\\xfc\\ru\\xd0f\\xa8O\\xb1\\xb9\\xf7\\x10e\\xb8U\\x0c\\x1f\\rQ\\xde\\x95\\xc7D\\x86\\xa5\\xd1\\'\\x03\\xec,33}\\x02\\x9d\\xe8\\x9c\\xc9Y\\xdf\\xc4\\xdf\\xb6G\\x0br\\xe9\\xba\\xf3\\xe8\\x07\\xa6\\xcf\\xebp\\x9c:\\xcb6\\xd7\\xb8[o\\xf5\\xe2\\x82\\xab\\xdcw\\xe9?\\xec\\xc3W\\xc6V\\'\\xbfK,q\\x10p\\x1c\\x18NqtG\\xbc\\xd5\\x18\\xb6a\\x8f\\xb6\\x1dK\\xddO%\\x16\\xbbX\\xffQL\\xb7\\xb4\\x18u\\xf7u%\\x1e\\xf4\\x9a/\\x8a\\x183\\x0b\\x8a\\xa9$\\xfc6Lu[\\xd9\\x8f\\x8d\\x0e\\xdb\\xd6\\x19\\x9c\"\\xa9\\xb6\\xcb)t(\\xed|<\\xa9\\xb6Z\\xc3m\\xd9zZ\"\\xfe\\x1c\\xe8O\\xcb\\xd4U\\xdcw\\x1d!f\\x19&+s\\xbf\\x98\\xc1\\x0e1]{\\xc0\\xednz\\xb6\\x96\\xc9\\xe5P\\xb1\\xb3\\x0b\\xe2\\xfd\\xca4\\xbe\\x1f\\xa0\\x8c\\\\a`QP\\x96V\\xcb\\x8d-\\xdd\\x9b\\x94\\xd1`\\x87.\\xdd@\\xbb~\\x107\\xaf\\x11\\xabH\\x82\\xa5\\x86O\\x93Czl\\xf24u\\xc9\\x9b\\xa6\\x13\\'}\\xf5l`I\\xba\\xf7\\x84\\x10\\x13W\\xd8\\x00\\xc2\\x805,\\xefS#\\xf5r\\xca4\\n\\xa2\\xa9\\x13\\xcfR\\x91\\xad-\\xbeC#\\xe2\\x9b\\xc2q\\x19AI\\xbe\\xd5\\x90\\x1a\\x05Q\\xd2\\xe9\\xe1\\xcfN[;C\\\\P1\".\\x9dH;\\xe1\\xf7\\xbc\\xe4\\xc5*>\\xaa\\x9f\\xc1\\x94\\xf51\\x1c`\\x14\\'\\x01e8N\\xb2\\xa8o\\xa8\\x06f\\x17\\n\\x14\\x14\\xab\\xcb\\xae\\xc9I+\\xf6H\\x00[\\xa3(\\xa1/&f\\xe1T\\xe9[\\x13\\xbc\\x96O+\\xc1\\xa7\\xcc\\xc3\\xd4\\xd0\\xd2\\xd45\\xd5l?!\\xfeM\\xb7\\xd9\\xe4\\x18:\\xcaO7\\xa9\\x11Q\\x05\\x13\\x19\\x12\\xcd-\\x12xP%\\x14\\x04e\\x93(~\\xb3>6y\\xb1=\\x97\\xc4W&QE\\xe8%\\xf9\\xce1E\\xd3\\n5\\xd8\\x8d\\xd0\\x12:\\xfe\\x1e)\\xedk8ZW\\xd3\\xa2+\\x82\\x1aB\\xe2Z\\x11\\x9bvA\\x8d&|\\xe3)\\x8e\"\\x1a\\xa7m%%\\x1f@\\xa9i\\xc2P\\x1c\\xcb\\x8a\\xe6\\x7fs\\x13\\xabzz\\x0f7V\\xbe\\xf9|oZ*\\xa9\\xa1;\\x8e6\\xb0\\xfa\\x9eoe\\x04\\x86]\\xc6\\xd0\\xdd\\xc2Z\\xf7\\xa8\\xad\\x91\"1d\\xf2\\xe6C\\xa8\\xbd\\xf7.\\xb4\\x80\\x1b\\xa9`>\\xf5S\\x04u\\x95h}+N\\xd2\\x96C\\xc0:%\\xe9U@\\xa2\\xdb\\xc4\\x88t\\x90Y:#NI\\x1a\\xeb~+\\xe1\\xd6;\\xc9\\xd2rw\\xf5\\xa7\\xe8G*\\x13\\xbeIc\\xba6\\xd5]\\xaf\\xba\\xb6\\xb9\\x8e_\\xca\\xe7\\xf7G\\x86\\xe2\\xef\\xc9\\x07K\\xd3\\xc6\\x0c\\xddE\\xad\\t\\xa6}\\x8f)e\\xf8\\xa4u\\xbea\\xa0\\x08\\xbfE\\xe8#T\\x8a\\x04g\\x0f\\xc7y\\xdfN5\\x84\\xb7\\x94\\'\\x8d\\x0b\\x8f\\xaa\\n!\\x87\\xf8.\\x1f\\xc2\\xa2\\xd2\\xbc\\xdb\\xe6J/\\x1e\\xe5\\xfe\\xc5p\\x88\\xb6\\x1f\\xca\\xe3\\xa6\\xdbNQ\\xb5\\xdb\\xaa\\x03\\xc5\\xa1\"\\xdc\\xca\\xaf4\\x05 \\xba!\\xad\\xbd\\xb6\\xd3\\xf8\\x8c\\x03I\\xfd\\xce6C\\xd0\\x91a\\x11\\x8c\\xa7\\xac\\xba{f\\x92>\\xeaJ(\\x84\\xcb\\x89\\x91\\x05\\xf7\\xd2\\xf0v\\x19\\x8e\\xbe\\x07\\xf5\\xfb\\x9f\\xa89y\\x8a\\xab\\xf7O\\xa1\\x11\\x7f\\xed|`\\x13\\xbc\\xa5T\\xdb^\\xe2\\xc2\\x97Y\\xf5\\x8e%E\\xf2\\x80\\x106\\x8aJ\\x91\\x1aZ\\xe9\\x14d\\xeb\\xd6\\xf1\\xa8E\\xb8\\xcb\\x10\\xd2+W\\xee8L\\x84O\\xb7\\x9f\\xa5\\x06\\xbf\\x1a\\x89\\xb1h\\x0b\\xa5\\x06?R6\\xb7\\xbe\\xc4[i\\xd0s\\xcc0\\xac}\\x0fas,\\xb5\\xf6\\xba\\x0c\\x95N\\x83ki\\xbe\\x19\\n\\x17\\xa5\\x82\\xfa!g\\xba\\xe8:m\\x9d\\xd1dh\\x16\\x06X?Vb\\xc7\\xde\\xc0`nr\\xcc\\x9c\\xed\\xb0\\x8e\\xc6K\\x1a]\\x9e\\x8c\\x1d\\xd6\\xecB\\xde\\x9cOK\\xd9_\\xc3\\xe1\\x9f\\xb5\\xef\\x977\\xf3\\xba\\xf9T`\\xf3Q\\xc1N\\xdf\\xeb\\xaf6\\xc3{\\xa3\\x10\\xf0B\\x06\\xf5\\xd2\\xc6+\\x0c\\xefSG\\xc5V\\x90b\\x8a9\\x9e\\xc7\\x93\\xa9L\\xee\\xbaJ\\x01\\xaat\\xf6B\\xba\\x16>\\x1b\\x03$\\xca\\x14\\x1d\\xb4\\xc5\\xa3M\\x13\\xd2,D\\x8f\\xa1\\xd9\\xdc\\xa3\\x18\\xa1|\\xb7\\xe6\\xd1\\xdd\\x86!\\x8f,$\\x95\\xadsr\\xae6\\xd4\\xf4\\x831,\\xfd5\\x1a\\r\\xad\\'j.N\\xaet6\\xef\\xa4=\\xb2\\xbf\\xc4\\xd7\\xb6A\\x12\\xb7\\xa2\\x10\\xb5\\xc9|\\xba\\xee\\xaf\\xf9\\xa8\\x99h\\xac\\xde[\\x0f\\x91G\\xd6\\xb0\\xb9\\xd1\\\\\\xaa\\xe7)\\xc8\\xe5\\x08-\\xdc\\xb2]\\x90Rz\\x8e\\xe7q\\x94\\xa74\\xfb\\x19\\xe2\\xea4\\xfa\\xdd%\\x03i\\x94\\xfe+\\xb8\\xb0\\x19\"\\xef\\n\\x02\\x17\\x8c\\x9b\\xd4\\xb8`\\x9e1U\\xc3\\xef\\x8f`\\x0f\\x9dM\\x1e\\xfbHv:U\\x8dm\\xa9|+\\xfb*\\xc5\\xeeM1\\x04\\xeb\\x88\\xa8/>\\xd3\\xc9F\\x1a\\xc7w6\\xcc\\xe6\\xa7\\xde\\xf0\\x9a 7\\xeb\\xc9o\\xdc}=\\x1d%\\xd1\\xb61\\xb3\\xdb\\xf2\\xbf\\xa76/\\xb1\\xd1\\x88\\xeb\\xc7`\\xae\\x18\\xf2\\x96\\x06\\xb8\\x95U\\xfb\\x96\\xc2\\xaf/\\xd5\\x80\\xe0&y\\x00$y\\x82-4^\\x15F0\\xb5\\xe7\\xd1\\x16\\xee\\x16\\xbe\\x1e~n\\x9c_\\x84\\xea\\xf8P\\xd0\\xc3\\xaa~\\xaa\\xad\\xb5\\x87\\xa6n\\x03\\xc8\\xd2,\\xbd\\x04zwNQz\\xe8\\x9d\\xe6\\xab/\\x9e+\\xc7\\\\\\xb4\\x17=e\\x05\\xa9\\xfb\\xd4|n!\\xfeq\\x975\\xdf\\xb1\\xd5\\xe7^\\x8f\\x91\\xb8\\xbc\\xfaB\\xce\\xa4\\xc1\\xd3\\x07\\xb1H-\\x06\\xb7\\xca4n\\xac\\x80\\xe8v\\x9c#\\xa8\\xc0\\xb7\\x1e\\xf5\\x92\\x0c\\x88)h\\xacy\\x99#\\xad\\x04\\xcd?\\xb2*&9\\xb5\\xf3Xj\\xa9\\xd6\\xb6\\x13\\x11\\x83\\xfd\\x12\\xab\\x16\\x95\\x91\\xd0]\\x1b\\x85b\\xeb\\xd9W\\xfe\\x89\\xa8\\xb1\\xf9\\xcbY\\xff\\x07\\xee\\xb5i`\\x11b\\xab\\xee*uQ\\x9a\\xd2\\xce\\x1f,C\\x9c\\xbf\\xbe>X\\x04\\x1a\\x91\\xfa\\\\6K\\xf0>\\x04\\x9b\\xd9\\xe7\\xc8\\x10\\x1c+\\xdcz\\x9bp\\xadE[ci\\xb1\\xd6\\x85S\\x8d\\xe08\\x9a\\xf6*\\x8b\\xa6\\xcfT\\r1\\xf5\\x17\\xd2\\x8b\\xa4\\x88s\\xec,\\n\\xb2f\\x97\\x0f\\x11\\xbb\\xd9\\xa7\\xee\\x83\\xb2\\xbc\\xa2T\\x9d\\xf1w\\xfaf[u\\x8eS\\xb4 e\\xc2D\\xaa\\xe6g{\\xf8\\x94{\\x0bV\\xeaj\\xd3\\x1d\\xc4\\xe6\\x1f\\xf6t\\x8a\\x0fx(?wD\\xceME\\xa8\\xcb\\xb9\\x90M\\xd4\\x96Z]G5\\xfa\\x93\\xce\\x13\\x84`\\xf5M*\\xbcJ\\xdf\\xf0\\x91\\xca!\\x98Na\\x96\\xe6\\xad\\x84X\\xb1\\xfb\\x15,t_S:\\x95\\x15X>\\x8f/\\x85\\xafh\\xe6\\xac_\\x17\\xce\\xd7\\xab\\x97`:4\\x87\\xde\\xceR\\x96\\xf1\\xf6,\\xabJ=\\x9bz\\xaa\\xda\\xa3wM\\xca\\xd1\\xf9j\\xc7\\xbd6\\xa0\\xd0\\x81\\xc2\\x07\\\\\\xda\\xcd\\x06[\\xa3;\\x8a\\x0b\\xb1\\xe8g1\\x7f\\x98\\xc5\\xc2\\xaf\\xd8\\x95\\x94\\x86\\xb1+\\xb2P&\\xe4\\xe3*\\x98\\xf2(YgV\\x96E#{\\x957/mE.iqz\\xb8\\xd52)\\x82\\x06}\\xdd\\x15\\xb8\\xb6K!\\xc98\\xb7|\\xae\\xdeX\\x92C\\x0e\\xc6\\xf6H(\\x02uC\\xecTXC\\x9a\\xb6\\x96\\xe3\\xfbX\\xa9vA6\\xe1qw\\xabL\\xde\\xe3\\xff\\xafQl\\xb7\\xdfr&#\\xc3\\xa1\\xd5\\xe9V\\xc5]\\xa1\\x9b\\xa2\\x937\\xad\\xe4\\xb3\\x00\\xb6\\x1b\\x0flL\\xce\\x88\\xd2L\\x19jH\\xde\\xd5b7\\x80\\xe8\\x14\\x85\\xdeMgd\\xfb\\x177=\\x10UH\\x9fv+:\\x92*6\\x84Fd\\xcbIAS\\x1f\\xb3u\\x0b\\xb8\"mP\\xfa\\xb0\\x8e2\\xbb`\\x9f\\xa4\\xb5\\xd4\\x8f\\x1a\\x18\\xea\\xf3\\x9d\\xb4\\x15.\\xa6!\\x146\\xd8\\xf2\\x0e\\x86\\x9aO\\xd9\\xb4kIi\\xe7N\\xef\\xb6Ub\\xb1k\\xa9\\xd3O\\xad\\xef\\x9e\\xd2F\\xa4\\x84\\xb9u\\x12\\x8f\\xe3\\xfd\\xf7B\\xcb\\xd6\\x16\\xbd\\xe1\\xc9\\xbf\\x1e\\x82\\xf9\\xf6\\x9f\\xe4V\\xc91\\xd4\\x10y\\xd8\\xb0\\xd3\\x0c-\\x8b\\xb4\\x8eyNW\\x81\\xc0=\\xbfZ1\\x83.M1K\\x9ai i\\x82*\\x17\\xfc\\x89n\\xf0\\xeeD\\xd1\\x99\\x94\\tKt\\xd5\\xb2K\\x91\\xeay,w\\xdf\\xbd7\\xaal\\x07\\xbd\\xd3\\xaa\\xb1\\x89\\x19)fS\\x13t\\x7f]\\xd3\\x83\\x9eX\\xf3\\x80<\\xb2\\x84{Z\\xca\\x17\\'\\x96)SF\\x07\\xf7\\xa2\\xb38\\xb4V\\xe8\\nD5\\x85#\\x8e\\xa6|K\\xf3\\x16#^M\\xbd\\x0fG\\xea\\xd7A\\xe7\\xf5\\x17Yl\\xaa\\xe9\\x17\\xe4\\xafJ\\xc6G5\\xe4\\x08>(*\\x81J\\xab\\xce\\xc1Z\\x98\\xea\\rt\\xe5\\xc3\\x8a\\xc8\\xdd\\xf4WG\\xa6{ex\\xc6n\\x83$C\\xc8-p`\\xcf2\\x8f`1l!~{\\xf9\\x9alv\\x0c\\xa9\\xb214\\x9d[\\x8a\\xd8\\x15yc\\xc7\\xb4[\\xf6\\xc3\\x96\\x9f\\xfc\\xf5r~]\\x87\\xd2\\xf6\\xfa\\xb6\\x9e\\xa6\\xfeI\\x91o\\xf4<,\\xe8\\xa0UlZ\\x17C\\xff&\\x14\\xb3h:\\xe8\\xfb\\xb7\\x0eX\\xc4b\\xd0\\xbemjU\\xb5\\x13\\xd5\\xf0\\x8b\\xce\\xd9\\x92x\\xf6u$\\x7f\\xadc\\xfa\\xbd\\x99\\x0et\\x14\\x9fMi\\xc4\\x05\\xff\\x12\\xb6\\xf5\\xcfvz\\xa5\\xae\\xd4~\\xaaJ\\x0f\\x7f\\xb1\\xd9\\xe6\\xe3\\xd8\\x90\\xf1%\\xa4\\xa0\\xa3\\xa1#\\xef\\xcd\\xadI \\x8a\\x8a\\xdb\\x00\\xd0X\\x88R]\\xb0\\xab\\r\\x87)\\xe2\\xf1\\x0b\\xbby\\xfd\\x93\\xc7j\\xef\\x10ZS\\x9c\\xee(5yii\\x0e\\xf2\\x96\"\\x81\\xd8\\x8a[\\xb3p\\xa9\\xad=eS\\x02~+\\xee\\xdc\\xd4%{\\xa4\\x9c\\x0c\"\\xfa\\x96]\\xa3qp\\xa6rU\\x1a\\xc6\\x15&{/\\xe0\\xc4\\n\\x1e\\x13\\xf0_\\x1cR\\x05\\x956A\\xa4\\xdfy\\xc1\\xebK\\xdd^\\xa5\\x19\\x9b\\xc9f\\x99\\xd6\\x8c\\xbfH\\x8b\\xd8\\x7fc~$\\xb5\\xb9\\xff\\xce@=\\x9d\\x99\\xb6\\xa6\\x1c\\x87\\xbf\\xbb\\xb7\\xcc`=,\\x8bRT\\x17?\\x9d\\xea\\x9c\\xef\\x06%\\xe2\\xd68\\x94#\\xca\\xce\\xc4\\xf1\\xb1\\x83N\\x0cF\\xa6\\xae\\x96\\xbet7\\xd9\\xcd\\x87\\xc1O\\xb4\\xae\\xcb@\\'5\\x9e\\x02K\\x8a\\xf0\\xd1H\\x9a\\x84\\xb9He\\xba\\x88\\xab[\\xac\\x99\\xc9Q\\xd0l\\xf1\\xe7=\\x88\\x9cMC\\x9d\\x15\\n<6;i\\xaaH\\xf7C\\xech\\x8b\\x0e\\xf1\\xd4\\xf9x\\xca\\x9b>\\x8f\\xcd\\\\\\t4S%\\x9f\\xd0d&\\x82\\xf40\\x146\\x18\\xc2\\xc9B\\xd3\\xa2H\\xaa\\xb5t\\xe7\\x87*\\xa5\\xc7\\x88\\xad\\xd7ttN\\xcd!\\xd2+M\\xe5\\x864\\x949\\xc1Z\\x86,\\xb9\\xb34I-)\\xf8\\xd4pX1\\xb7c3\\xb7\\xf09\\xa6\\xca\\xb0\\xeb\\xd8\\xeb\\x102\\xb5e_G\\x19_[\\xe6\\xa4z\\xf3\\xc7\\xdeF\\x98\\x1e\\xeb\\x1f\\xb7\\xc5\\x13\\xacG\\x97\\x18\\xb7BUq\\xe5\\xa0\\r;\\xb1[\\xa5\\xa3\\\\\\xa4;!\\xd0f\\x14\\rd*\\xcb\\x9e\\xd4\\xa2\\ni-;\\x8bM\\x8cv\\x08\\xcc-\\x90\\x83\\xe07F\\xd7\\xad\\xda\\xe3l\\x14\\xa0\\xae\\xc8\\xe6z\\x14mse\\xc1\\x9a]\\xed\\x9a\\x93\\xa0\\xfe\\xc6q6\\x9bt\\x0c\\xa6m\\x88#\\xc3\\xa19\\xdc^\\x9a\\xfb\\xccGl\\x9cRv\\xe6\\xf0\\xa7\\xab\\xcc|\\xd4\\x9b0\\x18\\x8fI#\\xb1X\\x07\\x86U\\xf4)9{\\x01i\\xa8-\\xa5;\\\\Y\\xf6\\xa1\\\\WA\\x0c\\x91\\x90n\\xb5^\\xd6a\\\\s\\x14d\\xaf(I\\x1dR\\xef\\xfe5Wd\\x11\\xef\\x87Zu\\xc9\\xf6\\xe8:3\\xc4 4o\\x0b\\xab\\x9b\\xb6q\\x1d\\xe2\\x00G\\x93\\xe3f\\x06\\xeaV)\\x06\\x9a\\xa7\\xe0LS=\\x00A\\xc83a \\xcd\\xa5\\x99O\\xd1\\xa9Q\\x8aR\\xc0g\\xf1P03<[\\xb7Q\\x95Y\\xda(}C\\xed\\x85\\x1d\\x13m-\\x9eS\\xf3\\xe0\\xb4\\x1d7v\\xf1\\x83\\xa0\\npz\\xec\\xb8\\xbd\\xd8 \\x7f\\xfb\\x8a\\xaf\\xa7#\\x04\\xa1?\\x96\\xd8\\xb6\\xc1\\xfa\\x91\\x94\\xffh\\x11i\\xa7{\\xdbE=\\xd35KE\\x14\\x01Jf\\x8a?8[\\x8f\\x80_\\xb1\\x97\\xaf\\x95\\xc3\\x96\\xe07\\xc9G\\x8bpb\\nc\\xbb\\xf9\\x17\\xe1\\x8b\\xb7\\xb6M\\xbfRq\\x97i\\x8f\\xa2\\x15{\\xa9\\xa6\\\\\\xfb\"\\xd6|\\xd9\\x1f\\xaf\\':A*\\x15\\xeeg\\xfe\\x1bV\\xa8|\\xa9Y\\xdfY\\xcaD\\x99\\xc4d[\\x9ev\\xdcmJ\\xf8k\\xc1\\xac\\xa9\\xd2\\xa2M%\\x87\\xca\\xdessD\\x141\\xe6\\x82i_\\x82\\xa1[/\\xc2m\\x94\\x1a_\\xfa\\xf1\\xeb^$\\xc3\\xe6\\xd6\\xa9X\\xb6\\xd0\\xd7\\xbb\\xfc\\xfd\\x80d\\xf60\\xfaUr\\xaf\\xffF\\xc9\\xf67\\xfe\\xa1\\x8e\\xfa\\xde+\\xc5\\xfe\\xcd\\x1e\\x8e\\xcd\\x14\\xab\\x88).\\xc7n]\\n\\x0e\\x16\\rD\\x97\\x08q\\x94\\xb5UQ\\xd4vl\\xe8\\x1e\\xae\\xe8\\xdb\\xb4\\xacK\\x9d\\xf3d\\xf1\\x1d\\xd3\\x97\\xad\\x9b\\xd0\\xdd#\\x14>\\x83U\\xb2\\x1b\\xad\\x86\\xd0J\\xa1\\x17\\x0e\\xba\\x1c\\x17\\x90C\\xfd\\x83D$\\xba\\xa5\\xd2h\\xc5\\xbc\\xab\\xab*\\xacc\\xccN=\\x12\\x97\\x9d;U\\x10\\n#?i\\xfe\\x85R}\\xadt\"T\\x9f9dMG\\x96\\xff\\xd0>\\xfd[\\x8d\\xf34\\x18\\xcb\\xfd\\\\V~\\x1e\\xf9\\xa0\\xa8)&\\x81\\x0f\\x05\\xc8\\x0cb]\\x14otks\\x95\\xea\\x97Y\\xfa\\x0c\\x16\\xcfw\\x14\\xf8^\\x80\\n\\xfd\\x07g\\xe7Ra+\\x0e\\xbf\\xb2KK@Y\\xfe!\\xbaf\\x1baC\\xca\\xbe]\\x85\\xad\\xed\\xec\\xd6\\x11#\\x8f\\xb5\\xa8\\xa7G\\x99\\xff\\xaf*\\xec\\xc5W\\xb0\\xa4\\xd5\\\\\\x1aj\\xd5\\x8d\\xc5\\xf1\\xbc&qhx\\x99\\xa7\\x80~m\\x974u\\x04T\\xe2\\x19\\xc5\\xf5\\xc6\\xe89\\xd2\\xd55\\xa9\\x88\\xbf\\xb4\\xf7\\xf7\\xa2g\\'\\x8d\\xa3\\xa9\\x9b\\x865\\x19\\x1c\\xadG\\xef\\xe9)%;\\x14\\x19\\x9c\\xc2\\xe3N{\\xca_\\x90h\\x91\\x93\\x97\\x12%m\\xcf\\xf6F \\xbe\\xd90/r\\x1f\\x97\\xac\\'~i\\xfbYm\\x89P\\xcd\\xce\\xe1\\xfc\\x05#\\xbd\\xd7\\x1f\\xb1\\xfc\\xabF\\xf3\\xba\\x15cw*\\xcd\\xda\\n\\x02Q\\xe9\\xde\\xaejq\\x17\\x8eZ\\x88\\xa9\\xd3\\x1aO\\xaf\\x89-cO.fq\\x88\\xda\\x02TrRf/\\x91\\xa4w/9\\xd3\\xa31\\xd6T\\r\\xdf\\xe2\\xbd\\xd6\\xe3j\\x11\\x90R\\xfaq[6]\\xe1\\xd54\\'*#U\\xe9\\xd7>f\\xaf\\xa2\\xbf)K[J\\xd0P0\\xb82m\\x14.\\x8e\\x92\\x05\\xfd@\\x06\\xda_\\xacZG\\x17/\"5\\x94B\\x13\\xa5U|u\\xb5c\\x88\\xa2\\x90$\\x9bd\\x96\\t\\x82\\xd2\\x1e\\x1a\\xd2\\xad#\\xd8&\\x95!|\\x8a\\x00^q\\xdf\\xd6<\\xfa\\x17\\r8\\xff\\xfa\\xbc\\xbb\\x07t\\xdb\\x91\\x87\\xbcU\\x0e\\xd8ES\\x91js\\x15\\xdf\\x9fMf\\x14\\x8f\\xe4\\xa4_\\xa0^\\xfe\\xed\\xfc\\x9cE\\xac\\x06\\x11\\x97}\\x9b\\xc1\\n^h\\x1e\\xdd\\x8d[Y\\x9c\\xcb\\xe1\\xc0\\xed\\x9e\\x1ae6\\xe4\\x80Rr\\xbdn\\xd1\\xa3\\xdb_3\\x83\\xdd\\xc3\\xb8\\x98\\x85\\x0c\\xa7}\\x87\\xeb\\xa5\\x0f\\xce\\x91\\x9b\\x0cqa\\xdb\\x94K\\xf2\\xee\\x90\\xb3^N\\xbc\\xa6\\x8d\\xc86\\xa7=5tZ\\xd3r\\x12\\xcft\\x14/\\x05e\\x16\\x8f\\x8b\\xe0\\xf8:c\\x98\\x1d\\t\\xaa\\x13\\xc5\\x93\\xfe\\x93\\xb2\\xe3\\xbe\\x1a\\xe7,[.\\xdd3pH\\xd9))\\xd4\\xa6\\x02\\xba\\x071\\xb7\\xf2\\xb0:\\x8a\\xa8[\\x81\\xa5\\xc7\\xa0Y\\x93\\x93\\x9d\\xa0)O\\xc8\\xdc\\x9b\\xdb\\x7f\\xa1n\\xd7pTX\\xba\\x9a)\\xfc\\xf68\\x86\\x18\\xbf)j\\xfe\\xb5\\xfe\\x0f@\\xc4k\\x0b:\\xc0\\xcd\\xc2D\\xd6v&\\xbbN[K\\xa3n99\\xa7,}\\xbb$6d\\x97\\xf2;\\xe7\\x18\\t\\xa4no\\xc9k\\xcdyv[\\xa6\\xba\\xc5p\\xc9\\x10\\x95EtY\\xbd\\xd1\\xa34h\\x9bvd7\\xc9J\\x0f\\xde\\xc2F\\xd2\\xaf\\x7f`(\\x9c\\xdf\\xc3m{\\x80WM\\xa9w\\xb3\\xf87\\xeb\\xddv\\xecou\\xc1T\\xb2m\\xfaP\\x14X\\'\\xa8VR\\x91\\xc9\\xecfN%]\\x9bj\\x8e\\x8a\\xcd\\x16\\xccM\\x97S\\x10\\xb2\\xcd\\xf28\\'\\x08\\xd5_\\x0e\\x8f4\\xa6\\x84Z%3\\x87\\x9a\\r\\xb1\\xca\\x1cJ\\xc8\\xbb\\x04\\xc8[8\\x12\\xa2\\xcb\\x89\\x15\\xd4\\xf7\\x8a7\\xef\\x90\\xec0\\x01K\\xdd\\'JR)\\x08\\xa7\\x8c\\x05z\\xb3\\x04f\\x0c\\xd0\\xf5x\\x9c\\x93\\xa5\\x7f\\xcf\\x1a\\xbe4X`G\\xed\\x88\\xa3LT<\\x82\\xb8\\x84t\\xa7\\x92\\xb5qT\\x1c\\xe7\\xf1L{E\\xd1\\xe9\\xbe\\r\\r\\xae\\x87\\x1ake`\\xb6\\x7f\\xcb\\xd1\\xf6\\xd7\\xda?\\xb2\\x95\\xd7#\\x1c:\\xba<\\x8e\\xfc\\xd9M2v\\xd6d\\xd8\\xf0EU\\xfe\\xf7\\x0f\\xfe\\xe1\\xf4J0I[\\xd2\\xa39\\xd1Vv\\xbah84\\x1b\\xceK\\x95\\xf7\\x19\\x8c\\xf2\\x96\\x02\\xc8\\xbfs\\x80\\xaf\\xdd\\xd6)\\xf8u\\'\\x889\\x8a\\x15\\x810\\x14\\xe5_v\\xcaH\\x96\\x1f\\xfb\\x15\\x12~\\xad\\x86\\xadw\\x96#\\xff\\xe3\\x82*\\xde)\\xe3\\xd1D\\x8fC\\xb1\\x9bU\\xa5M\\x93\\xe1TwY\\x9e\\xf7\\xce\\x0e\\x0c\\x15\\x9c\\x8aW\\xc6\\xd1Jf(\\xdf?\\x85\\xb2\"\\xd0\\xf4\\x89X4\\xae\\x8e\\xe4X\\xb9C=\\xe9\\xff\\xf4^\\x98\\t\\x02\\xb0k\\x19\\xec\\x90[\\xe4S{\\xd8\\xb4)\\xe6\\xff\\xabM\\xf6\\xber@\\\\\\n%\\xee\\xad\\x17\\x9b\\xdd\\xc5T\\xcc\\x80\\xed\\xb6JD\\x1b\\xa5\\xaa\\xa1I\\xa7&\\xcf\\xd6\\x96O\\x90\\xf3\\x10D7U\\x1e\\xe9\\x83\\xcai\\xd9D\\xd8Z3\\xf7\\xe1V\\xeaB\\x02\\x94ko\\xca\\xa3M\\xa1\\xafK\\xfc\\xcdi\\xf40\\xa7\\x88\\x9cX6\\xc7\\x1e\\x1a3[\\xa9\\x8c\\xad\\xe0P\\x14u\\x1c=\\xe9C\\x05\\x8f\\xce\\xd2\\x98\\xc5\\xc5>\\xac\\xd5\\x97\\xd6\\x17\\r\\xc1\\xa63\\xed;H\\t\\xd8\\xceu[\\xb7\\x94\\xf2\\x1c>\\xd3n\\xab\\x8a\\xc7\\x1a\\x12w\\xd56\\xbajr\\x05g\\xffS\\xde~\\t\\xf1\\x92\\x0c\\x1a\\x81y\\x12d\\xa3\\x9c\\xb0\"cBM\\xb2-\\x1e\\xae\\xab<\\xdf\\xcb{7\\xe5\\xad\\xf3k\\xe5{\\x83\\xb4g\\xd8\\xa1\\xea\\xf2\\x97BY\\x95mX~\\x00sM\\x8e\\xd3\\x08\\xd2 \\xd5\\xa4\\xcf\\x01\\x0f0\\x8eM\\x9eA\\r>\\xb4\\x0e\\xfc:O\\xbd.\\xb3\\xb4W\\x8ezl\\xcaN\\xcd\"8=h\\xf1\\xa5\\x84\\x82bz\\x98\\xc1u\\xb4E\\x9e\\xbd})m\\xa9%Q\\xc7\\xd9r\\xe5\\x1f\\xd1\\\\\\x04\\xd9\\xb9\\xb5\\'\\xee\\xba\\x8c\\xd9\\xd9\\xdfE\\xc0`j\\xaf\\'\\x9d\\xb7\\x1d\\xfb\\xe3\\x8e1\\xbe\\x14\\xbc\\xd7u\\x1c\\xed\\xac\\xa0\\x9a\\xa6\\xf8\\xc2PT%E\\t\\x17\\xc3q\\xfb\\xd2\\xbb\\x98\\xc9\\xaa\\xf4\\xd5\\x07\\xcd\\x95\\xc2\\xccJ\\xb9\\xe2R>\\xbb\\xd0\\xb6\\xef\\xa9\\xff\\xba.}\\xa2\\xb4\\xf2\\xdc\\xc3\\x16X1\\x81/HS\\xf1\\x85\\xa7\\x8c\\xff\\x87\\xda/E\"w;z\\xd3%\\xf8\\x1e9\\x9cc\\xb5\\x07_\\x94\\x04\\x18mR\\x1c\\x85\\x9d\\xb8\\xa1\\x84\\xf7H\\x1a\\xa8I\\xf0\\x8a)\\xd3Y\\xa1\\xbd8\\x1c\\xea\\xdd\\xd4>S\\xcd7\\xaf[\\x96\\xf2\\xe9\\x8e\\xd9\\x8ayU\\xf2\\x80C\\xc9\\xdc0\\xca\\x8a\\xbd\\xa9^\\xbcr\\xb0\\xf6\\x91u\\x94\\x0eX\\xb7\\x08O{\\x9d=@\\xab\\xae\\xd2\\x9b)R\\xa3&\\x99\\xc5l\\xe8\\xe10mr\\xfe\\xa7\\x99le\\xf6\\xda\\xa9Y?)P\\xfe\\xads\\xf3({\\x9f\\xc7A\\x9c\\xe2\\xed\"\\x16w\\x91\\xcf\\x10U;\\x97\\x92\\xe8\\xcb\\xf9\\xb2v\\xbdc:?\\x95Dr\\xb4\\xab`X\\xaa\\x1fA\\xb3\\xc7\\xd2\\xc4M\\xa6\\x98\\xe3\\xb9H\\xc4\\x9ab\\x06\\xb1E\\x9e\\x16kGa\\xb8\\xdb\\xc9p\\x0cQ|\\xb2\\x92n1A\\x18I\\xd1q\\xc3\\xa1\\xe3\\x11\\x80\\xb8\\xf5C\\x14\\xc5S,i\\xee\\x95:\\xf2\\x90R\\xd3\\x97\\xeb\\x9e\\xfaA\\xd4^\\x9b\\xea0\\xe8\\xb1,\\xad\\xb2\\x0c^\\x8a\\xd8\\xdc\\x16\\xfa\\xdc6\\x99\\xd3\\x90\\x9a9uS\\x9d\\x86Y\\xd57\\xbb\\x0ft\\xa6\\xc4\\x1d\\x852W\\xca\\xe8\\x13ju\\x1a\\xa9T[\\xfal\\xa4\\xb3\\xe2-\\x86Q\\x93\\xf8\\xc2\\x15\\xcf\\xa6\\x9a\\x813\\xa4\\x97\\x87\\xe9\\x17\\xe3\\x99\\xb6\\xcb\\xda\\xb6w!\\xfa\\xf9\\xcbn}=ds\\x96V\\nR\\x9d\\xcb\\xee\\x12\\x14\\xa9,Jo\\x14y|\\xee\\xffK\\xaa}\\xadc#\\xd6\\x19\\x8a\\x10#\\x96\\xd9t\\x13m\\xd2\\x00\\x96P\\xe5\\xa5O`\\x01\\t7-\\xd6\\x9a\\xc8\\xe4b^\\x95\\x962\\x1e\\x12Mhi\\xa6I\\x9e\\xc0\\xe3q\\xbc\\xd0SF\\xb2\\xaarHqX\\x8f\\xbax?\\xbb\\xe5\\xbb~\\x8af\\xfc\\xd0\\xd8{8.\\xbd\\xfb\\x9a\\xa0\\xc6\\x8fd\\xa3Q\\x13%\\x17W*\\xcc.p\\x96n\\x85z\\x05\\xe7\\xb1U\\x9a\\xcbr\\x87I^\\xdab\\x1a\\x9e\\x88[\\x15\\xa1\\xe1^9*\\x07\\xc4,\\x16O\\x90\\x13G7\\x8d+\\xacv\\xd5~g\\xca\\xae\\xd7\\xbf\\xeahe\\xf6\\xb5[\\x7f=SG$9\\xe4\\x1c\\xa9j\\xb6\\x1c!\\xc5a\\x1d\\xc7\\xf3\\xd3\\xe1h\\xf7\\x93\\xf5i\\xcbqi]\\xd9\\xae`L{6\\x80\\x84\\xa1Zj[\\xdd#M\\x0f\\xda\\xae\\xd5\\xb0\\x13g\\xa7(G\\xfb\\xe2^T\\x7f\\xb4\\x05\\x9e\\xcb\\xcaa\\xe9\\x9e\\xbb9]n\\xe6f\\x9f\\x8dlo\\xdaP(S\\x81\\xd6L)\\xa7\\xfc\\x14\\xd5\\xc4\\x1dW\\xecG\\xd4}\\x91\\xf0\\xd16,\\x8a\\xf2pJ\\x90Z,\\xdc\\xd2\\xb9\\xcc\\x03\\tM1\\xc6\\xb4\\xff\\xf5\\xcb\\x84\\x1f\\xfbo~\\xe6\\x04\\x0e\\x1f\\x9aOP\\xcb\\xa5\\xf8=J\\xfb\\xdfh\\x1f,?\\x8d\\x9f\\xc5\\xedN\\xb3\\xb7\\x9e\\x8a5o\\xe1(R\\\\\\x8fX\\x1ck\\xf9\\xae\\xf3\\xcc\\x1c\\x8a\\x13\\xeb\\t\\xb3M\\x0bZ\\x16K\\xbd\"\\xadd\\xee\\xff4O\\x17\\xa1\\xa4e\\xcdi[1\\'?{\\xb2H\\x10P<\\xc5a}\\xdc+\\'\\x91\\x08\\xb6\\\\/eri\\xb7IV\\x1ej+\\x1d%\\x1a\\xbe\\x05\\xd7{\\xf1\\xff\\xe4\\xd0\\xe7\\xd3\\xe0\\xdc\\xba\\x89\\x15#\\xda\\xd5\\x85F(~\\xfb\\x15\\x04\\x7f\\xfd\\x13\\xe3\\xda\\x96\\xebq\\x8fF\\xf6\\xadK\\xa8XH-\\xc5(G\\xd8\\x1f\\x0f\\xb6C\\xf1\\x88\\xddf\\x9a\\x85\\x88\\xcd\\xf2\\xd8Sm\\xae\\xe9\\x98#\\xe5\\xf9(\\x01yZ\\x91VT*B\\xa3\\x8fa\\x93E\\xdb\\x9c\\x10<\\xdf\\x8f\\xe6O\\xbdh\\xdb:!\\x14Zs~\\xc1\\x92\\xed/{U\\xdb\\xef]\\x1ez\\xd38g\\xb2;\\xccn\\x9bT\\xaa,\\xfe\\xc0z\\r\\xa4\\xc24E\\x0f\\x87\\x17?<i\\xa7U\\xc8\\xd0\\xdc\\xbd\\x90\\xd5\\xe6\\x91q\\xe9\\xd1b\\x96Yzc\\xe1\\x1aV\\x96\\xb3\\x8d\"\\x17J\"\\xbf%\\x064\\xc58\\x96\\x86\\xd5w\\xb1\\x90\\x85\\x17\\xd2k\\xd7\\xbc@\\xb9\\x85\\x15\\xb0#\\xbf\\xe2\\x9e\\xef\\xbb\\xf7\\x01\\xaa<R\\\\\\x85\\xbe\\xdad\\xaf\\xe7\\xd3\\n\\xb0\\x98\\xa4\\xfbH@jC+\\xa7.\\xe6\\xfe)\\xee\\xadE/^\\xef\\x94I\\x9e!\\xafxm\\x01R\\xca\\xa1\\xef.0\\xa0\\xeb\\xd3\\xa1\\x80q\\x1bz\\x08MuF\\xec\\x02\\x0bi\\xe8\\xc5\\x96Bi\\x89<\\xb6\\xd9\\x1fZ1\\n\\x16\\xc6pb/\\x14w\\x86:\\xe42\\xae\\xba~,\\x0e\\xa8\\x9a\\x1c\\xbbb\\x80\\r>\\xc4\\x93l7\\r\\x05U\\xd7\\x1b\\xc5\\x97Gq\\x98\\xddl\\xedS\\xbe\\xa65r.&\\xd2]O\\xab\\x94\\x97\\xfc\\xb0\\x91\\xc6\\xd6q\\xa9iE\\xbd\\x0b\\n\\xc5]a)z\\xb6\\xe2\\xa0\\x9a\\xd74%\\xfc\\xa6\\x93\\xa4\\x16\\xe2\\x9c\\x8a\\xd1\\xb47\\xafEZ1\\xe4Hq?\\x0c\\xbcR\"\\xfcKy\\xe1\\x0b\\xeb\\xe9\\xa5\\x1f\\xd9u\\xd3\\x10\\xc3.\\x8c\\xb9(\\xb0}\\r>\\xdf\\xd7\\xc1)V\\xd4\\xe4\\x8e\\x9bu\\x14B\\xe7.\\x8a\\xb6\\xe5\\xa5\\x88\\xcf\\x97%Qr\\xcd64/s\\xd2\\xa1\\xc9\\xf6\\xb7\\x98}\\x05Y\\xcd~\\x8ap\\xf39v\\xc6\\xd4\\xde/*\\x93\\xbb\\xcc%]o\\x96\\x7f\\xdb\\xaa\\xea\\x0c\\xed\\x93B6d\\xd7\\xf0S\\x1bV\\xa7\\'C\\xe6]i\\xfc4\\xbd\\x1e\\x96\\x03@\\xcd\\x81\\xce\\xf20x\\xb4\\x88)\\x90d\\xbb^C\\xca\\xa0|\\x90\\xbb\\x9a\\x180H\\xfc\\xfc7\\xda\\xa6\\xa4\\xd0M\\xd1\\xc4\\xa1\\xa7\\xf6\\x14Q\\xd2\\x8an\\xec$\\x18\\x8d\\xbe\\xcc\\xbaUa\\xde 7\\xf6\\xe30n\\x82\\xd6\\x9f\\x8f\\x86T\\xabH\\xa3q\\xb7M\\x0e\\xe0\\xd6\\xd9b\\x16\\xf1\\xe7m\\x1d\\xbf\\xd8\\x7fK\\x8f\\xb4%\\x99l\\xa6\\x1c\\t\\xb5c\\xb4\\x07Z\\x05i1\\x88-)?\\xe6FA\\xd75]\\xbf\\xa1:\\xfb*\\xca\\x8c\\xd6:Sk\\xd7\\xa2\\xea:eA/wd\\x16\\xe5\\x89\\xc3)r\\x93\\xe6\\xb2n9\\xbc\\x1c\\x1f-\\'\\x9ck\\x1a\\x8fd\\x07}\\x01\\x1b\\xaf\\x9fU\\xcc?\\x88`Y\\xe4T\\x85\\xab+\\x14p\\x17\\xbe\\x98%\\xee\\xa4\\xcf2\\x1e)\\x8fG\\xa8\\x9eL\\xea\\x94Q\\xb3\\x05\\x81w\\xf5C\\xc7\\x03\\x98*l\\x8c\\x1c\\xe9\\xc6\"\\xef*\\xeb\\xd4\\x1al)\\x0b\\x7f\\xff\\x82\\xad1=\\xfd5&/.\\xb4S\\xc1v\\x1b\\xa2]2\\xc3TQ\\xb3\\xcf\\xa2ac\\'v+\\x02\\x8fVQ\\x93~\\x95\\x05f\\x1f\\xf6\\x90\\xd5\\xcch\\x9e\\xa17S\\xa706Y\\xea\\xe31\\xfd,k\\xc1\\xb6\\xd1R\\xach@\\xcc\\xefS\\x9a\\x93\\x9c\\xe4\\xb4\\xd8Y\\x83)\\xdf\\x0eB\\x9a\\xc8\\xd8\\xfbV\\x88\\x9b\\xbb\\x9c\\x01E\\xdaRVF\\xe1(\\xab\\x9dS\\x8e\\xc0Y\\x94\\x07\\xf5\\xe4\\xfa\\xea\\x89\\xbe\\xb7\\x17\\xf9eY\\xd7GQ\\xc5]{\\xccJ\\x0b)\\x1c\\x1f\\x96T\\xd2\\x9c\\xec\\x03\\x0c\\xf5B\\x96\\xec\\xf3\\xb68\\x88o\\xd8\\xa4zQf1\\x1b\\xad\\xefVLj\\x17m\\xdan\\x1b?~\\x15\\x02\\xbeD\\xd5\\xd9i\\x19\\xe6T\\x16I\\xf3\\xb0\\xad\\xaf\\xc5\\xde\\xbc\\xc9\\x9e\\x8a*L\\x16P)\\xff\\x8eJ\\xa7\\xc3p<l\\xed\\x0e\\xcdE\\x96z~\"\\xcd\\xdb\\xb1\\xb5\\x9b6\\xb6u\\xb6\\xd8\\xbat}\\x95s_\\xab\\xf4)$w\\x12\\xcaHz\\xdf\\xa1\\xde\\xdc\\xd9\\x0c\\x9eWS\\x11Z\\x86\\xdf4\\x03\\x1f\\x87m\\x1c\\x8e\\x18\\x0cjG\\xe5\\x86\\xb0\\xf5{\\xf4\\xe0\\xed]q\\xfe\\xee\\xe8\\xa8\\x00(J\\xe8\\x8c\\xe2\\xa5\\xe6X\\xec\\xe8\\x05\\xa9\\xd6Y\\x14\\xcb\\xa0Nz\\x18%k\\xb7\\x878\\x97\\xe8\\x99j\\xca\\xa1dI\\xf3\\xe4\\xad}\\x0f\\xf1^*\\xac)\\x7f\\xbdDB\\x87H\\xa2\\xf3\\x10o~\\xc1\\x0f\\xed\\xef\\x8c\\xaa\\x167e\\x03\\xcfH\\x03c\\xd1\\xb3\\xa1\\xfc\\xdf\\x82s%\\xdb\\xcf\\xa2\\x13\\xb0\\x99\\xb6l\\x81\\xa4\\xb3X\\xb1\\xdad=\\x83@\\xb8\\xf5\\xd59Cr\\x95\\xb8\\xe3\\x13\\x94\\xe6\\xcb\\xb1jN\\xd3A\\x87`w\\xf9\\xd0\\xf4J\\xc1\\xcc\\xbae}\\x1f\\xfa\\xfb\\xe5\\xeb\\xd6\\xe3\\x90\\xa7\\x87\\x04\\xebP\\xaa\\xe8\\x11\\xfe\\'\\xb7#75\\xdcn\\x1a\\xa39k\\x8b.\\xaf0\\x8b\\x15\\x98\\xd0d\\x85_\\xf7*\\xc2M\\xda6?\\x8fV\\xb2f\\xaaG\\x82p#\\x1bNGk\\xa5\\xbb\\xdbGY\\xb7\\xac\\xb1\\xa3\\xc8\\xf8\\xf0\\xa9\\x87\\xac\\xae\\xe8\\xa6/\\xc3\\xde\\xe1\\xaf\\xd2d\\xfe\\x8d\\xfd!\\xd1\\x82\\xddx\\x08\\xa7C{\\x0fEko-\\xc9\\xcf6\\x85\\xc6\\x8aH\\xa1%G\\x19\\xf8\\xb6&#_\\xfd\\xa7\\xa3*\\xeb\\x92A\\x9d\\x9a}\\xa6\\xc3\\x90^=\\x95\\xe5W\\x89\\xa1\\xfc\\x9a\\xde\\xbe\\xfe\\xc2^\\xf5\\xb7\\xd9\\xf5z\\xea\\x8b\\xa4:\\x1d\\xef\\x1f\\x07vw\\x99\\xd2\\xc9\\xd3\\tG\\xf5\\xab\\xadlM\\x8aXN\\x1by!\\x03\\xd4\\xf3i\\xd2\\xde\\x19\\x1dF\\xed\\xd6\\xac\\xb2|0\\xd5\\xff\\x106\\x1dC\\x9a\\xd2(\\xc2\\xca\\x86\\x1b[\\xcd\\xe3(\\xe4Z\\xe4c\\xbb\\xaa\\x85\\x9b\\xd6|\\x1a:\\x8f\\xde/#\\nKF{\\x8f\\x94\\xba\\xaa\\\\\\xfa\\x97M\\xf6\\xde\\x91\\xaf\\x0e\\xc8\\xee\\x9f,\\x93\\x934\\x85\\x9e\\x1f\\xc6\\x82\\xcd\\x905\\x16/*\\x1d\\x11\\x97r<\\xb6\\xea\\xa5\\xdb\\xfe\\x8e\\xea\\xb8\\xa3\\xb4\\xee\\xbaC\\xac\\xa4T\\xbe\\xf1G\\xbc\\x958\\x0e\\xe1g\\xcb\\xb6\\xf7\\x14Z\\xb7\\x8b\\xa0\\xfe\\x84\\xf8\\x9e\\x80\\x9c\\x96\\xb1\\xa3\\xb9\\x82\\xdaS\\xe4\\xaa$\\xa9i\\xa9Y\\x99\\x82j\\xbb,\\x95$\\xbe\\xe6\\xcb\\xafU\\xa8G\\xd1j:\\x10<\\x9c\\xb5wu0\\x94\\n\\xe6\\xb7M\\xebsfiMm\\xb8\\x93\\xca\\x19r\\xab\\xb3\\x0b\\xed\\x1c\\xa4\\xfey8\\xac\\xbf\\xc8\\xde\\xd7\\xbd[\\x1b5U\\xb5\\x8f\\xca\\x83\\xc5o\\xb7)\\xa7\\x9fUb\\x9d\\xee\\x97D\\x99\\xd0#Q\\r\\xb6\\xa2\\x04\\xff\\xf5\\x8e}\\xfd\\xe8\\xc3km\\xf69\\xef6\\xe0;\\xa4oV\\xe6j/ o\\x8e\\xfb2\\x02mR|t\\xb6,J0if\\'A \\x1b;\\xe7\\x16J\\x8e;~\\x0e\\xa6\\xf8;\\xed\\xb3di\\x02$M\\xef\\xb1~\\xaa\\xabx\\xfe\\xe6\\xba?\\xa4\\xf7\\xe2\\xe64\\xbf_\\xcb\\xb2-0\\xbb\\xa2*[\\xaa\\x05Q\\xddE\\x05\\xc9\\xf9\\xe2\\x0e\\xb5kU\\xde\\x1a6A\\xe6\\xa6\\x00\\xcbT\\x89\\xf5)\\xa2\\xd7\\x82L-\\xc7\\xa7 \\xdc\\x1b\\xb0\\xc8!B\\x11\\xfas|\\x1e\\xdd\\x94\\xf2\\'^\\x7f\\x81w+\\xe4d\\xfe\\x0e~\\xdb_\\xcc\\x7f\\x12L\\xbe\\x17\\x93\\x14Y\\xdaS\\xccE\\xc8/\\xcfc\\xdb\\xb6\\xb0\\x11\\xac7\\xad\\xbe\\x9b.\\xe3\\xc7\\xc2\\xef\\xab\\xe8\\xfd\\xfa\\'N\\xb3\\x1e\\x141{QJ\\x1cti\\xcbq^@\\x87C\\xd3q\\x99\\xf3\\xc5\\xfe,\\x8b\\x04B\\xd0g\\xa9m\\'\\x9a\\x17\\xec>\\xf5\\xb1lt\\xad(sQ\\xdd\\xc1\\x1bQs\\x8c\\xe5\\xa2g\\'\\xcd\\xc1Uw[r\\xcb\\xf4iHC\\xde!5f\\x91\\'\\xab\\x15<\\x1e\\xb9\\xa8\\xbaJ\\x9da|O\\xebnI\\x08)S\\xd2)\\x96u\\xe8\\x98\\xc5}U\\xb2\\xaaZ\\x19\\x8aFG8\\xa2\\x12\\xea\\x1fG\\x86\\xfb\\xc3\\x19\\xfc\\xd5)\\x7f\\xbd\\xc6d\\xa22m\\x89K\\xfa\\xb9Q\\x87\\\\\\xab\\xc0l\\xd3ci\\x90\\xf3n\\xc9ZM5\\xe0/:\\xec\\x15\\x10\\xe4\\xe3\\xcc\\x87a\\xec^\\x82y%\\xca\\x0ccjs\\xc6r\\x86ytS\\xb6\\xab\\x15\\xd6\\x0b\\x1bA\\xd9\\xce\"<s\\xc4`\\x994w5\\x04\\xca\\x84e,\\x1e\\xf1\\t\\x96\\xbd\\xd2s\\xe1\\xb0?\\xbb\\x8b\\\\\\xb4D\\x8e\\xf7#o\\x1f\\x14\\x9b\\x15\\x11\\xa9\\xf9v\\xac\\xd5\\x8cn\\xe3\\xc8\\xed\\x1b\\x80l\\xd7Q\\xf8J\\xad\\xcb\\x18\\xfao\\x97\\x01\\xdc\\xf3\\x93\\xaf\\xae\\xbf\\xb6\\xfe\\xc9\\x9c\\xf8\\xcb7y=\\x90U\\x1cn\\x9c\\xe7\\x86\\x0b;\\xd4IQ:6\\x8a\\x81_q\"r\\xa6\\x10*\\xe0l5%\\xbb\\x15\\xb4d\\xc8,F\\xebB\\x18c\\xd0\\x9a\\xdej\\x1dm\\r\\xfc\\x8a\\x7f\\x9d\\x15\\x02\\x7f/y|\\x97\\xea\\xd1\\xd4\\xb2I\\xce\\x19\\x8f\\xf8\\x01-\\xbc\\x87GH\\xa1\\x0b\\x86\\x8a\\xde\\xdba[\\x14\\t\\t\\xc9\\xe2\\xc2^\\xdaT\\xb8B1\\xfeU\\xdc\\xc5\\xac\\xa8B`\\xcc\\xae\\x9e\\xa6,\\xd8a\\xaa\\xc1\\xcaYG\\xa5\\x06=s\\xb70\\x87m\\xabj6)\\xd6\\x82\\x80\\xb65CS+i\\x16\\xd7A\\xa7\\xdf\\x05}\\xde\\x8f\\t\\xc7`\\xb5\\x0cy\\x15\\xe9X\\xb5y\\xda\\xcd\\xd2S4\\xd2\\xa8\\xbbV<\\x85\\x05\\x1cL\\xd5\\xdf\\xb7N\\x03\\xc3s<\\x87\\xd2R\\xbf\\x0c\\xe9/io\\xe9\\xd8\\xb5\\x15\\n]\\xaa;(\\xca\\x91Y$\\xa8\\xedM\\x99\\xa6wG\\xec\\x02\\xc7\\'\\xf0\\x8b\\x93\\x84\\xee<4+\\xbaR\\xed\\xb9\\xc0.\\x85\\xd0\\xad\\xd3)\\x84\\x0b\\x9b\\xee\\x8b\\xf6zo\\x0c2M\\x07\\xd9M\\xff\\xd2}l\\xf78\\x14\\xba\\xd5\\x94@\\x08\\x06\\xb7S\\x90w!7\\xa7\\xd0\\xb6\\xbe\\xc1\\xf3\\xdf\\xa7a\\x9c\\xf0\\x88!|\\x8d\\xc7\\xb40Y\\n%W_\\x0f}\\x82\\xad=CH\\xad\\xecC\\x05\\x08\\xbd\\xdb\\x96\\x99c\\xc8\\x91m\\x9e\\x8e\\xb3\\x91]\\xed\\x14\\x8c\\xaf\\x9ck\\xc8\\xfe\\x18\\x1e\\xfd7Y\\xa2\\xfb%\\xc2\\xff\\x06ZG\\x0b4\\xfd\\x9b\\xd8\\xb7P\\xe3@c\\xec\\xd2X\\x90\\xd9\\xbc\\xd4L\\xedS\\xea\\xcb\\x90=\\x93\\x1c]\\xb1tI%m>\\xa2\\x8aZ\\xb0!\\xbf\\xf4\\xb4\\xff\\xfe\\xc1\\x17\\x18\\xa1\\x82\\xe3-q\\xd9]\\xfa\\xaa\\xcep\\xf2\\x90\\xdcl;\\x8e3\\xa6b\\xe4z\\x0e\\xdct\\x9ef\\xce\\xa0\\xf3p+\\x11f\\xd0\\x9b~ki\\x9aT\\n`\\xf3\\x91\\xaa]?\\x8e~\\x01\\x8b\\xd1\\xddxxOe\\xc2|\\x0e\\xe1\\xa6\\x9b\\xa6\\x84\\x8a\\x84\\xa9g\\xd2NE\\x9a\\x1fE\\xbe$\\xb3\\xce\\xfe3@^\\x9fI]\\xd7\\xc2\\xfc\\x8b\\xc3~}\\xe0\\x06[\\xa6\\x8a\\xcbVB\\xb7\\xd0\\x1a[\\x85\\x06\\xa7\\x1e\\xcbIvNE\\xd0\\xac\\x13\\xbe2\\xd6\\xafgX\\x0c\\xef\\xa8\\xa0O\\xd1\\x8f1_*\\xe9y;\\x8e\\x89\\x84lN\\r\\xee\\x97\\t\\xc0\\xd7\\x85\\xe6\\xf5\\xf6\\x87\\xb5\\xab\\x92\\x83\\xe5\\t&\\x1d\\xe8\\xa8\\xbd=\\xd1\\xb9j\\xe3\\x1c%\\x1d\\xa2+\\xe2x\\xb8\\xf2\\xfb\\xee)\\x1a\\xcbim\\t\\x98\\x06\\xe8\\xa9\\xebT\\xa1\\xfc\\xa5\\xd6^\\xe5U\\x97\\x10\\xbe\\x85b\\x7f\\xcdY^o\\x81Qx\\xeb\\x0e4\\xa4\\x93\\xe7$\\xbd\\xee\\x9b\\x18\\xbeEh|uD\\xde+\\x8c7[\\x98\\x86)v\\xa272\\xcc[\\\\\\xb0\\x9d\\xba\\x82\\'\\xe6\\x8b,\\x9e\\xedtG\\xab\\xb4\\xb4\\x1aI\\x81\\xebyx\\xf3S\\xdft[%MG\\xa2\\xb1\\x9aG\\xa4\\x8a\\xf9R\\xedv\\xb1\\xbb\\x17\\x1c?\\xf4\\x9d\\xd7\\xd4y>\\x05\\x18I\\xb5\\xfc\\xa5\\xf8\\xbfW\\x97\\xa6\\xe8\\x02%\\x95g.\\xea\\x93\\xa1L\\xcb\\xb2\\x7f}\\xd2\\x1c\\xcc\\x84\\xa1lh\\xba}\\\\u\\xd8\\x8a\\x96\\x92\\x94\\x92\\x10\\xbb\\x96GJL\\xac\"\\x98\\xf7~NN\\xb7\\x95\\xdf\\x10U7$p\\xca\\xa8hB\\xe6\\xa6\\xb2\\xbbc\\xa8E\\xd2\\xb4ZL\\x13\\xf5\\xc2*;\\x02\\x83\\x1d#*\\xac\\xe8\\xf8\\xb8\\xa5\\xd9\\xde2/\\x15\\xf04e\\x867S\\xeaS,\\x0e\\x15\\tk\\x83\\x81\\xf2\\xcd\\t\\x8cY\\xbc\\xe2\\x01\\x16\\xbbi\\xc3\\xa4,o\\x81\\x19\\r\\xdb\\xe3\\xf10\\x9b\\xba\\x89\\x19s\\x14\\xa19\\xe9\\xd0:&c\\xd9\\xbb\\x94\\n\\xc6\\xc3\\xb9\")R\\xd8c\\xdf\\xa9\\xe5\\xad\\x9c\\xd0\\xb9(\\xd1r+>`S\\xbd\\xb8\\xdd\\xe56\\\\l\\x1eP\\x13+\\x1a\\xcan\\x1e)\\x18+U;Y\\xea`\\x19\\x1f\\xda\\xe2\\xcd\\x8d\"\\xbfUl6M\\xc3\\xb7\\xc8\\x919\\x88\\xd13(\\r\\xc7\\xf8In\\xf3\\x1f\\x9d\\x86\\x9f8\\xd2\\xfe\\xe6\\xa7G\\xc2)\\xa8\\x8f\\xeb\\x0c\\xa6\\xac3i\\xcd\\xb4%DA\\xe5\\xeb9\\x15yt$p\\n\\xb7*\\x94]>up\\x06\\xc2\\xa0i\\x0f+\\x01\\x80Xr\\x8e\\xa4\\x15\\xe1q\\xd3\\xcd\\xd0\\xa4C\\xa4\\x8f\\xa7k\\xa9\\xdd\\x0f\\xa7\\xefLc\\x9a\\x18\\x98Q\\x86\\x9b\\x9b\\x1e\\xdb\\x8d\\x82\\xef\\xeb\\x10\\'\\xbc\\xdf\\x05\\xe8\\xf9\\x08\\x89\\x91\\xfc>\\x06\\xf0\\xe1\\xd8\\xb0\\xb3\\xaf\\x8b\\xc4\\xea9\\xaa\\xf4\\x08\\x9aj\\x05\\xf5\\xeb\\xe3\\x18E\\nq\\x17n\\xa3\\xc1\\x83\\xc3,\\n\\xb7H\\xe1\\xfd39\\xdfb\\xf2\\xde\\n\\x17d\\x01\\xf8^\\xc5\\xe9[\\xe1\\xef\\x9b\\x95\\x9a\\x94\\x8bhY\\xcaw:O\\xcaG\\x95\\xbd\\xd08\\x14\\xf0W+\\x8da\\x8d\\xe2[\\xc1{\\xab\\x9by&\\xbd@\\xf1\\xde\\xc5\\x8cep\\xcc\\x1e\\x83@;\\x85f]r\\x0e\\x0fQ\\x05\\xf2\\xbbb\\x93]\\xa4Ms\\xad\\xd4Q\\xe2.\\xb8H\\xd6lw\\xf6\\xd1t\\xa3/\\xfe\\t]\\xf8\\xee^\\xec\\xfa\\xe2v}c\\xa0\\xafIQ_\\xb56\\x8f\\x87u\\xe8\\xd5\\xb3\\xed\\x9ev\\xa9\\xfeM=\\x90\\xd5\\x89\\xb4]\\xf9\\xa1\\xe6\\x98oil\\x1eAU,#\\xb5\\x9d\\x1f\\xca\\xee\\xfe\\x9b\\xf3\\xf3\\x17N$Y\\xf9\\xcb#`\\xa8\\xe3\\x18\\x8d\\xf51\\x06\\r\\x9f\\x93\\x0c\\x16\\x96\\x1a\\xbc[\\xdcg{Du.\\x85#\\x86\\xd6\\xb4\\xee\\xf3\\x9b\\x11x\\xb2\\xb0\\x1b6\\x9b\\xf8\\x88\\xb6\\\\\\x82<\\xa6\\x84.\\x9fF\\xf3\\x84\\xbc\\xe9\\xb5\\xb3\\x1b\\xe1\\xceM\\xde\\x82\\r\\x90/P\\xfd\\xf5\\xbclo\\xa4\\xd29!\\x1d\\xa9Uhm\\x01\\xd6\\xb0\\x04%\\xc6~eZ^\\xdf\\xa9P\\xdb\\xf4-55\\x8a\\x87\\x94\\xd4%\\xech5z&]\\x1e\\xf9Z\\x04\\x8fe\\xe3jHJ\\x18\\xc5\\xc5\\xa2\\x80\\xaa\\x0f`\\xd4=U\\xba\\x99r\\x1b\\x95\\xbc\\x1e\\xfa\\xf9\\r\\x15wFI]D\\xa1\\xa7\\r\\xe7i=\\xf1U?\\x7f\\xbd\\xa88\\xae(\\xa9\\xf8\\x92X\\x1a\\xb3\\x86\\xd6Tu\\x1e4\\x88\\x9a\\xf5\\xf6\\xfd\\x7f\\xaeK\\xb4i\\x98\\xea\\x15\\x9b\\x8f\\xde\\xd8\\x91!4;\\x14{9[\\xd1p\\xe9~\\xeb\\xb7\\xa0\\x1d\\xebc\\t\\xd9\\x97BGj\\xee\\x14\\xc4\\xc8\\xadc,(\\xde+(5\\xf8)\\xce\\xccN,Bm\\xb7e\\xe6\\xf6\\x1d\\x05\\xbf\\xbe\\xd3jjt\\xd6~yQSI\\x80e\\xb7+\\xa6\\x08:\\x19\\xef}\\x9a\\xdc=t\\x85z\\x92\\x99\\xad\\x82)yh\\x02,m\\x13\\x97\\x12\\xddEm\\xaa\\xeb\\xb9=\\x8a\\xa8\\xbc\\xa6\\xbe\\xad\\x80\\xbaD\\x0e\\x97A\\xc0\\xfd\\x83\\xf7wL!$\\xe10\\xa1t\\xc2C_\\xce>\\x85S\\nC9K\\x05\\x12mZ{\\x81\\xb4\\xc9\\rY\\xb9\\r0\\x8f\\xcbT)\\x9e\\xa4\\x9c\\xfa\\xe2\\x96^\\x7fQ:gM\\xa9\\x9d\\x1c\\xc6y\\xca\\xab\\x87\\xa3U\\x14\\xa7%\\xff*\\x0cA\\x8d\\xcfCy\\xedi$\\xe8{Z~\\x91\\xcd\\xc4*\\x12\\x00\\x9a%\\x08_\\x96f7\\xd4\\xa0P\\xa3cT\\n\\xb3C\\x12\\xcdO\\xa6\\xad\\xc9\\xef\\xd8\\xf6\\xfd\\x9eEe\\nX\\x0b\\x07@\\xc5Zg\\n\\x1av\\x05\\xb3\\xc5\\xb7\\xd8\\xb3(*\\xfd\\x12\\xe0\\xbbJx\\xa9\\x8b\\xc1\\xcd\\x84\\x99a[y\\x86\\xfeG+$\\x89\\xa7\\x92B&]\\xdd6\\xd5(\\x82%\\xaa\\xd9Ga\\x81(\\xfbq\\xd4\\xc8,\\xfa\\x08\\xe16\\x88ie\\xa42`\\x1f\\x92\\x12\\x16?[hz\\x9bY\\xce\\xf4-\\xcc!y_\\'\\xa1\\xafJ\\xcc\\xef?9v\\x85\\xef6\\x00i!\\xa9cu\\xb2\\x8e\\xad\\xa1\\xdb\\xe8\\xcc\\xb6b\\x91\\xd5\\xdf\\xc8K\\xfbU\\xd8\\xd7\\xd1\\xb4\\xb4\\xa9\\x0f\\xd7l\\xf4u\\xcd\\xc2ZW1T7\\x89\\xf4J\\xb7\\x17\\xf6\\xa5\\x0f\\xbc>\\x98\\xe4\\xe4\\xbd\\xd1\\t\\xcd\\x82\\x9f\\xb7\\xb9\\xbc\\xb4\\\\?E\\xbe\\xc6\\xc3\\xfc+\\xcc\\xf4\\xba\\xb9\\x06\\xd2\\xe4\\xc6I\\nx\\x01\\xb5\\xb1,\\xbf4\\x999i\\xb3Bf\\xcc\\x9a\\xe4e\\xcb\\xc4>\\x04[\\xa4s\\xef\\xa3<lS\\xac\\xb3/\\xb3\\xe3&\\x9ex\\x15\\xf3\\x07^\\xf6a\\x1e\\x7ff10\\xb1\\x17\\xd1=z\\x02\\xe6\\xda\\xd4\\x16\\xb8\\xb0\\x16\\xc2^\\xf2\\x11\\xb2\\'\\xc4\\xb4\\xdb\\xd2\\x0e\\xedE\\xc7\\x11\\xc0A\\x9a\\xdfe8\\xad\\xe9\\xa0\\\\\\x97,-\\x803X\\xc5a(\\x15G\\xf8u,}]\\x95L\\x9b\\xfd\\x00Vh\\xaa#\\xdc\\x04\\xc3\\xda\\xd3\\x03Q\\x94\\x8d<\\xda)\\x9fe\\x99b\\xe4\\xa1n\\x92\\xdb\\xbe4\\x92\\x9b\\xb3\\x08\\x84\\n\\xebR\\x8c\\xf98\\x04/\\xf1\\xbc\\xc5\\xf1\\x03Vh\\x88\\xb3\\x0f\\xc1\\x0bG\\xeb\\x83\\x10\\x0e\\xd4e*\\x0ceY\\x1d\\xbd7\\xe9\\x11\\xb9\\xc1\\xe7E\\xb1\\xb3\\xd2\\xfcl:\\x07\\x0c\\xf9\\xd0SK\\x86\\xfd\\xd0|\\xfd\\xb6\\x17_\\xcfX\"\\xc7^\\xf4\\xc8o\\x02kc\\xd4\\xca\\x9c\\xcdfkc\\x06O\\xd8\\xde\\xd9\\xb6\\xb5\\xbaGi\\x1a\\xfb0\\xd4\\x86\\xda[\\xb5\\x92\\xc9\\xa1r\\xb3O\\xd2\\x03\\xc3\\xac\\xb3\\x90d u\\x17\\x86x,b\\xbd\\\\\\xa81KT) 9\\n]\\xf3/\\xb5\\x15\\xa3\\xe8~k_\\xd0\\xdd\\xbe\\x11\\xc5w\\x94\\x1c\\xd9\\xd4=U\\xd5\\x88*\\xa7m\\xe7\\xdf\\xa4o\\xd8\\xd7\\xfff\\x81\\xaf\\x85b\\xf2\\x19%\\x82j\\xd6\\xd7\\x0fD\\x08\\xc7\\xe7c\\x169/q\\xe8BRSu\\xfeL\\xe9;i\\xe3q.\\x0f-\\xfa\\xd4K\\xe7\\xb8\\x98Lf\\xb3\\xfc\\x93Tx\\xec\\x84\\xab\\x9e\\xe21\\xb5\\x96^\\xab\\xc8B\\xbd\\xbf2\\xd4\\xa5\\x907s\\x1e\\xf1$\\xf6+n\\x91F\\xa6)@~,\\xe1\\x1f2\\x8a\\xb3U#`\\x9aS6j\\xc3\\xd7fV\\xe0\\xd3jg\\x94\\xe3\\x96\\xb8\\xbd\\nUN\\xdc\\xbe\\x9a$]#\\xf7e2\\xdf\\xa6:\\x03\\x85\\xef\\xa8\\xd2R\\xa1p;\\x16Z\\xfa\\x9a\\xcdMo\"T\\x88\\xd8\\xda\\xd4\\x16\\xe5\\xfe\\xa3\\x86D\\x91$)\\xa0\\xe8\\x90u\\xd5lC\\x9e\\xce3n\\xda\\xc1\\xfeTm_\\xa7\\xd6\\xaf\\xaa\\xdf\\xebV\\x94\\xb09\\xbdX\\xa7\\xf0\\xee\\x87^\\xa2\\x8a\\x9e\\xf7rh\\xa9\\xfd0\\n\\x1cAF\\xe3\\xa6\\xaf;<\\xd7\\xb6B\\x05\\xbd)\\x16bW{-P\\xe6C\\x99\\xf4\\x12\\x9d\\x86\\xe2\\xba_\\xff\\xbe\\xd7\\xaf\\xd8\\xef\\tw[\\xb5)\\x13\\xba^o\\x8e\\xbc\\x9d\\x93\\xee\\xe8\\x8f\\xbd\\x8a\\xf7\\xb7b\\xd8M\\xcd\\x1c\\x87\\xefC}\\xa8,\\'\\xc8\\xc3\\x9a\\xee\\xaa\\x15\\xae\\xa5\\xdal\\x98\\xae\\xe8/\\xfe\\x88\\xdcq\\xe4X \\xb2S\\xd9\\xb3\\xfd\\x94\\x15\\x0c\\xecK\\x99\\xef\\x08\\x85T\\x04\\xc0\\x0e\\xe5\\xc6\\xabl\\xe7\\xa4<kF\\x9aP&\\xb7/\\x8dh\\x8e\\x10PE^\\xf7C\\x0e\\xb3E\\xac\\x85v\\x91KW\\xaa(3\\x83i\\x0f\\xb3\\x96\\x07$B\\xa9@{\\xa8dP\\x1c\\x07B\\xcbD\\x07\\x8cGk\\x84m\\xd3\\xfc(\\x9f$F\"\\x1eZ7K\\xa1o\\t\\x1dk\\xe9\\xfb\\xa5\\xf9\\xc4R\\x80\\xc16\\xde\\x8d\\xfe\\xa4\\xae\\xfa\\x9a\\xdf\\xf4\\xec\\xfd0\\x8e\\x8a(\\xab\\xeb\\x0e\\xb3\\xe8Lo\\xe7\\x01w\\xc3\\x9aX\\xb2\\xfd\\x9aNs\\xe90\\xfe(\\x18=\\x0f\\x89{\\xeefl\\x92t:m\\'*\\x0b?\\xb6\\xcf\\xa3\\x83z\\xdb\\xc7\\x0f\\n\\xd7\\xc4M\\xdc\\x96f\\xd3V%\\xa1\\x92\\xcf\\xd10&\\x1e]V\\xa6\\x8c\\xb2m\\xaf\\x87\\xe0\\xf3L\\xd3\\t5\\x1b\\x8c\\xcd\\xbb(\\xf3\\tx4\\xa3[\\x16\\xc5_\\x8d\\xa2\\xf7\\xfeT\\xc4j\\xcb\\x9b\\xb7;\\xa2\\xc5\\xa9\\x08\\x81ay\\xbf\\x8b#\\x9c5\\xc6r\\xbdu\\xc5\\xed\\xfa\\x12\\xb5-Qu5q+J\\x1b\\xf6\\xe3\\xb0Q\\x9d\\xfd\\x9bf\\x97Z\\x92\\xea\\xf3!\\xe0K\\x07\\xfa\\x02\\xbd\\xdf\\xef\\xbdj)\\xf1\\x1e\\xb7\\xc8\\xdf\\xa9_\\x8cD\\xc1L\\x82M\\x9a\\x88\\x17\\x93\\xbd.v\\xbb\\xa9xvT\\xf2Y\\xc6\\xa7rT\\x9d\\xc6?\\x19\\x9e\\x08e$5\\x1e;]>\\x8f%P\\xe3\\x05\\xea\\x8f\\xbf6?\\x89\\x8fcb+r\\xfb\\x1b\\xc5m\\xf5\\x1c\\x02\\xf8\\x19d\\xb0\\xc3q\\xadXs\\xff\\xc1\\x14\\xea\\xb9R\\x10\\xbf=\\xa6\\x94\\xa3\\x1d\\xaa.g7\\x83\\xb5\\x8b\\x1e\\xa5\\xe9T\\xf2SA\\xa9\\xf1(\\xd6\\x7f~\\x86\\x08\\xf3/\\xc7\\x07d\\xf2\\xaf\\x8f\\xb4\\xff\\x9d\\xfd\\xb9V7\\x90\\x08\\x11})R9\\xfa\\xbbp)\\xdb\\x95%\\xbag \\xe7\\x95#\\x80\\x9b\\xba\\xd05*\\xca\\x9f\\xe9\\xd4-\\x18WKFY\\xce\\x90B\\xe0\\xce\\xd4\\xb0\\xa5\\xc9Kj*\\x9d\\x9f\\xb2\\xe6\\xa4\\xc9F\\x01\\\\\\xed\\xe2\\x13CK\\xbb\\xc86\\x1e%\\xec\\x97\\xd2O_\\xba\\xd8\\xeb;\\x04!\\xdd3\\x90\\xb0\\xa5\\xc4xa/\\xcf\\xa2\\xf7@\\xee7\\xd5dI\\xb3\\xfa\\x93P\\tV\\xec\\xff\\x8f\\xbbo\\xe7/\\xdb}\\x0f\\x00K\\xcf\\xa6s\\xb6\\xfar\\xa3\\xfa\\x0c\\x8b\\x04\\xd9t\\x05\\r]\\xde\\xc5:\\x7f\\x9d\\xd0_\\xbfb\\xf6\"wth\\x8c\\xd3\\x15\\xdb\\x9d\\xce\\xb0ozCI<@3,\\xe5?\"\\xcapK\\x8a\\xf8\\x10\\xaa+ d.\\xb2\\xddo&\\xf6\\xbaY{C\\xa3\\xb4\\xb1\\x83\\xb85\\xa7h Mk\\xd6&\\xb2\\x1d\\xc5\\xc3\\x86\\x8a\\x03\\xa9\\xb4{\\xaan\\xb8\\xbaV\\xdd\\xc5\\xe7FY\\xaa\\xf9\\xe8\\xe8\\xa0J\\xc1\\x08\\x95\\xb9\\x9d|\\x1f\\xf5\\xe6\\xee65g|\\x0c\\xfdd\\xfb_\\x84\\xe2\\xfbE\\x01\\xc0+\\x08O\\x9d\\x1f\\xa3\\x88\\x85u\\xd2\\xca\\xa1\\xfal1\\xd1\\xb09\\xbbT=ct\\xbe\\xf5wk\\x0fM\\xbeP\\xba\\xe4\\xfc\\xf4)\\xe2/\\xff1p|\\xfdA\\'\\x89\\x1c\\xa6@}\\x08h\\xect\\x9dg\\xa3\\x1b\\x92G\\xa7Y\\xc5\\xc0[\\xa3~\\xed\\x82\"\\x8a[\\xed\\xdc\\x86c\\xdf\\xf3\\x12\\n4\\x1c\\xbe\\x8c(\\xb4sE\\xed;\\xc9IF\\xd1\\'\\x92\\x98.\\xb4\\xb0)\\xcc\\xd8\\x86\\xb4\\xa3\\x93vUd\"+\\xfe}:\\x94\\x86\\xe6\\x95.#\\xc5R>\\xbd(\\x00\\xc7!\\xfd\\xafxza_\\xbb8u\\x14\\xb2\\x93.\\x84GL\\xb1rD}\\xbb<tE\\x98QP\\xeb\\xb6\\xb6\\x92\\x83%\\x8bL\\xc1\\xe0V\\xd6C\\x91qc\\xaf\\xedFr\\x93/\\xf4\\xfbu\\xfb\\xaa\\x0141\\x90\\x87t\\xb7\\x7fn\\x97\\x89\\xbd\\x9d\\xd1\\x1e\\xf6\\x17U3\\xbc\\xdb\\x94\\xb5\\x1ev\\x03=y\\x1f\\xdd\\xbb\\x82\\xe5\\xd1%\\'Og~S\\xe1\\xea/8\\xf3\\xf5\\x17\\x8d\\x88\\x9e\\xcd\\x88\\xd3\\x0c{\\x02bS\\xceP\\xd3\\xcd\\xa3\\xe9\\xfd\\x9d\\xbf:\\x0e\\xe3\\x93T/\\xe7\\x1d\\xa5\\xa6Z\\x8f:\\xc2\\xe5\\xfc.3\\xf7.\\x04\\x96nM\\x15\\x82\\xa5\\x9e\\x1c\\xc2]\\x0b\\xd2]\\xecW\\x19n\\x9c0\\xaa-V\\xcbP\\xf46\\x8ad{A?\\xa5E\\x9ab\\xa1\\x93.n\\xe1M\\x0fU\\x97\\xb7\\xba\\xa7!dt\\xca~\\x12\\xa3\\xb6\\x0b\\x16\\xacH\\x90\\x1fj\\xf8\\x1eU\\xf1\\xd7a\\x86\\x8a\\xad*]K\\xc68\\xa5\\xccy\\xd4\\x170\\x94\\x1c\\xb5\\x9f\\x8f\\x84\\xce\"R-\\xe28\\xf4d\\x8eQ,\\xcdMd\\xf4\\xcaI\\x0f\\xeb-\\x0eu\\x1d@I\\x19<\\x8e\\x90\\xf4\\xb0\\xa7\\xfd\\xc3\\xa3\\xf4~\\xb1\\xe8\\xb3\\xc5\\x9f\\x9d1AW\\xb3<l[.\\xdb\\xf3s1@\\xda*\\x1bmE\\x93\\xcb`\\xfe\\x04\\x99]\\x11\\xaf\\xb9\\xb7\\xef\\xd8X\\x0b\\x91&=\\x1f\\xcd\\xa1Y\\xa5L\\xe3\\xd0\\xa8\\xdc\\x9a\\xe0\\xfe\\xb6#\\xe23\\x1b\\x1c5\\xfa\\x08\\'+B\\x04\\x8e\\t,r\\xcc\\xb6U\\xf2\\xb1\\x03\\xd0g\\xa1\\x10\\x15\\x7f\\x1e\\xcd/\\xc6c7\\x83Y\\x7f\\xf1\\x021\\xf7\\xeb\\xed\\xe7+\\xdaG\\x97\\xf8\\x064\\x9e\\x96\\xac\\xb5\\x04\\xbf7OQY\\x13\\xd8u(\\x9b\\x87\\xb2\\xe7\\xcbZ\\xbcw\\t\\xf6\\x8fvrjX\\xec\\xdeK\\xc0\"/Q\\xa2\\xf0\\xfc:s~\\x89\\xdc\\xd3\\x9eb_:\\xbf\\xec\\x02W\\xb4\\xa0mD\\xb9\\xfeHJ\\x13\\xb7v$\\xa1\\x17\\x7f\\x99#\\x00X\\x95\\x03e\\xe1\\x8b\\xee\\xb9\\xcb\\xa7\\xcc\\xe1\\x87\\xad\\xcf\\xadd\\xe6W\\xfb\\xe6\\xf5\\xabY$\\x9a\\x9c\\x86\\rb\\xcbv\\xe2\\xbd\\xb6\\xee\\x8d\\xa29\\x8fG\\xe6)|r!=\\'T\\x96P\\xd5w7\\xb0\\x84e\\xde\\xfa\\xc56\\xbc^\\xec\\xe2\\x99\\xb6\\xce\\x85u\\x05\\x86\\xa2\\xd4R\\x93rc*\\x8cpW\\xbe\\x13\\xb2\\xe6\\xb1Z\\xc6;D\\x82\"\\xec\\xca\\xab\\xceY]\\xdb\\xa8`\\nB\\xe0\\x08\\xfb\\xef,\\x97\\xa9\\x1e^[\\x16\\x17\\xa2\\x94G\\x03q\\xb2\\xe5\\xea.\\x99q\\x9b#a9HO\\xfdkR\\xd8F\\xe9\\x16)\\x89\\xf6\\xedQ\\xfd~\\xc5(\\x15_\\xa8\\xfb2\\xf5\\xd0\\xd4\\x15q\\x15\\xfb\\xf6\\xc6\\x07\\xd3&B8\\x9c\\x19&\\xc2C/\\xcf\\xed[YV\\x89\\xf1{\\xb7\\xfd/\\xf3\\x93\\x9f\\x93\\xb4\\n\\xfcnM\\xe4\\xcb\\x10\\x11g\\x99Tx\\xfe\\xadX\\x16\\xabu\\x9b].\\xb3\\xf2v\\xdd|1\\x1c\\xe0\\xefRy?\\n\\xd8\\xdb\\xe2/\\xb0\\x898\\xec\\xd1\\xd8\\x00\\x1a\\x8a\\xc9x\\x17\\xdb\\x18\\xc1\\x1a\\x9b\\x83\\x8c\\xbb\\x1f\\xa0SS\\n\\x03G@\\xfc\\xbf\\x85\\xddK\\x92\\xdc\\xb0\\x8e\\x05\\xd0y/\\xc6!\\x90\\x00?\\xfb\\xdfX\\xab\\xf2\\r:\\xf3 \\xa2\\xdf\\xd0e\\xbbR)\\x89$pq?F+\\x87/\\xb6\\x16\\x06\\x11:\\xd7\\xf6\\x8cv\\t8\\x05`r\\x1c\\xd8W\\x8fa\\xe2\\xbc\\xff\\xf4\\'\\xbfk\\xa1mH\\xd4\\x86\\x1a\\xe8\\xc62\\x04&9Gn\\x03PL Yj\\x11\\xae-\\xcd\\x8f\\x91\\xcb\\x7fnXK\\xd1\\x04\\x978\\xbe=\\xb1Y\\xb4\\xd9\\x92\\x1d\\xae\\x11\\x90[\\xd7\\xff#,\\xd3\\xf2\\x1c\\xcdj\\xba\\xd2\\x15v\\xf8\\xe27k\\x8eh\\x9e\\xba\\x8a5|\\x1b\\xa6X\\xf4\\xd4\\x11dk\\xfb_N6{v\\xb9FQC\\x07\\xca\\x18\\xcdNH\\xa5\\xee\\xc3\\xab\\xdf`\\xe2\\xd1\\xd8\\x1a\\x1d\\xe7\\xf3\\xb18\\xa6\\xd3\\xdc\\xfcD\\xba\\r\\xf2\\x12\\xa6\\xd2\\x9dL\\xed\\x85d\\xc4\\x1c9\"[T&\\xday\\xe5\\xb0\\xb8\\xda\\xe1\\xac\\x94\\xe9J&\\x18\\xc7\\xdc7\\x99\\x87[=\\xc6\\x90\\xb1\\x9cO3d\\xe3\\x7f\\xe8\\x85\\xdc\\x12\\x8aWS\\x10\\x07\\xcd\\xd7*\\x9a\\xa9Z\\x0e\\xd4Z\\x89 \\x99\\xcc\\x04\\xf5\\x92\\xb6?t\\x93.Y\\xf8\\xef\\x9b\\xcf\\x0f\\xe4.\\xa6\\xdd\\xea\\x14\\x08;\\x01\\x12q\\xcc\\xeb\\xcbGXA\\xf9\\xa5\\xb6\\xc4\\x15JMV\\xcb\\x8d\\xb1\\xac0+`)(N\\x01;\\xff\\x83\\xcf\\xe4-\\xb7\\xc5i\\xe4sk\\xa4\\xd9D\\xcb\\xd3*u\\xeb\\xf3,\\xd3Z\\x16\\xf0\\xd4\\x928[\\xa8\\xf6\\xd5\\xce\\x8f\\xeaq\\xdb\\xff\\x86C\\x98\\x0f3\\xf6\\xe7\\x07j\\xab\\x07{\\xe4\\x0c\\x87\\xf7\\xb2\\xb9\\xb7\\xd0\\xe3X\\xfa\\xb4Z\\xc6\\x94\\xa9$%\\xc7\\xeb\\x1c\\xdd\\xc1\\x80\\xceRr\\xfbi&\\xbdRJ\\x96\\xd0~\\x94\\x1e\\xa2KHo\\xcb\\xa8)\\xab\\xcbpkvd\\xbeT\\x8e\\x97n\\x06\\x83\\'\\xbf\\xb5\\'\\xdaz\\xe3\\xc7\\x92\\\\\\xdct\\xa9F(~|^~~\\x90\\xbc\\xc3%q\\xbf\\x92i\\xe5\\x9dZ\\xd4\\x89FNk\\xeb\\xa9\\xa5\\xea\\x10PXM\\xac\\xbf\\x99\\xd4o-\\xfb\\x8e\\xfb\\xff\\xb1\\x18Zf\\x11;\\x1a9e\\xeb\\x1a4\\x12S\\x93\\xe3\\xf1p\\xf6\\xef+\\xc7b\\x1bGv\\xf4QJ\\x06\\xd3+\\xe8\\xcb\\xeb\\xbfP]K\\x13\\x93\\x87\\xa7\\xa6\\xd2\\xb3|\\x00\\nr\\xdf\\xb2YhI\\x92G\\xe9\\xc4\\xa7\\x86\\xb76\\xef\\xf4\\x8e\\xc6\\x1a3FN\\x1d\\xdd\\x0f-\\xea\\xf3\\x83c\\n\\x8eI\\x1e\\xef)O\\xc5\\x7f\\xc1\\xa9\\xdf\\xb5\\x05TRr\\xc2SE\\xbbd\\x02u\\xe3\\xb5\\r\\xff0,+T\\x0e/\\xbb\\xe13\\x9b\\n\\xcb\\xa0\\xabn\\xc8&)u6\\xb7\\r\\x8bs]\\xf1ZL\\xd5*\\xb9\\xea\\xbepw\\x98\\xac\\xd3\\x88\\xe7\\xd3\\x9eS\\x9d\\xf4\\xc7\\x01\\xe7\\xe7\\xc1)\\x99\\x9a\\xa9\\'\\xe0\\x90l\\xad\\xec\\xea\\x9e\\xa6\\x01\\x82\\x89V\\xc1]\\xbf\\x0f\\xcd\\xca\\x10\\x81\\xd1\\xab(\\x86>\\xc9\\x86\\xeen\\x9b\\xce\\xd1\\xca\\x0b\\xca\\xd9\\xb4\\xb0\\xe4\\x80\\xb8\\x8d0\\xa8\\x1e\\xf4]\\xb1\\xec\\xbb\\xeaW\\xee5\\x8cG\\xa2\\xf5\\xda\\xca\\xeeu\\xd6\\x1beJB\\xc9;\\x92\\xce=\\x1f\\x91\\xff\\xc9Dk/\\xb5\\xaeE\\xf9\\x15\\xd2\\x8d\\xeb8\\x0c6\\xadaQL\\xa5|[{\\xf4\\x11`\\xd0-\\xb9u\\xc9\\xf1\\x18\\x9b\\xe2 \\xb5\\xe3?\\x92\\x0b\\xb4{y\\xec\\x17$\\xb8\\\\+\\xf7\\xb0\\x9am\\xaa\\xb6a\\xe3\\xe77\\x9b\\x0e\\x08\\xa7\\xa1\\x90[QG\\xaa\\x97\\xba\\xe9,O\\xd3\\xa20*+\\x95\\xec\\xc5#\\xa1#[2\\x96+\\xa5\\x7f9&M>\\x82\\xa1\\x19\\xa2B\\x9b\\x9c\\\\\\xe7\\\\\\x02Q\\x12%k-O.s\\r\\x83\\x03\\xf3]I\\xbc\\x7f\\x0b\\xb2e\\x1bb\\xcf\\xa9\\xa8c*e5kz\\xbb\\x82\\xf7CI\\xb7\\xa6\\xc19\\xe2\\xdcK\\xd6DL\\xc5\\x12:\\xf5\\xedE\\xd1w\\x1e\\x96J\\n\\xdf4\\x0fo\\x9dB5\\x95\\xdb\\x1ar\\x86\\xb5\\xe8\\xfcv\\xda\\xfa\\xcc\\xbf\\xca\\xbc\\xa3\\xd0\\xa7\\xf0\\\\\\xb6\\x81\\xd2u(\\xf5Uq\\x92\\x99\\xcdMb9\\x91\\x16\\x1aO\\xe5\\xae\\xdbBg\\xe9\\xc46\\xabg\\xbfs]\\x92Fn\\xca\\x8a\\xd0\\x1a*\\xacR\\xde\\x96\\x9e\\xa3\\xac\\xd9\\xee\\xa5T\\xb8\\xcd\\xc0\\xb4\\xa5\\x17\\xc5\\xefu\\xfdMe\\x19\\xfb\\xd7\\xe0cO\\xa9\\xc1\\xbe\\xadV\\x044j|\\xe7\\xd2\\xec8\\x06}\\xd8>@\\xd0\\xdb\\xe9\\xd5\\xd2:$\\xa4\\x08O\\xe1\\x9b\\xf7\\xe1\\xff\\xde\\xb1l\"<w\\xa0c\\x14\\xc3\\xde\\x8eG\\x05\\x08\\xc3\\x18\\xb3\\xad\\xed\\xbb\\x00\\xfd\\xd2\\xbfvin74P\\xbc\\xd1\\xa6\\xe7m\\xb5\\xf8\\x86\\xb1\\xff\\x84\\xcd\\xc9]:(K&\\xb8\\x0fGyU\\x1f\\xc68Hj\\xefq\\x9f\\x8d;\\xb8\\x05\\x98\\xab\\x1e&\\xdc\\xd4G\\x9aF\\xacf\\x1a\\xd7\\xaa\\xcbv\\xe0\\x1f_}\\x0egi\\xa2gZP59\\x92\\x91\\xd7k\\xb6\\xb7E\\xa5\\x88B\\xf7\\xe6\\x03V\\rLi\\x8d\\x17%\\xff\\xc0\\xa1\\xea\\xfa\\x9a_\\xf1\\xc2\\xbd\\xcc\\x0f\\x93/u-\\x1e\\xa3G\\x8e9A-\\xbd#\\x83\\xd3\\xfbh\\x88\\xb7\\n\\x82P(\\x85/A~\\xab\\x9fq~h8c\\xbe__\\x9a\\xf1n\\x13C\\x8d\\x01\\xdc[%\\x9cM\\xed9=\\xff\\xd3\\xe4\\xa6x\\xd4\\x9a\\xb4Q\\xef\\xc3\\x97\\x7f\\x17\\xb95\\x97\\xce\\x14\\xd2\\xa5\\xb4\\xaa\\r\\xba\\xd0:\\xeeV\\x96\\x93m4s\\xd4\\x0f\\x9e\\xcb\\xcd)%\\x9bW\\xa3\\x9e+\\x91\\xf9p\\xddM\\xfd4\\xb7\\x1a\\xff\\xa3\\xe9\\xbef\\xc0\\x9a)\\xde\\xcd\\xed\\xcb\\xc5\\xa7\\xa6\\x9dYl\\x00\\x9b\\xb3\\xe5 K\\xda.K\\xe7<\\xb6\\xe0\\xc1~\\x9f\\x0bV{h\\xed\\xdfX9[\\xeb\\x9d\\xab\\x98\\xc5\\xc5v\\xddi\\xf64\\xb9\\xd6\\xa3\\xde\\xd2\\xb9T6\\x1d\\r\\xce\\x1b\\x97st!\\x13\\xd5B<\\xbe\\xf5l\\x80o\\xfbB\\xeb\\xf1\\xc84L\\xf7\\x9e\\x1c\\xb6\\xb6\\x8d\\x9c7\\xd5\\xc9\\xea\\xfd\\x11\\xce\\xde\\x97\\xb2\\xc6-\\\\\\xd78l\\xab\\xd9\\r4\\x8bFy\\x95\\xc7\\xa0\\xb4\\xf7\\x85\\xa2269\\xad\\x86I\\xd9G\\x88\\xb5\\x9a\\xfd\\x16kv\\x97\\x8a\"\\xd1\\xf3j\\xe5S\\x8b)v\\x8d\\xceV=\\xea\\x15#N\\x14\\x01\\x180\\x0b\\x17\\x92s\\x1e\\xab%\\xb6\\xb06]\\x98\\xdb\\xb7P\\xa7\\xbfe\\xacb-\\xef\\x8f\\x1e\\xdfe\\x1e\\xf2{\\x19\\xbc\\xb8S\\xbfE\\n\\x9b\\xa1\\xfc\\xae\\x1e\\xeeO\\nK\\xcc\\xe5\\xd9\\xa5$+\\x05G\\x9a\\x9e9\\xbe\\x05\\xbe\\x91\\xff\\x9e\\xfd?N\\x13VKa2g\\'\\x07\\xf0e\\x1c\\xb9\\xf4\\xa3\\x19R\\xf2\\xe7\\xb6\\x83\\x87\\x83M-\\xc9\\xee\\xd6\\'T\\xd6\\xc8R\\xbat\\x1d\\xa3\\xdd\\xae6l!1\\xaa\\xc7\\x9e\\xff\\xaf\\x0b\\xca\\xbf|r\\xd9\\xf5G\"w\\x1au\\xdd8\\xe9%B\\xc0N\\xa9\\x85\\xd4\\xd5\\x89\\xe9&[\\xfc\\x90\\x039\\xf4\\x15]Z\\x82\\x1c[\\xe4\\x1a@~\\xa5\\x82\\xa6\\xd8\\x17\\xce\\x94\\xd2\\xf7\\x00\\r\\xed\\xc6\\t\\xf0\\xb96\\x9dN\\xe94\\xfd1L\\xf9\\xb9\\xd0\\xe4\\xbb]]\\xd5-\\x08J\\xab\\xd2\\x19L\\x1dg\\xdb\\xe1S=\\xb0\\x8c\\xd0l\\xac\\x1cv\\x05A\\x9c\\xbd\\x9b*\\xb7\\x19\\x90I\\x05V\\x11\\xf1\\xfb\\x91y\\x9b\\x1c\\xf2Z\\xe8hJ\\xf5\\x1d\\x16\\xfd!\\xabO\\xb3\\xdd\\xc2\\'\\x90\\x86\\x1a-\\'\\x18)NvT\\x15\\xf0\\xca7\\xa4-Kl\\xc9\\x1a8\\xa6,\\x1f\\xd1\\xf4\\xd0==\\x0cZ7&\\xbc|\\xfb\\xb6\\xc3\\xe6w1R\\x0b\\x18\\xda\\x93j\\x87\\x8f\\xc3C\\x838\\xee4s\\xf8RlN\\x03\\xe1\\xdfz\\x0b\\xe0D\\xf6Hj\\xd1r\\x9c\\x81\\xd4j\\xdd\\xe0W}\\xfaI!>S1\\xb1\\xc4\\xfa\\xf6\\xb6t\\x1f\\x9c\\xe5\\xaek\\xc9/2y6T\\xfc\\xf3-\\xa2\\x1b\\x7f\\xbbnk\\x1b\\xa4\\xfd\\x8cj\\xb3\\xbc\\xff\\xbb\\xa5\\xe3#4\\xab\\xad\\xd3\\x9e\\x131\\x0b\\xf8evv\\x0cN\\xf6\\xbb\\x9b\\xe3\\xc1\\x7f3\\xb3:-cXB\\xedhi\\x04\\xba\\x1d\\xae\\t\\xb8\\x92\\xbfc\\xf0\\xf57\\x81\\xa6\\xec\\xd5\\x1bs\\xe8F\\xb7\\x06\\x17\\xd6\\xf2\\x92\\xa7\\x86\\x0f%\\xd5~\\xc9\\x96=\\x96\\xac=\\xbb\\xa4e!6Z\\xaa\\xc8Q\\xda\\xdd^ayN\\x9dF4\\xa01;\\x8f4V\\xab\\xe4\\x90:\\xf4V\\xb4\\xde\\x1c@\\x8f\\xa7Yp4\\x83,\\x95U\\xa1j\\xc5\\xfc\\x9d\\xaf\\xfd~\\xfe\\xdb\\xf5\\x17=\\xc9\\xf1\\xf9x&\\x1f\\x00\\xd5\\xba \\x16\\xeb\\xaao\\xd3\\xe2(u\\xae>RRsR|\\xbd\\xfb\\x95p\\r\\xec\\x84]\\xf2\\x8d\\x9c\\xea\\x1e5(\\xa5\\x1fv9\\x19\\xde\\x972\\xe7=4@\\xab\\xc0\\xf2\\xca\\xf8\\xe5w?\\xa7zp\\xec\\xd1\\xd2\\x07\\x86\\x9c\\x93!\\xee\\x1f-9\\xf0\\x1c\\xbbt\\x9e\\xc2\\xdc\\xbagXL\\x8d\\xe6\\x82g\\xa94\\xdbsj\\xc9\\x9b~\\xdb\\xd9\\xa8\\xc3\\xa9\\xaf\\x94\\x89iY\\xae\\xbe\\x87\\x86hia\\x9av\\x90#\\xa9\\xcd[\\x1e\\x91g\\xf9\\x19|\\xb7\\n\\x01\\xe6\\xa9\\xd5NsM\\x12D\\xace\\xab\\xeb\\xe2\\xa8m\\x15lc\\xb6\\xf4do#\\xd4\\xb7\\xca\\x90\\xe5%\\xbe~(;\\xac\\xb8jR\\xad\\x0fQ\\xd8\\xa3\\xef\\xd6R\\xfazKz\\x87\\xdc\\xd0e-\\x13KZ\\xa6fEo\\xa5\\xc7\\x8b\\x9d !a(\\xd2\\xf8\\x05\\x1c\\xea\\xfc\\xa1\\x974\\'\\xce\\xde\\x16\\'@\\xf3\\xe3\\xcf\\x01k5}\\x81F\\x0b\\xc7{Z\\xc2\\x03\\xb7\\xf4\\x91\\xfe\\xb2X\\x92\\xd7\\xd8\\xa4E\\xe1\\xdb,\\x92\\xc2\\xdd\\xd8\\x19\\xe2\\x1c,\\xeaO0\\xf6\\xcf\\xef|\\x9a\\x8f`\\xab\\xae\\xa9\\x9f\\x86\\xbe\\\\)\\x86\\xf1\\xf6r\\x94\\x07\\x8d\\xf0}9\\xa7O\\xd3\\x01O\\xe3\\x18;\"o\\x17\\xf5\\xe8\\x9ah\\x92}<\\x92h\\xb4K{{\\xcc\\xdf{\\n*\\xb4&;\\xeb\\xac\\xed\\xde\\xab\\xcaN\\xcb\\x9ca`\\xd6.\\xae\\xa2M![\\x18\\xe3\\x95\\xcc>6D\\xc4{)\\xda\\x9ac\\xf0m.\\xa6\\x02%\\xc7h\\xbc\\xb7\"`\\x7f\\xd2(VXdt\\xc6\\x82\\x1a\\x15\\xa5\\x9es\\x82#]C\\xb2?H\\xed\\xcf\\xcb\\xe1\\xcezK\\xee\\xfa\\xa4>\\xaa\\xa31q6P\\xeck2\\xf7\\xb6\\x12\\xf9w\\xc09\\xab\\x93\\x90}\\xf9\\x98\\xadk\\xe4\\x8f\\xf2>\\xff\\xcd\\xfdw\\x0f)\\xb36\\x17\\xdf\\x825S\\xcf\\xda\\xa3(.\\xf4?\\x88\\xb6J\\x177\\xe06\\x84\\xdc\\x10Uk\\x95\\xd4\\xa4{NCz\\r\\'?\\xcf\\xd7.\\x17\\x7f\\xa9\\xa1i\\x12{\\x0b1\\n\\xc9\\xe3M\\xda\\xba\\x07\\xaf]&\\xa0\\xf10\\xdb~\\x97\\x01`R^\\xaf\\x92\\xf5\\xe6\\x0by\\xb5\\x9f\\x99\\x1a\\xc3\\xac\\xc6\\xf4\\x1b:\\xe7\\x0c\\xaa\\xa8&7\\x9bM\\xfb[&\\xff8R\\xb0\\xd9\\n\\'\\xd9\\xf54_i\\x8b\\x15)\\xd8\\xc6@\\xb7\\xc0\\xf3,~\\xc5\\x9dJ\\x81\\x07l\\x93\\x95LX4\\x1b\\xdez\\xa7\\x95G\\xc9U\\x13q\\x8d\\xdb[\\x86\\xe9\\x953\\xe5\\x12\\x86\\x8e+\\xad\\xdbX\\x86\\xbb\\x9b\\xb77\\xcdRL\\xc9\\x02\\x0f\\xffb\\xa8X\\x1f\\xd2\\t\\xb6\\xe7u\\x1b\\xc1\\\\\\xe5D\\xdb\\xd0\\x14\\x9b\\xf7#\\x91\\xe6\\x13\\x0f\\xf7\\xf3?\\xdc*\\x8e\\x95\\xc6\\x14\\xa4\\x9b\\xf21,\\xb2\\xca\\xeao/j\\xdf\\x16\\xdf=\\xae&\\xbe\\xc3\\xfc\\xc6I\\xd1y\\'\\x95\\xec\\x95\\xa5>\\x83)\\xd7\\xbd\\\\\\xe90\\x8c\\xf1-\\xbbhI\\xd4\\x1a\\xbc{<kC>Ox\\x92\\x9e\\xc7\\x9e\\x96\\xcf0\\xc1\\xa4\\x9a\\xc3j\\xf3s~<\\x8cUb\\x1c \\xe1q\\xda@\\xb8I\\x90@z\\xa69mK\\xdco<\\xd0y\\x96\\xa1\\xb4C\\x82\\xf4\\xc7c\\xf2\\xe7c\\x8d\\xa9X\\xdf\\xbdw\\xc6\\xbf\\x9a\\x7f\\xbf\\x96\\xd1\\x99\\xed\\xc3\\xdc*WS\\xf7n\\x8d9\\xaf\\xb3\\xd7i\\xd0\\xd1\\xb6\\xaej~\\x19m\\xb5\\x84\\xeb<m\\xe2V;\\xcf\\x83sc\\x0e5\\xdc\\xba:\\x97Q\\xbf-\\xed\\xeca\\x9d_\\r\\xd7\\xce\\xd4u\\xc3\\x7f\\x11\\xeaR\\xc3,\\xc0\\x01&\\xb2$<U7^\\xd2\\nL\\x17\\xc0%\\xd5o\\x81\\x1a\\xb4\\xa4\\xdbZvl\\xd2\\x82\\x87r\\xc7\\xb0\\xe93U\\xfd\\\\\\xc5\\xfa\\xea5\\x8eV`\\xc7=m\\xaa\\xee\\xf9\\xa4\\xd6\\xfd\\xbc_\\x1bM\\xcc\\xfa\\x16\\xe8\\xc5\\xbf}\\xfec\\xb1\\xf1\\xf3\\xe8!i\\xfe\\x99\\x06A!px\\xbd|;B\\xd6b]\\x9d=\\xb5fX\\x9e\\xa3\\xe3v\\xc7\\x9aFO\\xf2\\x18\\x90\\xe8b\\\\\\xde\\xd1\\xfd]\\x93\\xfew!p\\xd7\\xd5\\xe0.%\\xa5\\xca\\xb84E\\xae\\x0b\\x8b\\xb1\\xfd\\x8a\\xe9\\xf9\\xbf\\x15V\\x96P_n\\xebI3\\x9f\\xdf\\x85\\xc0T\\xc1\\xbdU\\x07\\x00\\xd9\\xba\\xda\\xc4\\xf6\\xb8\\xe2\\xc5e\\x8e\\xe6\\x83\\xb2y\"W\\x9cf\\xa9\\xdf8\\xa7\\xa1\\xfd\\xa6\\x0f\\xda\\x06\\xa6\\x8a\\x97\\xf7\\xf6\\xfd~\\xd70\\xd6o\\xeb\\x923/\\x83\\xacF\\xff\\xbe\\xba\\x06\\x9dk\\xd9f6\\xe5\\x12V\\x18\\xb3\\xedh\\x1c\\xddK\\x81\\xbb\\xc6\\xc3K\\xef\\x90\\xf7\\x96\\x8a\\x1f\\xa97\\xdeR\\xd5\\x0c\\xe0\\xfdp~~\\x1f\\xbe\\x8eZf\\x17}\\xe2O\\x7f\\xbe\\xfdi\\x8a\\x03\\x85H)\\xf1\\xf8\\xb1\\xbe\\xd4\\x1f=\\xd3c\\x97YY\\x08<\\\\\\xcf\\x9d1\\x1b\"\\xd2\\x1ck\\x8f;+EE\\xca0,9\\xae-\\xed;\\x15\\xa3\\x97\\n4\\xc5\\xe7M\\xc37-\\x16?V\\xf9?\\x97qt\\xad\\xd7>#\\x05hO\\n\\xec\\xb5\\xf1\\x8f0Cn-\\xa5\\xd2\\xd2N\\xf1o\\x88h\\x9ffHj\\xe39\\xf5\\xfc\\xcd%KH\\x16\\xc1\\xde\\x8eD$@\\xef#\\x94U\\x0c${\\xee\\xcd\\xd2.}9|\\xd6kw\\xa8%\\xd9-a\\x0b^^\\x19L\\xf86RR\\x15\\x1c\\x133\\xd1\\r\\x83\\x80\\xafR\\xe8\\xdc\\xe6{\\x98\\n\\x91zJ\\x96\\xae\\x93oK\\x0c\\x88\\x19\\xd0\\xceN\\xdb[e\\x838H}W\\x02c\\x18\\xd3\\x86\\xc3\\xbd$\\xbd\\xe5\\xdb\\x10\\x88\\xf5\\xd8\\x88o\\x9bB#\\x0f\\xb6\\xba\\xd2\\xb8\\x16\\xb1\\xbaR\\x1c\\xcdhg\\tJ)\\xbfOa\\xab\\x1cm\\xc3\\xd6\\x86\\xf1\\xf9\\xd9\\xe5\\xfe8\\xe4\\x9a\\xc9O\\xb5\\xb9a\\x1d\\xab\\x0b\\xd5\\xd9\\xec\\xe0-\\xcej%\\xc8\\xe7\\x88\\xc6yv\\xdc\\xa3I\\xe2\\xdb\\xd2\\xf0]\\x9a\\xac\\x81\\x92\\xab84k9\\xee\\xf0$\\xfe\\xa4U\\xff\\\\E\\x1b\\xfbjIz\\x0c\\x9aJQ\\xaca\\xca\\xd6tD;\\xa6C\\x95\\x0b\\xfev\\x05\\n\\xc1\\x07\\x86\\x12\\xce\\xeb7i\\xc9A\\x8e\\xbc\\xb7\\xd1\\xb7\\'5;\\x9a\\xedS%1N\\x16\\xd3J&\\x11\\xe7\\xea\\x0b\\xff\\xad\\x0b\\x8d?E\\xdd\\xd9\\xce\\xa7%R\\xdfG\\xd2\\x97t\\xf7<\\x8e9\\xa7Af\\xd3\\x18\\x8ec\\xde\\xe1j\\xe4\\x18^{\\x9d\\xc0T&\\xb5X\\xdf1\\x0c\\xc0\\xd6\\x17\\xe0]\\xb1B\\xf3\\x86\\x8eg\\xcb\\xf1\\x95\\xfcotr\\x9dv\\xa5\\x9e\\x1af)\\x874\\xd9Z\\x86\\x81\\x84\\xb1\\xa8S\\xf7\\x0b\\xc5^\\xb1Z\\x7f\\xa7\\x1b\\x83I\\xa0\\xce\\xe6\\xe7\\xb2\\xe2l\\x8a;\\xb1\\x9f+1=\\x87\\x06\\x7f\\x0f\\r\\xe0\\x96\\xdar\\xdaY%T\\xad\\xbbqK\\xa4\\x9b\\x8b\\xef\\xba\\x9a\\xd7\\x11;\\xc9\\x94d\\xde\\x86\\xf7\\xc7@\\xf59\\xe9\\xcd\\xe2\\n\\x0b\\x9awp\\xac\\x8e\\x8e\\xdeFK\\xe1V\\xf2nH~l\\xa9\\xf7Q\\xd3_\\xf9u\\xc7\\xc7\\xbf;{\\x0c\\xe5\\xb4`X2\\xea\\xf7P*\\xd8\\xca\\xdact\\xd9\\x95\\x0f\\x19\\xb0\\n+\\xb5\\xc1Iw\\x9f\\x90\\x00\\xb0%\\x16\\x8f\\xaf\\xe5\\x15\\xf9G<\\xdc_\\xad\\xfa\\xfb}\\xc7\\x9f\\xe2\\xa9\\r\\x869\\x04\\x1c[\\xb6\\x02\\xbb!t%\\x0c\\x11\\xcdK\\xc1*\\xfeQ\\x7f\\xb9Xqk\\x80\\x10L7\\xcae\\xf8\\xc71\\xe4\\xa7\\xcd\\xda\\xd3\\xc4\\x91\\xf6\\xa4\\xae\\xc1\\x14\\xd3\\xdc\\xbf\\x8f\\x93\\xe7\\xf7\\x0f\\x86p\\xda\\xee\\xe9\\xa9m\\xf8\\xe3\\t\\x06\\xa8w5)\\xb7\\xca\\x9f\\x8b\\x8e%4E\\xca\\x86\\x19\\xa8\\xa0kP\\xa28|z\\xdd\\xab\\xd3g\\xda\\x19i\\xf4\\x8e\\x99Q\\xc7rh\\x9aU\\xdc%t\\x12\\xb2\\xeaib@m4rZ\\xb4\\x8b\\xa5\\xe90\\xd6U\\x9d:y=\\x1a\\xeb\\x07\\x04\\xee\\xf0\\xedi\\x05xv-.\\xdd\\xc5\\xd4\\x88\\xb9t\\xfc_\\x03P\\xe1&\\x95\\xdd9\\x92\\xe6=7,\\x11>\\x12\\xba\\xdf\\x05\\xc9\\x95\\xd7V\\xb7\\xdfb\\xe2\\x9b\\x93\\xc6\\x10\\xdb\\xef\\xd5\\x1f\\xa5\\xdd\\x95\\x08,\\xb6\\xb8\\xa5\\xab\\xaf\\xebH\\xaa4\\xe7\\x7f\\xe4R\\xcb\\xdd\\xfc\\xc4\\x15\\xff<Y\\xb7#u\\x0cW\\xecV\\'\\xdeh\\xe6L\\xc5\\xcd\\xd8\\x8dk\\xa5\\xdd\\xe8n|\\\\c\\x06\\x8e&\\\\\\x8dM4\\x17\\x1d\\xdfV\\xb8\\xf7\\x13\\x1d\\xf2\\xf9\\x1d\\x96\\x8b\\xa1\\x85k\\x8b\\xd1\\xdc\\xf2\\xe8\\x87b\\x92\\xa3\\x94mJ)\\xc8c\\x17\\xfd\\xfb\\x08\\xb4X\\x91\\x81\\x90\\xecf\\xa9VgK/\\x18\\xb2\\xaa\\xa7\\xac\\xfb\\xb4\\x18o\\xda\\xe7eZ\\xdbL\\x87\\x97i\\xa4\\xf4\\xda.yK\\xd8tv\\xab*&\\xcb\\xf5\\xcae\\xac\\xc1e\\x1c\\x8d\\xf9Ww\\xdes\\x87\\x94k\\xec>S\\xe6\\xcc\\x95\\xd4\\x92\\xd0\\xf5g+\\xb7\\xbf*\\x95?\\xae\\xe9\\xbfo\\xac\\xd9lG5\\xafS\\xfa8pm\\xae\\xca8G<CbU3\\'\\xd5\\x17s\\x86\\xdf\\xd5X\\xa3}8b\\xda\\xe8\\xb6\\x99]\\\\\\xf5\\xbd\\xb3G#Y\\x15\\x8b\\xf1\\x94\\xc0\\x9a\\xa8}L\\xc5\\xe1\\x9a\\xc7\\x84b\\xde}\\xb9\\x1b[\\xa5%\\xe7\\xda\\xf0\\x8eW\\x996\\xf1\\x18\\xbd\\xae\\xdd\\x8a\\xfcK\\x13e\\x92jd\\x08>\\xe8\\x10\\xd0R\\xaeO3\\x14<\\xcd\\xb6U\\xbf\\xb7+\\'\\xc9\\x07\\x10}\\x9e\\xd8\\x1d\\xa5X\\x03?\\x7f\\x1cfu\\xe6\\xf0\\x8b\\x08\\xdb\\x85`|\\x1a:\\xa2U\\xfe8\\xfaq\\x85v[\\x0f\\x87\\xf1d\\x93?V\\x7f\\xc7\\x00\\x91\\xb3\\x95\\x12kZu\\xb7\\xe3Y^\\x93\\x8f\\x02\\xe9\\xe7)[\\x95\\xc6\\xe20^n\\\\\\xf7\\xea\\xf4j\\xe2|.\\xf9\\xc3\\x9a\\x15\\xdf\\x00\\x08\\xfch\\xb8~.\\xcc\\xf4\\x19m\\xf2S\\xeb\\xaca{\\xcf\\x18k\\x94\\x86\\xd2\\x0f\\x0f-\\x87\\x1c:\\xfd\\x85\\xa6\\xc2\\xb1#,3\\x9b\\x13\\x92\\x03\\x82\\xd2\\x9b\\x8c\\xde\\xec\\xfd{kz\\xfa\\x99\\x0b\\\\\\x92\\x1e\\x9b\\xc6\\xa2NS-\\xf7\\xe2\\x81\\xf8E\\xd3EC\\x9b>-\\xc0\\x1a\\x92\\xc4\\'\\xa6<\\xd9=\\xb9\\xe8\\xa1\\xc1\\xda\\xd5e=\\x1f\\xf6\\xdeu%\\x85\\\\F\\x95Q\\xb0\\xd6\\xb2\\t\\x0c,\\x0fV\\xe9\\x11\\xa8\\xbf\\xd1\\xb8\\x88\\x80Z\\xd2\\xf76\\x98\\xf7\\x1e \\xc0\\xa1\\xb1e\\x84\\x02C)y\\xb9\\x01\\xa1\\xf3\\x1b:\\x8a\\x7fO\\xfc\\xf1\\xae\\xe8\\xc367\\xa4\\x0c\\xe0\\xbcW_\\xb2a\\x1bZ\\x8d\\xcbO\\xd7~|\\xb8C\\x1c\\xec\\xb4-\\x15NpKQM\\x03\\x83\\x8fx\\xf0u\\x0b\\x1din\\xb70O(b\\xf5Y\\xdf\\x01\\x08\\xbf\\xb7\\xae\"I\\xb7\\xf2\\xbfPK\\x01\\x02\\x14\\x00\\x14\\x00\\x00\\x00\\x08\\x00pi;Y\\xe5\\x0b\\xa1\\xe9\\x9cp\\x00\\x00\\x87\\x94\\x02\\x00#\\x00\\x00\\x00\\x00\\x00\\x00\\x00\\x01\\x00 \\x00\\x00\\x00\\x00\\x00\\x00\\x00AB_Test_Results/AB_Test_Results.csvPK\\x05\\x06\\x00\\x00\\x00\\x00\\x01\\x00\\x01\\x00Q\\x00\\x00\\x00\\xddp\\x00\\x00\\x00\\x00'}"
            ]
          },
          "metadata": {},
          "execution_count": 5
        }
      ]
    },
    {
      "cell_type": "code",
      "source": [
        "!unzip AB_Test_Results_DC.zip"
      ],
      "metadata": {
        "colab": {
          "base_uri": "https://localhost:8080/"
        },
        "id": "9rKFqk5ykXT5",
        "outputId": "74ad8083-cf94-4177-8d17-fc113c58eac0"
      },
      "execution_count": 6,
      "outputs": [
        {
          "output_type": "stream",
          "name": "stdout",
          "text": [
            "Archive:  AB_Test_Results_DC.zip\n",
            "  inflating: AB_Test_Results/AB_Test_Results.csv  \n"
          ]
        }
      ]
    },
    {
      "cell_type": "code",
      "source": [
        "df = pd.read_csv(\"/content/AB_Test_Results/AB_Test_Results.csv\")"
      ],
      "metadata": {
        "id": "eOU0yJ6alLaQ"
      },
      "execution_count": 7,
      "outputs": []
    },
    {
      "cell_type": "code",
      "source": [
        "df.head()"
      ],
      "metadata": {
        "colab": {
          "base_uri": "https://localhost:8080/",
          "height": 206
        },
        "id": "Ydbb-XbNlT_q",
        "outputId": "f1c3a100-61d5-464a-ec9f-31ed6618b0d2"
      },
      "execution_count": 8,
      "outputs": [
        {
          "output_type": "execute_result",
          "data": {
            "text/plain": [
              "   USER_ID VARIANT_NAME  REVENUE\n",
              "0      737      variant      0.0\n",
              "1     2423      control      0.0\n",
              "2     9411      control      0.0\n",
              "3     7311      control      0.0\n",
              "4     6174      variant      0.0"
            ],
            "text/html": [
              "\n",
              "  <div id=\"df-8eace95d-45c3-4d60-8d62-47cb36b09bcc\" class=\"colab-df-container\">\n",
              "    <div>\n",
              "<style scoped>\n",
              "    .dataframe tbody tr th:only-of-type {\n",
              "        vertical-align: middle;\n",
              "    }\n",
              "\n",
              "    .dataframe tbody tr th {\n",
              "        vertical-align: top;\n",
              "    }\n",
              "\n",
              "    .dataframe thead th {\n",
              "        text-align: right;\n",
              "    }\n",
              "</style>\n",
              "<table border=\"1\" class=\"dataframe\">\n",
              "  <thead>\n",
              "    <tr style=\"text-align: right;\">\n",
              "      <th></th>\n",
              "      <th>USER_ID</th>\n",
              "      <th>VARIANT_NAME</th>\n",
              "      <th>REVENUE</th>\n",
              "    </tr>\n",
              "  </thead>\n",
              "  <tbody>\n",
              "    <tr>\n",
              "      <th>0</th>\n",
              "      <td>737</td>\n",
              "      <td>variant</td>\n",
              "      <td>0.0</td>\n",
              "    </tr>\n",
              "    <tr>\n",
              "      <th>1</th>\n",
              "      <td>2423</td>\n",
              "      <td>control</td>\n",
              "      <td>0.0</td>\n",
              "    </tr>\n",
              "    <tr>\n",
              "      <th>2</th>\n",
              "      <td>9411</td>\n",
              "      <td>control</td>\n",
              "      <td>0.0</td>\n",
              "    </tr>\n",
              "    <tr>\n",
              "      <th>3</th>\n",
              "      <td>7311</td>\n",
              "      <td>control</td>\n",
              "      <td>0.0</td>\n",
              "    </tr>\n",
              "    <tr>\n",
              "      <th>4</th>\n",
              "      <td>6174</td>\n",
              "      <td>variant</td>\n",
              "      <td>0.0</td>\n",
              "    </tr>\n",
              "  </tbody>\n",
              "</table>\n",
              "</div>\n",
              "    <div class=\"colab-df-buttons\">\n",
              "\n",
              "  <div class=\"colab-df-container\">\n",
              "    <button class=\"colab-df-convert\" onclick=\"convertToInteractive('df-8eace95d-45c3-4d60-8d62-47cb36b09bcc')\"\n",
              "            title=\"Convert this dataframe to an interactive table.\"\n",
              "            style=\"display:none;\">\n",
              "\n",
              "  <svg xmlns=\"http://www.w3.org/2000/svg\" height=\"24px\" viewBox=\"0 -960 960 960\">\n",
              "    <path d=\"M120-120v-720h720v720H120Zm60-500h600v-160H180v160Zm220 220h160v-160H400v160Zm0 220h160v-160H400v160ZM180-400h160v-160H180v160Zm440 0h160v-160H620v160ZM180-180h160v-160H180v160Zm440 0h160v-160H620v160Z\"/>\n",
              "  </svg>\n",
              "    </button>\n",
              "\n",
              "  <style>\n",
              "    .colab-df-container {\n",
              "      display:flex;\n",
              "      gap: 12px;\n",
              "    }\n",
              "\n",
              "    .colab-df-convert {\n",
              "      background-color: #E8F0FE;\n",
              "      border: none;\n",
              "      border-radius: 50%;\n",
              "      cursor: pointer;\n",
              "      display: none;\n",
              "      fill: #1967D2;\n",
              "      height: 32px;\n",
              "      padding: 0 0 0 0;\n",
              "      width: 32px;\n",
              "    }\n",
              "\n",
              "    .colab-df-convert:hover {\n",
              "      background-color: #E2EBFA;\n",
              "      box-shadow: 0px 1px 2px rgba(60, 64, 67, 0.3), 0px 1px 3px 1px rgba(60, 64, 67, 0.15);\n",
              "      fill: #174EA6;\n",
              "    }\n",
              "\n",
              "    .colab-df-buttons div {\n",
              "      margin-bottom: 4px;\n",
              "    }\n",
              "\n",
              "    [theme=dark] .colab-df-convert {\n",
              "      background-color: #3B4455;\n",
              "      fill: #D2E3FC;\n",
              "    }\n",
              "\n",
              "    [theme=dark] .colab-df-convert:hover {\n",
              "      background-color: #434B5C;\n",
              "      box-shadow: 0px 1px 3px 1px rgba(0, 0, 0, 0.15);\n",
              "      filter: drop-shadow(0px 1px 2px rgba(0, 0, 0, 0.3));\n",
              "      fill: #FFFFFF;\n",
              "    }\n",
              "  </style>\n",
              "\n",
              "    <script>\n",
              "      const buttonEl =\n",
              "        document.querySelector('#df-8eace95d-45c3-4d60-8d62-47cb36b09bcc button.colab-df-convert');\n",
              "      buttonEl.style.display =\n",
              "        google.colab.kernel.accessAllowed ? 'block' : 'none';\n",
              "\n",
              "      async function convertToInteractive(key) {\n",
              "        const element = document.querySelector('#df-8eace95d-45c3-4d60-8d62-47cb36b09bcc');\n",
              "        const dataTable =\n",
              "          await google.colab.kernel.invokeFunction('convertToInteractive',\n",
              "                                                    [key], {});\n",
              "        if (!dataTable) return;\n",
              "\n",
              "        const docLinkHtml = 'Like what you see? Visit the ' +\n",
              "          '<a target=\"_blank\" href=https://colab.research.google.com/notebooks/data_table.ipynb>data table notebook</a>'\n",
              "          + ' to learn more about interactive tables.';\n",
              "        element.innerHTML = '';\n",
              "        dataTable['output_type'] = 'display_data';\n",
              "        await google.colab.output.renderOutput(dataTable, element);\n",
              "        const docLink = document.createElement('div');\n",
              "        docLink.innerHTML = docLinkHtml;\n",
              "        element.appendChild(docLink);\n",
              "      }\n",
              "    </script>\n",
              "  </div>\n",
              "\n",
              "\n",
              "<div id=\"df-2e2e18e9-0eaa-40de-b3e4-70b51c5682ce\">\n",
              "  <button class=\"colab-df-quickchart\" onclick=\"quickchart('df-2e2e18e9-0eaa-40de-b3e4-70b51c5682ce')\"\n",
              "            title=\"Suggest charts\"\n",
              "            style=\"display:none;\">\n",
              "\n",
              "<svg xmlns=\"http://www.w3.org/2000/svg\" height=\"24px\"viewBox=\"0 0 24 24\"\n",
              "     width=\"24px\">\n",
              "    <g>\n",
              "        <path d=\"M19 3H5c-1.1 0-2 .9-2 2v14c0 1.1.9 2 2 2h14c1.1 0 2-.9 2-2V5c0-1.1-.9-2-2-2zM9 17H7v-7h2v7zm4 0h-2V7h2v10zm4 0h-2v-4h2v4z\"/>\n",
              "    </g>\n",
              "</svg>\n",
              "  </button>\n",
              "\n",
              "<style>\n",
              "  .colab-df-quickchart {\n",
              "      --bg-color: #E8F0FE;\n",
              "      --fill-color: #1967D2;\n",
              "      --hover-bg-color: #E2EBFA;\n",
              "      --hover-fill-color: #174EA6;\n",
              "      --disabled-fill-color: #AAA;\n",
              "      --disabled-bg-color: #DDD;\n",
              "  }\n",
              "\n",
              "  [theme=dark] .colab-df-quickchart {\n",
              "      --bg-color: #3B4455;\n",
              "      --fill-color: #D2E3FC;\n",
              "      --hover-bg-color: #434B5C;\n",
              "      --hover-fill-color: #FFFFFF;\n",
              "      --disabled-bg-color: #3B4455;\n",
              "      --disabled-fill-color: #666;\n",
              "  }\n",
              "\n",
              "  .colab-df-quickchart {\n",
              "    background-color: var(--bg-color);\n",
              "    border: none;\n",
              "    border-radius: 50%;\n",
              "    cursor: pointer;\n",
              "    display: none;\n",
              "    fill: var(--fill-color);\n",
              "    height: 32px;\n",
              "    padding: 0;\n",
              "    width: 32px;\n",
              "  }\n",
              "\n",
              "  .colab-df-quickchart:hover {\n",
              "    background-color: var(--hover-bg-color);\n",
              "    box-shadow: 0 1px 2px rgba(60, 64, 67, 0.3), 0 1px 3px 1px rgba(60, 64, 67, 0.15);\n",
              "    fill: var(--button-hover-fill-color);\n",
              "  }\n",
              "\n",
              "  .colab-df-quickchart-complete:disabled,\n",
              "  .colab-df-quickchart-complete:disabled:hover {\n",
              "    background-color: var(--disabled-bg-color);\n",
              "    fill: var(--disabled-fill-color);\n",
              "    box-shadow: none;\n",
              "  }\n",
              "\n",
              "  .colab-df-spinner {\n",
              "    border: 2px solid var(--fill-color);\n",
              "    border-color: transparent;\n",
              "    border-bottom-color: var(--fill-color);\n",
              "    animation:\n",
              "      spin 1s steps(1) infinite;\n",
              "  }\n",
              "\n",
              "  @keyframes spin {\n",
              "    0% {\n",
              "      border-color: transparent;\n",
              "      border-bottom-color: var(--fill-color);\n",
              "      border-left-color: var(--fill-color);\n",
              "    }\n",
              "    20% {\n",
              "      border-color: transparent;\n",
              "      border-left-color: var(--fill-color);\n",
              "      border-top-color: var(--fill-color);\n",
              "    }\n",
              "    30% {\n",
              "      border-color: transparent;\n",
              "      border-left-color: var(--fill-color);\n",
              "      border-top-color: var(--fill-color);\n",
              "      border-right-color: var(--fill-color);\n",
              "    }\n",
              "    40% {\n",
              "      border-color: transparent;\n",
              "      border-right-color: var(--fill-color);\n",
              "      border-top-color: var(--fill-color);\n",
              "    }\n",
              "    60% {\n",
              "      border-color: transparent;\n",
              "      border-right-color: var(--fill-color);\n",
              "    }\n",
              "    80% {\n",
              "      border-color: transparent;\n",
              "      border-right-color: var(--fill-color);\n",
              "      border-bottom-color: var(--fill-color);\n",
              "    }\n",
              "    90% {\n",
              "      border-color: transparent;\n",
              "      border-bottom-color: var(--fill-color);\n",
              "    }\n",
              "  }\n",
              "</style>\n",
              "\n",
              "  <script>\n",
              "    async function quickchart(key) {\n",
              "      const quickchartButtonEl =\n",
              "        document.querySelector('#' + key + ' button');\n",
              "      quickchartButtonEl.disabled = true;  // To prevent multiple clicks.\n",
              "      quickchartButtonEl.classList.add('colab-df-spinner');\n",
              "      try {\n",
              "        const charts = await google.colab.kernel.invokeFunction(\n",
              "            'suggestCharts', [key], {});\n",
              "      } catch (error) {\n",
              "        console.error('Error during call to suggestCharts:', error);\n",
              "      }\n",
              "      quickchartButtonEl.classList.remove('colab-df-spinner');\n",
              "      quickchartButtonEl.classList.add('colab-df-quickchart-complete');\n",
              "    }\n",
              "    (() => {\n",
              "      let quickchartButtonEl =\n",
              "        document.querySelector('#df-2e2e18e9-0eaa-40de-b3e4-70b51c5682ce button');\n",
              "      quickchartButtonEl.style.display =\n",
              "        google.colab.kernel.accessAllowed ? 'block' : 'none';\n",
              "    })();\n",
              "  </script>\n",
              "</div>\n",
              "\n",
              "    </div>\n",
              "  </div>\n"
            ],
            "application/vnd.google.colaboratory.intrinsic+json": {
              "type": "dataframe",
              "variable_name": "df",
              "summary": "{\n  \"name\": \"df\",\n  \"rows\": 10000,\n  \"fields\": [\n    {\n      \"column\": \"USER_ID\",\n      \"properties\": {\n        \"dtype\": \"number\",\n        \"std\": 2890,\n        \"min\": 2,\n        \"max\": 10000,\n        \"num_unique_values\": 6324,\n        \"samples\": [\n          2159,\n          5040,\n          418\n        ],\n        \"semantic_type\": \"\",\n        \"description\": \"\"\n      }\n    },\n    {\n      \"column\": \"VARIANT_NAME\",\n      \"properties\": {\n        \"dtype\": \"category\",\n        \"num_unique_values\": 2,\n        \"samples\": [\n          \"control\",\n          \"variant\"\n        ],\n        \"semantic_type\": \"\",\n        \"description\": \"\"\n      }\n    },\n    {\n      \"column\": \"REVENUE\",\n      \"properties\": {\n        \"dtype\": \"number\",\n        \"std\": 2.3185286544931945,\n        \"min\": 0.0,\n        \"max\": 196.01,\n        \"num_unique_values\": 101,\n        \"samples\": [\n          1.3,\n          3.97\n        ],\n        \"semantic_type\": \"\",\n        \"description\": \"\"\n      }\n    }\n  ]\n}"
            }
          },
          "metadata": {},
          "execution_count": 8
        }
      ]
    },
    {
      "cell_type": "markdown",
      "source": [
        "# Data Understanding"
      ],
      "metadata": {
        "id": "x4TkAvmHrvuk"
      }
    },
    {
      "cell_type": "code",
      "source": [
        "#TODO : compute the following : DataFrame Information, Columns in DataFrame, Counting Missing Values, Descriptive Statistics, Value Counts for VARIANT_NAME, Counting Unique Users in USER_ID\n"
      ],
      "metadata": {
        "execution": {
          "iopub.status.busy": "2023-11-06T18:17:34.663181Z",
          "iopub.execute_input": "2023-11-06T18:17:34.663604Z",
          "iopub.status.idle": "2023-11-06T18:17:34.698452Z",
          "shell.execute_reply.started": "2023-11-06T18:17:34.66357Z",
          "shell.execute_reply": "2023-11-06T18:17:34.697253Z"
        },
        "trusted": true,
        "id": "4hquSCDYrvun"
      },
      "execution_count": null,
      "outputs": []
    },
    {
      "cell_type": "code",
      "source": [
        "df.info()"
      ],
      "metadata": {
        "colab": {
          "base_uri": "https://localhost:8080/"
        },
        "id": "YktM1XoYrgfK",
        "outputId": "cf1be1b2-37ea-4126-e48b-d2de948c9957"
      },
      "execution_count": 9,
      "outputs": [
        {
          "output_type": "stream",
          "name": "stdout",
          "text": [
            "<class 'pandas.core.frame.DataFrame'>\n",
            "RangeIndex: 10000 entries, 0 to 9999\n",
            "Data columns (total 3 columns):\n",
            " #   Column        Non-Null Count  Dtype  \n",
            "---  ------        --------------  -----  \n",
            " 0   USER_ID       10000 non-null  int64  \n",
            " 1   VARIANT_NAME  10000 non-null  object \n",
            " 2   REVENUE       10000 non-null  float64\n",
            "dtypes: float64(1), int64(1), object(1)\n",
            "memory usage: 234.5+ KB\n"
          ]
        }
      ]
    },
    {
      "cell_type": "code",
      "source": [
        "df.describe()"
      ],
      "metadata": {
        "colab": {
          "base_uri": "https://localhost:8080/",
          "height": 300
        },
        "id": "N-JQqYxMrjaO",
        "outputId": "6ea5652e-6454-4d7d-d5d5-9646d18936e1"
      },
      "execution_count": 10,
      "outputs": [
        {
          "output_type": "execute_result",
          "data": {
            "text/plain": [
              "            USER_ID       REVENUE\n",
              "count  10000.000000  10000.000000\n",
              "mean    4981.080200      0.099447\n",
              "std     2890.590115      2.318529\n",
              "min        2.000000      0.000000\n",
              "25%     2468.750000      0.000000\n",
              "50%     4962.000000      0.000000\n",
              "75%     7511.500000      0.000000\n",
              "max    10000.000000    196.010000"
            ],
            "text/html": [
              "\n",
              "  <div id=\"df-19290781-9300-4e3b-9e0f-4b6d4e71739e\" class=\"colab-df-container\">\n",
              "    <div>\n",
              "<style scoped>\n",
              "    .dataframe tbody tr th:only-of-type {\n",
              "        vertical-align: middle;\n",
              "    }\n",
              "\n",
              "    .dataframe tbody tr th {\n",
              "        vertical-align: top;\n",
              "    }\n",
              "\n",
              "    .dataframe thead th {\n",
              "        text-align: right;\n",
              "    }\n",
              "</style>\n",
              "<table border=\"1\" class=\"dataframe\">\n",
              "  <thead>\n",
              "    <tr style=\"text-align: right;\">\n",
              "      <th></th>\n",
              "      <th>USER_ID</th>\n",
              "      <th>REVENUE</th>\n",
              "    </tr>\n",
              "  </thead>\n",
              "  <tbody>\n",
              "    <tr>\n",
              "      <th>count</th>\n",
              "      <td>10000.000000</td>\n",
              "      <td>10000.000000</td>\n",
              "    </tr>\n",
              "    <tr>\n",
              "      <th>mean</th>\n",
              "      <td>4981.080200</td>\n",
              "      <td>0.099447</td>\n",
              "    </tr>\n",
              "    <tr>\n",
              "      <th>std</th>\n",
              "      <td>2890.590115</td>\n",
              "      <td>2.318529</td>\n",
              "    </tr>\n",
              "    <tr>\n",
              "      <th>min</th>\n",
              "      <td>2.000000</td>\n",
              "      <td>0.000000</td>\n",
              "    </tr>\n",
              "    <tr>\n",
              "      <th>25%</th>\n",
              "      <td>2468.750000</td>\n",
              "      <td>0.000000</td>\n",
              "    </tr>\n",
              "    <tr>\n",
              "      <th>50%</th>\n",
              "      <td>4962.000000</td>\n",
              "      <td>0.000000</td>\n",
              "    </tr>\n",
              "    <tr>\n",
              "      <th>75%</th>\n",
              "      <td>7511.500000</td>\n",
              "      <td>0.000000</td>\n",
              "    </tr>\n",
              "    <tr>\n",
              "      <th>max</th>\n",
              "      <td>10000.000000</td>\n",
              "      <td>196.010000</td>\n",
              "    </tr>\n",
              "  </tbody>\n",
              "</table>\n",
              "</div>\n",
              "    <div class=\"colab-df-buttons\">\n",
              "\n",
              "  <div class=\"colab-df-container\">\n",
              "    <button class=\"colab-df-convert\" onclick=\"convertToInteractive('df-19290781-9300-4e3b-9e0f-4b6d4e71739e')\"\n",
              "            title=\"Convert this dataframe to an interactive table.\"\n",
              "            style=\"display:none;\">\n",
              "\n",
              "  <svg xmlns=\"http://www.w3.org/2000/svg\" height=\"24px\" viewBox=\"0 -960 960 960\">\n",
              "    <path d=\"M120-120v-720h720v720H120Zm60-500h600v-160H180v160Zm220 220h160v-160H400v160Zm0 220h160v-160H400v160ZM180-400h160v-160H180v160Zm440 0h160v-160H620v160ZM180-180h160v-160H180v160Zm440 0h160v-160H620v160Z\"/>\n",
              "  </svg>\n",
              "    </button>\n",
              "\n",
              "  <style>\n",
              "    .colab-df-container {\n",
              "      display:flex;\n",
              "      gap: 12px;\n",
              "    }\n",
              "\n",
              "    .colab-df-convert {\n",
              "      background-color: #E8F0FE;\n",
              "      border: none;\n",
              "      border-radius: 50%;\n",
              "      cursor: pointer;\n",
              "      display: none;\n",
              "      fill: #1967D2;\n",
              "      height: 32px;\n",
              "      padding: 0 0 0 0;\n",
              "      width: 32px;\n",
              "    }\n",
              "\n",
              "    .colab-df-convert:hover {\n",
              "      background-color: #E2EBFA;\n",
              "      box-shadow: 0px 1px 2px rgba(60, 64, 67, 0.3), 0px 1px 3px 1px rgba(60, 64, 67, 0.15);\n",
              "      fill: #174EA6;\n",
              "    }\n",
              "\n",
              "    .colab-df-buttons div {\n",
              "      margin-bottom: 4px;\n",
              "    }\n",
              "\n",
              "    [theme=dark] .colab-df-convert {\n",
              "      background-color: #3B4455;\n",
              "      fill: #D2E3FC;\n",
              "    }\n",
              "\n",
              "    [theme=dark] .colab-df-convert:hover {\n",
              "      background-color: #434B5C;\n",
              "      box-shadow: 0px 1px 3px 1px rgba(0, 0, 0, 0.15);\n",
              "      filter: drop-shadow(0px 1px 2px rgba(0, 0, 0, 0.3));\n",
              "      fill: #FFFFFF;\n",
              "    }\n",
              "  </style>\n",
              "\n",
              "    <script>\n",
              "      const buttonEl =\n",
              "        document.querySelector('#df-19290781-9300-4e3b-9e0f-4b6d4e71739e button.colab-df-convert');\n",
              "      buttonEl.style.display =\n",
              "        google.colab.kernel.accessAllowed ? 'block' : 'none';\n",
              "\n",
              "      async function convertToInteractive(key) {\n",
              "        const element = document.querySelector('#df-19290781-9300-4e3b-9e0f-4b6d4e71739e');\n",
              "        const dataTable =\n",
              "          await google.colab.kernel.invokeFunction('convertToInteractive',\n",
              "                                                    [key], {});\n",
              "        if (!dataTable) return;\n",
              "\n",
              "        const docLinkHtml = 'Like what you see? Visit the ' +\n",
              "          '<a target=\"_blank\" href=https://colab.research.google.com/notebooks/data_table.ipynb>data table notebook</a>'\n",
              "          + ' to learn more about interactive tables.';\n",
              "        element.innerHTML = '';\n",
              "        dataTable['output_type'] = 'display_data';\n",
              "        await google.colab.output.renderOutput(dataTable, element);\n",
              "        const docLink = document.createElement('div');\n",
              "        docLink.innerHTML = docLinkHtml;\n",
              "        element.appendChild(docLink);\n",
              "      }\n",
              "    </script>\n",
              "  </div>\n",
              "\n",
              "\n",
              "<div id=\"df-3699a2a4-a081-4048-a18c-77b02583a516\">\n",
              "  <button class=\"colab-df-quickchart\" onclick=\"quickchart('df-3699a2a4-a081-4048-a18c-77b02583a516')\"\n",
              "            title=\"Suggest charts\"\n",
              "            style=\"display:none;\">\n",
              "\n",
              "<svg xmlns=\"http://www.w3.org/2000/svg\" height=\"24px\"viewBox=\"0 0 24 24\"\n",
              "     width=\"24px\">\n",
              "    <g>\n",
              "        <path d=\"M19 3H5c-1.1 0-2 .9-2 2v14c0 1.1.9 2 2 2h14c1.1 0 2-.9 2-2V5c0-1.1-.9-2-2-2zM9 17H7v-7h2v7zm4 0h-2V7h2v10zm4 0h-2v-4h2v4z\"/>\n",
              "    </g>\n",
              "</svg>\n",
              "  </button>\n",
              "\n",
              "<style>\n",
              "  .colab-df-quickchart {\n",
              "      --bg-color: #E8F0FE;\n",
              "      --fill-color: #1967D2;\n",
              "      --hover-bg-color: #E2EBFA;\n",
              "      --hover-fill-color: #174EA6;\n",
              "      --disabled-fill-color: #AAA;\n",
              "      --disabled-bg-color: #DDD;\n",
              "  }\n",
              "\n",
              "  [theme=dark] .colab-df-quickchart {\n",
              "      --bg-color: #3B4455;\n",
              "      --fill-color: #D2E3FC;\n",
              "      --hover-bg-color: #434B5C;\n",
              "      --hover-fill-color: #FFFFFF;\n",
              "      --disabled-bg-color: #3B4455;\n",
              "      --disabled-fill-color: #666;\n",
              "  }\n",
              "\n",
              "  .colab-df-quickchart {\n",
              "    background-color: var(--bg-color);\n",
              "    border: none;\n",
              "    border-radius: 50%;\n",
              "    cursor: pointer;\n",
              "    display: none;\n",
              "    fill: var(--fill-color);\n",
              "    height: 32px;\n",
              "    padding: 0;\n",
              "    width: 32px;\n",
              "  }\n",
              "\n",
              "  .colab-df-quickchart:hover {\n",
              "    background-color: var(--hover-bg-color);\n",
              "    box-shadow: 0 1px 2px rgba(60, 64, 67, 0.3), 0 1px 3px 1px rgba(60, 64, 67, 0.15);\n",
              "    fill: var(--button-hover-fill-color);\n",
              "  }\n",
              "\n",
              "  .colab-df-quickchart-complete:disabled,\n",
              "  .colab-df-quickchart-complete:disabled:hover {\n",
              "    background-color: var(--disabled-bg-color);\n",
              "    fill: var(--disabled-fill-color);\n",
              "    box-shadow: none;\n",
              "  }\n",
              "\n",
              "  .colab-df-spinner {\n",
              "    border: 2px solid var(--fill-color);\n",
              "    border-color: transparent;\n",
              "    border-bottom-color: var(--fill-color);\n",
              "    animation:\n",
              "      spin 1s steps(1) infinite;\n",
              "  }\n",
              "\n",
              "  @keyframes spin {\n",
              "    0% {\n",
              "      border-color: transparent;\n",
              "      border-bottom-color: var(--fill-color);\n",
              "      border-left-color: var(--fill-color);\n",
              "    }\n",
              "    20% {\n",
              "      border-color: transparent;\n",
              "      border-left-color: var(--fill-color);\n",
              "      border-top-color: var(--fill-color);\n",
              "    }\n",
              "    30% {\n",
              "      border-color: transparent;\n",
              "      border-left-color: var(--fill-color);\n",
              "      border-top-color: var(--fill-color);\n",
              "      border-right-color: var(--fill-color);\n",
              "    }\n",
              "    40% {\n",
              "      border-color: transparent;\n",
              "      border-right-color: var(--fill-color);\n",
              "      border-top-color: var(--fill-color);\n",
              "    }\n",
              "    60% {\n",
              "      border-color: transparent;\n",
              "      border-right-color: var(--fill-color);\n",
              "    }\n",
              "    80% {\n",
              "      border-color: transparent;\n",
              "      border-right-color: var(--fill-color);\n",
              "      border-bottom-color: var(--fill-color);\n",
              "    }\n",
              "    90% {\n",
              "      border-color: transparent;\n",
              "      border-bottom-color: var(--fill-color);\n",
              "    }\n",
              "  }\n",
              "</style>\n",
              "\n",
              "  <script>\n",
              "    async function quickchart(key) {\n",
              "      const quickchartButtonEl =\n",
              "        document.querySelector('#' + key + ' button');\n",
              "      quickchartButtonEl.disabled = true;  // To prevent multiple clicks.\n",
              "      quickchartButtonEl.classList.add('colab-df-spinner');\n",
              "      try {\n",
              "        const charts = await google.colab.kernel.invokeFunction(\n",
              "            'suggestCharts', [key], {});\n",
              "      } catch (error) {\n",
              "        console.error('Error during call to suggestCharts:', error);\n",
              "      }\n",
              "      quickchartButtonEl.classList.remove('colab-df-spinner');\n",
              "      quickchartButtonEl.classList.add('colab-df-quickchart-complete');\n",
              "    }\n",
              "    (() => {\n",
              "      let quickchartButtonEl =\n",
              "        document.querySelector('#df-3699a2a4-a081-4048-a18c-77b02583a516 button');\n",
              "      quickchartButtonEl.style.display =\n",
              "        google.colab.kernel.accessAllowed ? 'block' : 'none';\n",
              "    })();\n",
              "  </script>\n",
              "</div>\n",
              "\n",
              "    </div>\n",
              "  </div>\n"
            ],
            "application/vnd.google.colaboratory.intrinsic+json": {
              "type": "dataframe",
              "summary": "{\n  \"name\": \"df\",\n  \"rows\": 8,\n  \"fields\": [\n    {\n      \"column\": \"USER_ID\",\n      \"properties\": {\n        \"dtype\": \"number\",\n        \"std\": 3608.622589070218,\n        \"min\": 2.0,\n        \"max\": 10000.0,\n        \"num_unique_values\": 7,\n        \"samples\": [\n          10000.0,\n          4981.0802,\n          4962.0\n        ],\n        \"semantic_type\": \"\",\n        \"description\": \"\"\n      }\n    },\n    {\n      \"column\": \"REVENUE\",\n      \"properties\": {\n        \"dtype\": \"number\",\n        \"std\": 3526.176270991776,\n        \"min\": 0.0,\n        \"max\": 10000.0,\n        \"num_unique_values\": 5,\n        \"samples\": [\n          0.09944700000000001,\n          196.01,\n          2.3185286544931945\n        ],\n        \"semantic_type\": \"\",\n        \"description\": \"\"\n      }\n    }\n  ]\n}"
            }
          },
          "metadata": {},
          "execution_count": 10
        }
      ]
    },
    {
      "cell_type": "code",
      "source": [
        "df.isnull().sum()"
      ],
      "metadata": {
        "colab": {
          "base_uri": "https://localhost:8080/",
          "height": 178
        },
        "id": "3s6uW538rmHZ",
        "outputId": "a9d917fe-6c83-402d-9468-c2b70ee5ed80"
      },
      "execution_count": 11,
      "outputs": [
        {
          "output_type": "execute_result",
          "data": {
            "text/plain": [
              "USER_ID         0\n",
              "VARIANT_NAME    0\n",
              "REVENUE         0\n",
              "dtype: int64"
            ],
            "text/html": [
              "<div>\n",
              "<style scoped>\n",
              "    .dataframe tbody tr th:only-of-type {\n",
              "        vertical-align: middle;\n",
              "    }\n",
              "\n",
              "    .dataframe tbody tr th {\n",
              "        vertical-align: top;\n",
              "    }\n",
              "\n",
              "    .dataframe thead th {\n",
              "        text-align: right;\n",
              "    }\n",
              "</style>\n",
              "<table border=\"1\" class=\"dataframe\">\n",
              "  <thead>\n",
              "    <tr style=\"text-align: right;\">\n",
              "      <th></th>\n",
              "      <th>0</th>\n",
              "    </tr>\n",
              "  </thead>\n",
              "  <tbody>\n",
              "    <tr>\n",
              "      <th>USER_ID</th>\n",
              "      <td>0</td>\n",
              "    </tr>\n",
              "    <tr>\n",
              "      <th>VARIANT_NAME</th>\n",
              "      <td>0</td>\n",
              "    </tr>\n",
              "    <tr>\n",
              "      <th>REVENUE</th>\n",
              "      <td>0</td>\n",
              "    </tr>\n",
              "  </tbody>\n",
              "</table>\n",
              "</div><br><label><b>dtype:</b> int64</label>"
            ]
          },
          "metadata": {},
          "execution_count": 11
        }
      ]
    },
    {
      "cell_type": "code",
      "source": [
        "df[\"VARIANT_NAME\"].value_counts()"
      ],
      "metadata": {
        "colab": {
          "base_uri": "https://localhost:8080/",
          "height": 178
        },
        "id": "hRJPFQvWrpcW",
        "outputId": "ae7110ed-72c7-419a-8ece-63da7301d6a2"
      },
      "execution_count": 12,
      "outputs": [
        {
          "output_type": "execute_result",
          "data": {
            "text/plain": [
              "VARIANT_NAME\n",
              "variant    5016\n",
              "control    4984\n",
              "Name: count, dtype: int64"
            ],
            "text/html": [
              "<div>\n",
              "<style scoped>\n",
              "    .dataframe tbody tr th:only-of-type {\n",
              "        vertical-align: middle;\n",
              "    }\n",
              "\n",
              "    .dataframe tbody tr th {\n",
              "        vertical-align: top;\n",
              "    }\n",
              "\n",
              "    .dataframe thead th {\n",
              "        text-align: right;\n",
              "    }\n",
              "</style>\n",
              "<table border=\"1\" class=\"dataframe\">\n",
              "  <thead>\n",
              "    <tr style=\"text-align: right;\">\n",
              "      <th></th>\n",
              "      <th>count</th>\n",
              "    </tr>\n",
              "    <tr>\n",
              "      <th>VARIANT_NAME</th>\n",
              "      <th></th>\n",
              "    </tr>\n",
              "  </thead>\n",
              "  <tbody>\n",
              "    <tr>\n",
              "      <th>variant</th>\n",
              "      <td>5016</td>\n",
              "    </tr>\n",
              "    <tr>\n",
              "      <th>control</th>\n",
              "      <td>4984</td>\n",
              "    </tr>\n",
              "  </tbody>\n",
              "</table>\n",
              "</div><br><label><b>dtype:</b> int64</label>"
            ]
          },
          "metadata": {},
          "execution_count": 12
        }
      ]
    },
    {
      "cell_type": "code",
      "source": [
        "df['USER_ID'].nunique()"
      ],
      "metadata": {
        "colab": {
          "base_uri": "https://localhost:8080/"
        },
        "id": "Cs3Wc1XRrwJM",
        "outputId": "5e6875e0-ad0c-43e8-92bd-e1ab757fc60d"
      },
      "execution_count": 13,
      "outputs": [
        {
          "output_type": "execute_result",
          "data": {
            "text/plain": [
              "6324"
            ]
          },
          "metadata": {},
          "execution_count": 13
        }
      ]
    },
    {
      "cell_type": "markdown",
      "source": [
        "# Average Revenue by VARIANT_NAME"
      ],
      "metadata": {
        "id": "1UJ0wnvyrvup"
      }
    },
    {
      "cell_type": "code",
      "source": [
        "#TODO\n",
        "average_revenue = df.groupby('VARIANT_NAME')['REVENUE'].mean()\n",
        "average_revenue"
      ],
      "metadata": {
        "execution": {
          "iopub.status.busy": "2023-11-06T18:18:57.601805Z",
          "iopub.execute_input": "2023-11-06T18:18:57.602256Z",
          "iopub.status.idle": "2023-11-06T18:18:57.619241Z",
          "shell.execute_reply.started": "2023-11-06T18:18:57.602219Z",
          "shell.execute_reply": "2023-11-06T18:18:57.618008Z"
        },
        "trusted": true,
        "id": "FEl4TOdKrvuq",
        "colab": {
          "base_uri": "https://localhost:8080/",
          "height": 178
        },
        "outputId": "de830425-58cc-4a03-e080-ef8ca888098c"
      },
      "execution_count": 15,
      "outputs": [
        {
          "output_type": "execute_result",
          "data": {
            "text/plain": [
              "VARIANT_NAME\n",
              "control    0.129013\n",
              "variant    0.070070\n",
              "Name: REVENUE, dtype: float64"
            ],
            "text/html": [
              "<div>\n",
              "<style scoped>\n",
              "    .dataframe tbody tr th:only-of-type {\n",
              "        vertical-align: middle;\n",
              "    }\n",
              "\n",
              "    .dataframe tbody tr th {\n",
              "        vertical-align: top;\n",
              "    }\n",
              "\n",
              "    .dataframe thead th {\n",
              "        text-align: right;\n",
              "    }\n",
              "</style>\n",
              "<table border=\"1\" class=\"dataframe\">\n",
              "  <thead>\n",
              "    <tr style=\"text-align: right;\">\n",
              "      <th></th>\n",
              "      <th>REVENUE</th>\n",
              "    </tr>\n",
              "    <tr>\n",
              "      <th>VARIANT_NAME</th>\n",
              "      <th></th>\n",
              "    </tr>\n",
              "  </thead>\n",
              "  <tbody>\n",
              "    <tr>\n",
              "      <th>control</th>\n",
              "      <td>0.129013</td>\n",
              "    </tr>\n",
              "    <tr>\n",
              "      <th>variant</th>\n",
              "      <td>0.070070</td>\n",
              "    </tr>\n",
              "  </tbody>\n",
              "</table>\n",
              "</div><br><label><b>dtype:</b> float64</label>"
            ]
          },
          "metadata": {},
          "execution_count": 15
        }
      ]
    },
    {
      "cell_type": "markdown",
      "source": [
        "What if H0: M1 = M2 ?\n",
        "What about H1: M1 1= M2 ?"
      ],
      "metadata": {
        "id": "VI4aeoclrvur"
      }
    },
    {
      "cell_type": "markdown",
      "source": [
        "# Assumptions Control:\n",
        "*# 1- Normality Assumptions*\n",
        "*# 2- Homogeneity of Variances Assumption*"
      ],
      "metadata": {
        "id": "9nwdJ5OPrvus"
      }
    },
    {
      "cell_type": "code",
      "source": [
        "# TODO : test the normality of revenue data in two groups (variant and control) within your DataFrame df using the Shapiro-Wilk test, what can you conclude ?\n",
        "\n",
        "control_group = df[df['VARIANT_NAME'] == 'control']['REVENUE']\n",
        "variant_group = df[df['VARIANT_NAME'] == 'variant']['REVENUE']\n",
        "\n",
        "shapiro_test_control = shapiro(control_group)\n",
        "shapiro_test_variant = shapiro(variant_group)\n",
        "\n",
        "print(\"Shapiro-Wilk Test for Control Group:\", shapiro_test_control)\n",
        "\n",
        "\n",
        "print(\"Shapiro-Wilk Test for Variant Group:\", shapiro_test_variant)\n"
      ],
      "metadata": {
        "execution": {
          "iopub.status.busy": "2023-11-06T18:33:49.418255Z",
          "iopub.execute_input": "2023-11-06T18:33:49.419188Z",
          "iopub.status.idle": "2023-11-06T18:33:49.439409Z",
          "shell.execute_reply.started": "2023-11-06T18:33:49.41913Z",
          "shell.execute_reply": "2023-11-06T18:33:49.438008Z"
        },
        "trusted": true,
        "id": "TT2sJwFprvut",
        "colab": {
          "base_uri": "https://localhost:8080/"
        },
        "outputId": "cdfdb7a0-fdd0-4306-af08-1ec69fb2955d"
      },
      "execution_count": 19,
      "outputs": [
        {
          "output_type": "stream",
          "name": "stdout",
          "text": [
            "Shapiro-Wilk Test for Control Group: ShapiroResult(statistic=0.01833147442513483, pvalue=2.4983285100057203e-95)\n",
            "Shapiro-Wilk Test for Variant Group: ShapiroResult(statistic=0.027033073451830147, pvalue=2.7310104028899288e-95)\n"
          ]
        },
        {
          "output_type": "stream",
          "name": "stderr",
          "text": [
            "/usr/local/lib/python3.10/dist-packages/scipy/stats/_axis_nan_policy.py:531: UserWarning: scipy.stats.shapiro: For N > 5000, computed p-value may not be accurate. Current N is 5016.\n",
            "  res = hypotest_fun_out(*samples, **kwds)\n"
          ]
        }
      ]
    },
    {
      "cell_type": "markdown",
      "source": [
        "The results of the Shapiro-Wilk test show that the data in both groups  do not correspond to a normal distribution, because\n",
        "The p-value in both cases is significantly less\n",
        "than 0.05"
      ],
      "metadata": {
        "id": "dByUCS5U5FID"
      }
    },
    {
      "cell_type": "code",
      "source": [
        "# TODO : test for the homogeneity of variances between two groups (variant and control) within your DataFrame df using the Levene's test,  what can you conclude ?\n",
        "\n",
        "#H0 : The variances in the groups are equal (homogeneity of variances).\n",
        "#H1 : The variances in the groups vary.\n",
        "\n",
        "\n",
        "levene_test = levene(control_group, variant_group)\n",
        "\n",
        "print(\"Levene's Test:\", levene_test)"
      ],
      "metadata": {
        "execution": {
          "iopub.status.busy": "2023-11-06T18:36:19.230691Z",
          "iopub.execute_input": "2023-11-06T18:36:19.231134Z",
          "iopub.status.idle": "2023-11-06T18:36:19.251023Z",
          "shell.execute_reply.started": "2023-11-06T18:36:19.231103Z",
          "shell.execute_reply": "2023-11-06T18:36:19.249467Z"
        },
        "trusted": true,
        "id": "n_X3_fU2rvuv",
        "colab": {
          "base_uri": "https://localhost:8080/"
        },
        "outputId": "7a5a1fd5-efd3-4a04-b8c7-b36d9b1d9bcc"
      },
      "execution_count": 20,
      "outputs": [
        {
          "output_type": "stream",
          "name": "stdout",
          "text": [
            "Levene's Test: LeveneResult(statistic=1.6158565214488871, pvalue=0.2037000785338918)\n"
          ]
        }
      ]
    },
    {
      "cell_type": "markdown",
      "source": [
        "We cannot reject the null hypothesis."
      ],
      "metadata": {
        "id": "7aSsyQrQ5yI_"
      }
    },
    {
      "cell_type": "markdown",
      "source": [
        "# Non-Parametric Test (mannwhitneyu Test)"
      ],
      "metadata": {
        "id": "thz0Mml0rvuw"
      }
    },
    {
      "cell_type": "code",
      "source": [
        "# TODO : perform the Mann-Whitney U test for comparing the average revenue between the variant and control groups in your DataFrame, what can you conclude ?\n",
        "#H0 The income distributions in the Control and Variant groups are the same\n",
        "#H1 Income distributions in the groups vary\n",
        "\n",
        "mannwhitneyu_test = mannwhitneyu(control_group, variant_group)\n",
        "\n",
        "print(\"Mann-Whitney U Test:\", mannwhitneyu_test)"
      ],
      "metadata": {
        "execution": {
          "iopub.status.busy": "2023-11-06T18:38:28.694822Z",
          "iopub.execute_input": "2023-11-06T18:38:28.695244Z",
          "iopub.status.idle": "2023-11-06T18:38:28.727682Z",
          "shell.execute_reply.started": "2023-11-06T18:38:28.695212Z",
          "shell.execute_reply": "2023-11-06T18:38:28.726189Z"
        },
        "trusted": true,
        "id": "HGcWTyuUrvuw",
        "colab": {
          "base_uri": "https://localhost:8080/"
        },
        "outputId": "3b031ea0-90fa-4b61-b095-566266c4fa54"
      },
      "execution_count": 21,
      "outputs": [
        {
          "output_type": "stream",
          "name": "stdout",
          "text": [
            "Mann-Whitney U Test: MannwhitneyuResult(statistic=12521564.0, pvalue=0.47825247965294926)\n"
          ]
        }
      ]
    },
    {
      "cell_type": "code",
      "source": [
        "# TODO : create a bar plot showing the average revenues by variant names using the seaborn library\n",
        "\n",
        "sns.barplot(x='VARIANT_NAME', y='REVENUE', data=df)\n",
        "plt.title('Average Revenue by Variant Name', fontsize=16)\n",
        "plt.xlabel('Variant Name', fontsize=14)\n",
        "plt.ylabel('Average Revenue', fontsize=14)\n",
        "plt.xticks(fontsize=12)\n",
        "plt.yticks(fontsize=12)\n",
        "plt.show()"
      ],
      "metadata": {
        "execution": {
          "iopub.status.busy": "2023-11-06T18:45:29.181657Z",
          "iopub.execute_input": "2023-11-06T18:45:29.18208Z",
          "iopub.status.idle": "2023-11-06T18:45:29.640026Z",
          "shell.execute_reply.started": "2023-11-06T18:45:29.182049Z",
          "shell.execute_reply": "2023-11-06T18:45:29.638846Z"
        },
        "trusted": true,
        "id": "jtjQGGsDrvux",
        "colab": {
          "base_uri": "https://localhost:8080/",
          "height": 483
        },
        "outputId": "1f58d9c9-1d13-4812-8020-bb370acfbdb5"
      },
      "execution_count": 29,
      "outputs": [
        {
          "output_type": "display_data",
          "data": {
            "text/plain": [
              "<Figure size 640x480 with 1 Axes>"
            ],
            "image/png": "[encoded data removed]"
          },
          "metadata": {}
        }
      ]
    },
    {
      "cell_type": "code",
      "source": [
        "avg_revenue = df.groupby('VARIANT_NAME')['REVENUE'].mean().reset_index()\n",
        "\n",
        "\n",
        "plt.figure(figsize=(8, 6))\n",
        "sns.barplot(data=avg_revenue, x='VARIANT_NAME', y='REVENUE', ci=None)\n",
        "\n",
        "plt.title('Average Revenue by Variant Name', fontsize=16)\n",
        "plt.xlabel('Variant Name', fontsize=14)\n",
        "plt.ylabel('Average Revenue', fontsize=14)\n",
        "plt.xticks(fontsize=12)\n",
        "plt.yticks(fontsize=12)\n",
        "\n",
        "plt.show()"
      ],
      "metadata": {
        "colab": {
          "base_uri": "https://localhost:8080/",
          "height": 662
        },
        "id": "Ib6laSItAGp4",
        "outputId": "06bcff29-6cd1-4d2a-81c3-c8de5ba78130"
      },
      "execution_count": 30,
      "outputs": [
        {
          "output_type": "stream",
          "name": "stderr",
          "text": [
            "<ipython-input-30-063f4ac21160>:5: FutureWarning: \n",
            "\n",
            "The `ci` parameter is deprecated. Use `errorbar=None` for the same effect.\n",
            "\n",
            "  sns.barplot(data=avg_revenue, x='VARIANT_NAME', y='REVENUE', ci=None)\n"
          ]
        },
        {
          "output_type": "display_data",
          "data": {
            "text/plain": [
              "<Figure size 800x600 with 1 Axes>"
            ],
            "image/png": "[encoded data removed]"
          },
          "metadata": {}
        }
      ]
    },
    {
      "cell_type": "markdown",
      "source": [],
      "metadata": {
        "id": "IQsVlocz-ore"
      }
    }
  ]
}