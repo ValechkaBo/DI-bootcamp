{
  "nbformat": 4,
  "nbformat_minor": 0,
  "metadata": {
    "colab": {
      "provenance": []
    },
    "kernelspec": {
      "name": "python3",
      "display_name": "Python 3"
    },
    "language_info": {
      "name": "python"
    }
  },
  "cells": [
    {
      "cell_type": "code",
      "execution_count": 3,
      "metadata": {
        "id": "7bCEfQkded_i"
      },
      "outputs": [],
      "source": [
        "import numpy as np\n",
        "from scipy import stats\n",
        "import pandas as pd\n",
        "import matplotlib.pyplot as plt\n",
        "from sklearn.linear_model import LinearRegression"
      ]
    },
    {
      "cell_type": "markdown",
      "source": [
        "🌟 Exercise 1 : Linear Regression Analysis\n",
        "Instructions\n",
        "Objective: Apply linear regression to a dataset and interpret the results.\n",
        "\n",
        "Task: Given a dataset of housing prices (house_prices) and their corresponding sizes (house_sizes), use linear regression to predict the price of a house given its size.\n",
        "\n",
        "Dataset:\n",
        "\n",
        "house_sizes: [50, 70, 80, 100, 120] (in square meters)\n",
        "house_prices: [150,000, 200,000, 210,000, 250,000, 280,000] (in currency units)\n",
        "Questions:\n",
        "\n",
        "What is the slope and intercept of the regression line?\n",
        "Predict the price of a house that is 90 square meters.\n",
        "Interpret the meaning of the slope in the context of housing prices."
      ],
      "metadata": {
        "id": "iPjNuUXrr2Su"
      }
    },
    {
      "cell_type": "code",
      "source": [
        "house_sizes = np.array([50, 70, 80, 100, 120])\n",
        "house_prices = np.array([150000, 200000, 210000, 250000, 280000])"
      ],
      "metadata": {
        "id": "id9cQ7sfsDSL"
      },
      "execution_count": 4,
      "outputs": []
    },
    {
      "cell_type": "code",
      "source": [
        "slope, intercept, r_value, p_value, std_err = stats.linregress(house_sizes, house_prices)\n",
        "print(\"Slope:\", slope)\n",
        "print(\"Intercept:\", intercept)"
      ],
      "metadata": {
        "colab": {
          "base_uri": "https://localhost:8080/"
        },
        "id": "p5Uf9YsNstG6",
        "outputId": "f3834e7b-3089-46ed-8cfa-a5db5f51dfbd"
      },
      "execution_count": 6,
      "outputs": [
        {
          "output_type": "stream",
          "name": "stdout",
          "text": [
            "Slope: 1828.7671232876712\n",
            "Intercept: 64383.56164383562\n"
          ]
        }
      ]
    },
    {
      "cell_type": "code",
      "source": [
        "#Predict the price of a house that is 90 square meters.\n",
        "slope = slope.round(2)\n",
        "intercept = intercept.round(2)\n",
        "house_size = 90\n",
        "predicted_price = slope * house_size + intercept\n",
        "print(\"Predicted price:\", predicted_price)"
      ],
      "metadata": {
        "colab": {
          "base_uri": "https://localhost:8080/"
        },
        "id": "f5Z6WmVQuQ-p",
        "outputId": "cf43fc62-28c1-49c7-aac5-ac5f726d8e32"
      },
      "execution_count": 8,
      "outputs": [
        {
          "output_type": "stream",
          "name": "stdout",
          "text": [
            "Predicted price: 228972.86\n"
          ]
        }
      ]
    },
    {
      "cell_type": "code",
      "source": [
        "# Slope is price for 1 m**"
      ],
      "metadata": {
        "id": "-nF1yOEHuwKa"
      },
      "execution_count": null,
      "outputs": []
    },
    {
      "cell_type": "markdown",
      "source": [
        "🌟 Exercise 2 : Understanding ANOVA\n",
        "Instructions\n",
        "Objective: Test understanding of ANOVA and its application.\n",
        "\n",
        "Task: Three different fertilizers are applied to three separate groups of plants to test their effectiveness. The growth in centimeters is recorded.\n",
        "\n",
        "Dataset:\n",
        "\n",
        "fertilizer_1: [5, 6, 7, 6, 5]\n",
        "fertilizer_2: [7, 8, 7, 9, 8]\n",
        "fertilizer_3: [4, 5, 4, 3, 4]\n",
        "Questions:\n",
        "\n",
        "Perform an ANOVA test on the given data. What are the F-value and P-value?\n",
        "Based on the P-value, do the fertilizers have significantly different effects on plant growth?\n",
        "Explain what would happen if the P-value were greater than 0.05."
      ],
      "metadata": {
        "id": "N58HobLHvIRT"
      }
    },
    {
      "cell_type": "code",
      "source": [
        "fertilizer_1 = np.array([5, 6, 7, 6, 5])\n",
        "fertilizer_2 = np.array([7, 8, 7, 9, 8])\n",
        "fertilizer_3 = np.array([4, 5, 4, 3, 4])"
      ],
      "metadata": {
        "id": "uzWwl5E2vPiC"
      },
      "execution_count": 9,
      "outputs": []
    },
    {
      "cell_type": "code",
      "source": [
        "# H0: There is not any  diff between effectiveness (mean of the grooms is equal)\n",
        "# H1: fertilizers affect differently"
      ],
      "metadata": {
        "id": "FUcqsZ4Vw3sZ"
      },
      "execution_count": null,
      "outputs": []
    },
    {
      "cell_type": "code",
      "source": [
        "# ANOVA TEST\n",
        "f_value, p_value = stats.f_oneway(fertilizer_1, fertilizer_2, fertilizer_3)\n",
        "\n",
        "print(\"F-value:\", f_value)\n",
        "print(\"P-value:\", p_value)"
      ],
      "metadata": {
        "colab": {
          "base_uri": "https://localhost:8080/"
        },
        "id": "d2Xssyvcv_w4",
        "outputId": "19407b7f-94da-4b31-bee1-e488a3eb77ba"
      },
      "execution_count": 16,
      "outputs": [
        {
          "output_type": "stream",
          "name": "stdout",
          "text": [
            "F-value: 28.52631578947368\n",
            "P-value: 2.7542672098048448e-05\n"
          ]
        }
      ]
    },
    {
      "cell_type": "code",
      "source": [
        "# P -value tells that the difference between the groups is significant.\n",
        "# If the p-value were greater than 0.05, we would not be able to reject the null hypothesis, and say that the difference in fertilizer efficiency is statistically significant"
      ],
      "metadata": {
        "id": "RxGeBroSxhiY"
      },
      "execution_count": null,
      "outputs": []
    },
    {
      "cell_type": "markdown",
      "source": [
        "🌟 Exercise 3 : Probability Distributions\n",
        "Instructions\n",
        "Work with a binomial distribution: calculate probabilities for different numbers of successes.\n",
        "Example: Calculating the probability of getting exactly 5 heads in 10 coin flips.\n"
      ],
      "metadata": {
        "id": "lYeafG-0yRMU"
      }
    },
    {
      "cell_type": "code",
      "source": [
        "# Binomial distribution\n",
        "n = 10\n",
        "p = 0.5\n",
        "k = 5\n",
        "prob = stats.binom.pmf(k, n, p)\n",
        "print(\"Probability of getting exactly 5 heads in 10 coin flips:\", prob)"
      ],
      "metadata": {
        "colab": {
          "base_uri": "https://localhost:8080/"
        },
        "id": "J3Bvtthdyjhv",
        "outputId": "a04d885f-12a1-454c-a43a-87531406765c"
      },
      "execution_count": 17,
      "outputs": [
        {
          "output_type": "stream",
          "name": "stdout",
          "text": [
            "Probability of getting exactly 5 heads in 10 coin flips: 0.24609375000000003\n"
          ]
        }
      ]
    },
    {
      "cell_type": "code",
      "source": [
        "# With a probability of 24.6%, we will get 5 heads"
      ],
      "metadata": {
        "id": "dDW5XRfA1h3e"
      },
      "execution_count": null,
      "outputs": []
    },
    {
      "cell_type": "markdown",
      "source": [
        "🌟 Exercise 4 : Correlation Coefficients\n",
        "Instructions\n",
        "Calculate the Pearson and Spearman correlation coefficients between two variables in a dataset.\n",
        "Example in code: data = pd.DataFrame({'age': [23, 25, 30, 35, 40], 'income': [35000, 40000, 50000, 60000, 70000]})"
      ],
      "metadata": {
        "id": "exoDGCQv0aPB"
      }
    },
    {
      "cell_type": "code",
      "source": [
        "data = pd.DataFrame({'age': [23, 25, 30, 35, 40],\n",
        "                     'income': [35000, 40000, 50000, 60000, 70000]}\n",
        "                    )"
      ],
      "metadata": {
        "id": "j334B9KF0bKN"
      },
      "execution_count": 18,
      "outputs": []
    },
    {
      "cell_type": "code",
      "source": [
        "spirmen_corr, _ = stats.spearmanr(data['age'], data['income'])\n",
        "pearson_corr, _ = stats.pearsonr(data['age'], data['income'])\n",
        "print(\"Spearman correlation coefficient:\", spirmen_corr)\n",
        "print(\"Pearson correlation coefficient:\", pearson_corr)"
      ],
      "metadata": {
        "colab": {
          "base_uri": "https://localhost:8080/"
        },
        "id": "ErkRylbE1_QN",
        "outputId": "e16596e1-a38d-4ff0-d3c9-e1b3bf5a162b"
      },
      "execution_count": 20,
      "outputs": [
        {
          "output_type": "stream",
          "name": "stdout",
          "text": [
            "Spearman correlation coefficient: 0.9999999999999999\n",
            "Pearson correlation coefficient: 0.9996907452347202\n"
          ]
        }
      ]
    },
    {
      "cell_type": "markdown",
      "source": [
        "🌟 Exercise 5 : Linear Relationships\n",
        "Instructions\n",
        "Create a scatter plot of two variables (age and income) and visually assess the linear relationship. Use the dataset from Exercise 7.\n"
      ],
      "metadata": {
        "id": "Tm7-tvRK0blv"
      }
    },
    {
      "cell_type": "code",
      "source": [
        "\n",
        "plt.scatter(data['age'], data['income'])\n",
        "plt.xlabel('Age')\n",
        "plt.ylabel('Income')\n",
        "plt.title('Scatter plot of Age vs Income')\n",
        "\n",
        "m, b = np.polyfit(data['age'], data['income'], 1)\n",
        "plt.plot(data['age'], m*data['age'] + b, color='red')\n",
        "plt.show()"
      ],
      "metadata": {
        "colab": {
          "base_uri": "https://localhost:8080/",
          "height": 472
        },
        "id": "37u88NNp0dtV",
        "outputId": "d5f23347-6287-45d6-d5de-118c22791690"
      },
      "execution_count": 23,
      "outputs": [
        {
          "output_type": "display_data",
          "data": {
            "text/plain": [
              "<Figure size 640x480 with 1 Axes>"
            ],
            "image/png": "[encoded data removed]"
          },
          "metadata": {}
        }
      ]
    }
  ]
}