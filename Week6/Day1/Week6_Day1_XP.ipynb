{
  "nbformat": 4,
  "nbformat_minor": 0,
  "metadata": {
    "colab": {
      "provenance": []
    },
    "kernelspec": {
      "name": "python3",
      "display_name": "Python 3"
    },
    "language_info": {
      "name": "python"
    }
  },
  "cells": [
    {
      "cell_type": "markdown",
      "source": [
        "🌟 Exercise 1 : Array Creation and Manipulation\n",
        "\n",
        "Instructions\n",
        "Create a 1D NumPy array containing numbers from 0 to 9.\n",
        "\n",
        "Expected Output:"
      ],
      "metadata": {
        "id": "w3xqdYxl6_2V"
      }
    },
    {
      "cell_type": "code",
      "source": [
        "import numpy as np"
      ],
      "metadata": {
        "id": "5D5tKYBh7v4a"
      },
      "execution_count": 1,
      "outputs": []
    },
    {
      "cell_type": "code",
      "execution_count": 36,
      "metadata": {
        "colab": {
          "base_uri": "https://localhost:8080/"
        },
        "id": "Xnm4eYdWPho5",
        "outputId": "0df8c186-7e56-4ffd-d964-cc27ec23a82f"
      },
      "outputs": [
        {
          "output_type": "execute_result",
          "data": {
            "text/plain": [
              "array([0, 1, 2, 3, 4, 5, 6, 7, 8, 9])"
            ]
          },
          "metadata": {},
          "execution_count": 36
        }
      ],
      "source": [
        "a = np.arange(10)\n",
        "a"
      ]
    },
    {
      "cell_type": "markdown",
      "source": [
        "🌟 Exercise 2 : Type Conversion and Array Operations\n",
        "\n",
        "\n",
        "Instructions\n",
        "Convert a list [3.14, 2.17, 0, 1, 2] into a NumPy array and convert its data type to integer.\n",
        "\n"
      ],
      "metadata": {
        "id": "AJ-u-V4M74uR"
      }
    },
    {
      "cell_type": "code",
      "source": [
        "a =  [3.14, 2.17, 0, 1, 2]\n",
        "b = np.array(a)\n",
        "b"
      ],
      "metadata": {
        "colab": {
          "base_uri": "https://localhost:8080/"
        },
        "id": "_qWO-Sey74Ue",
        "outputId": "2dbdf2f1-b078-4e51-e8f2-21a5ae916690"
      },
      "execution_count": 3,
      "outputs": [
        {
          "output_type": "execute_result",
          "data": {
            "text/plain": [
              "array([3.14, 2.17, 0.  , 1.  , 2.  ])"
            ]
          },
          "metadata": {},
          "execution_count": 3
        }
      ]
    },
    {
      "cell_type": "code",
      "source": [
        "b = b.astype(int)\n",
        "b"
      ],
      "metadata": {
        "colab": {
          "base_uri": "https://localhost:8080/"
        },
        "id": "c2ojP4ub8Jyt",
        "outputId": "bb0b83bd-a32e-4230-cfe1-949dfb9bb0e3"
      },
      "execution_count": 4,
      "outputs": [
        {
          "output_type": "execute_result",
          "data": {
            "text/plain": [
              "array([3, 2, 0, 1, 2])"
            ]
          },
          "metadata": {},
          "execution_count": 4
        }
      ]
    },
    {
      "cell_type": "markdown",
      "source": [
        "🌟 Exercise 3 : Working with Multi-Dimensional Arrays\n",
        "Instructions\n",
        "\n",
        "Create a 3x3 NumPy array with values ranging from 1 to 9.\n"
      ],
      "metadata": {
        "id": "UZt3ghvm8Pn0"
      }
    },
    {
      "cell_type": "code",
      "source": [
        "a = np.arange(1,10)\n",
        "a = a.reshape(3,3)\n",
        "a"
      ],
      "metadata": {
        "colab": {
          "base_uri": "https://localhost:8080/"
        },
        "id": "6Fv_wrrk8dLh",
        "outputId": "94e5c325-46d8-4ccc-a0ed-97b9c9deab1d"
      },
      "execution_count": 5,
      "outputs": [
        {
          "output_type": "execute_result",
          "data": {
            "text/plain": [
              "array([[1, 2, 3],\n",
              "       [4, 5, 6],\n",
              "       [7, 8, 9]])"
            ]
          },
          "metadata": {},
          "execution_count": 5
        }
      ]
    },
    {
      "cell_type": "markdown",
      "source": [
        "🌟 Exercise 4 : Creating Multi-Dimensional Array with Random Numbers\n",
        "Instructions\n",
        "Create a 2D NumPy array of shape (4, 5) filled with random numbers."
      ],
      "metadata": {
        "id": "I-cfplSW-1u1"
      }
    },
    {
      "cell_type": "code",
      "source": [
        "a = np.random.rand(4,5)\n",
        "a = np.round(a, 2)\n",
        "a"
      ],
      "metadata": {
        "colab": {
          "base_uri": "https://localhost:8080/"
        },
        "id": "sDb3mqHd-9mG",
        "outputId": "d8e3637c-bebe-438a-e040-7463c6b399f7"
      },
      "execution_count": 13,
      "outputs": [
        {
          "output_type": "execute_result",
          "data": {
            "text/plain": [
              "array([[0.89, 0.46, 0.06, 0.04, 0.47],\n",
              "       [0.46, 0.93, 0.33, 0.97, 0.96],\n",
              "       [0.79, 0.47, 0.7 , 0.14, 0.42],\n",
              "       [0.77, 0.24, 0.25, 0.36, 0.35]])"
            ]
          },
          "metadata": {},
          "execution_count": 13
        }
      ]
    },
    {
      "cell_type": "markdown",
      "source": [
        "🌟 Exercise 5 : Indexing Arrays\n",
        "Instructions\n",
        "Select the second row from a given 2D NumPy array."
      ],
      "metadata": {
        "id": "xdz5xTkkCCJ5"
      }
    },
    {
      "cell_type": "code",
      "source": [
        "a = np.arange(15,25)\n",
        "a = a.reshape(2,5)\n",
        "a[1]"
      ],
      "metadata": {
        "colab": {
          "base_uri": "https://localhost:8080/"
        },
        "id": "qnKwxBVxCE70",
        "outputId": "37159c98-d216-4d1b-d6c8-74f149aacf2b"
      },
      "execution_count": 23,
      "outputs": [
        {
          "output_type": "execute_result",
          "data": {
            "text/plain": [
              "array([20, 21, 22, 23, 24])"
            ]
          },
          "metadata": {},
          "execution_count": 23
        }
      ]
    },
    {
      "cell_type": "markdown",
      "source": [
        "🌟 Exercise 6 : Reversing elements\n",
        "Instructions\n",
        "Reverse the order of elements in a given 1D NumPy array (first element becomes last)."
      ],
      "metadata": {
        "id": "nJPstnWTDgAT"
      }
    },
    {
      "cell_type": "code",
      "source": [
        "a = np.arange(10)\n",
        "a = a[::-1]\n",
        "a"
      ],
      "metadata": {
        "colab": {
          "base_uri": "https://localhost:8080/"
        },
        "id": "eQkSxuosDjXz",
        "outputId": "a669c8d1-5cf0-4bb6-9bb5-11264d957be3"
      },
      "execution_count": 24,
      "outputs": [
        {
          "output_type": "execute_result",
          "data": {
            "text/plain": [
              "array([9, 8, 7, 6, 5, 4, 3, 2, 1, 0])"
            ]
          },
          "metadata": {},
          "execution_count": 24
        }
      ]
    },
    {
      "cell_type": "markdown",
      "source": [
        "🌟 Exercise 7 : Identity Matrix\n",
        "Instructions\n",
        "Create a 4x4 identity matrix using NumPy."
      ],
      "metadata": {
        "id": "GzzDLjScDo7p"
      }
    },
    {
      "cell_type": "code",
      "source": [
        "b = np.eye(4)\n",
        "b"
      ],
      "metadata": {
        "colab": {
          "base_uri": "https://localhost:8080/"
        },
        "id": "WFlwAXctDr28",
        "outputId": "8acbdfba-8d29-449d-c5ca-b21c7f5d1313"
      },
      "execution_count": 27,
      "outputs": [
        {
          "output_type": "execute_result",
          "data": {
            "text/plain": [
              "array([[1., 0., 0., 0.],\n",
              "       [0., 1., 0., 0.],\n",
              "       [0., 0., 1., 0.],\n",
              "       [0., 0., 0., 1.]])"
            ]
          },
          "metadata": {},
          "execution_count": 27
        }
      ]
    },
    {
      "cell_type": "markdown",
      "source": [],
      "metadata": {
        "id": "Auzd33yADymV"
      }
    },
    {
      "cell_type": "markdown",
      "source": [
        "🌟 Exercise 8 : Simple Aggregate Funcs\n",
        "Instructions\n",
        "Find the sum and average of a given 1D array."
      ],
      "metadata": {
        "id": "-Z-3WkWJD39q"
      }
    },
    {
      "cell_type": "code",
      "source": [
        "x = 45\n",
        "y = 4.5\n",
        "z = int(45/4.5)\n",
        "w = np.full(z, y)\n",
        "w"
      ],
      "metadata": {
        "colab": {
          "base_uri": "https://localhost:8080/"
        },
        "id": "tjhslzcDD6am",
        "outputId": "8f1d9692-28fe-4b53-faff-58c6b16d8d3a"
      },
      "execution_count": 32,
      "outputs": [
        {
          "output_type": "execute_result",
          "data": {
            "text/plain": [
              "array([4.5, 4.5, 4.5, 4.5, 4.5, 4.5, 4.5, 4.5, 4.5, 4.5])"
            ]
          },
          "metadata": {},
          "execution_count": 32
        }
      ]
    },
    {
      "cell_type": "code",
      "source": [
        "np.sum(w)"
      ],
      "metadata": {
        "colab": {
          "base_uri": "https://localhost:8080/"
        },
        "id": "c3nYgNANFcTJ",
        "outputId": "35b341b7-2abe-4434-b868-6e416e17900a"
      },
      "execution_count": 33,
      "outputs": [
        {
          "output_type": "execute_result",
          "data": {
            "text/plain": [
              "45.0"
            ]
          },
          "metadata": {},
          "execution_count": 33
        }
      ]
    },
    {
      "cell_type": "code",
      "source": [
        "np.mean(w)"
      ],
      "metadata": {
        "colab": {
          "base_uri": "https://localhost:8080/"
        },
        "id": "M2KElP9jFtR1",
        "outputId": "363c0057-3e5a-49d7-9dc5-4e3be53ac334"
      },
      "execution_count": 34,
      "outputs": [
        {
          "output_type": "execute_result",
          "data": {
            "text/plain": [
              "4.5"
            ]
          },
          "metadata": {},
          "execution_count": 34
        }
      ]
    },
    {
      "cell_type": "markdown",
      "source": [
        "🌟 Exercise 9 : Create Array and Change its Structure\n",
        "Instructions\n",
        "Create a NumPy array with elements from 1 to 20; then reshape it into a 4x5 matrix."
      ],
      "metadata": {
        "id": "J9Ed7xX0F7OZ"
      }
    },
    {
      "cell_type": "code",
      "source": [
        "a = np.arange(1,21)\n",
        "a = a.reshape(4,5)\n",
        "a"
      ],
      "metadata": {
        "colab": {
          "base_uri": "https://localhost:8080/"
        },
        "id": "jv2Q-S2iF-ZS",
        "outputId": "9d4f10c9-ecc7-4420-c8f5-677494d63e17"
      },
      "execution_count": 38,
      "outputs": [
        {
          "output_type": "execute_result",
          "data": {
            "text/plain": [
              "array([[ 1,  2,  3,  4,  5],\n",
              "       [ 6,  7,  8,  9, 10],\n",
              "       [11, 12, 13, 14, 15],\n",
              "       [16, 17, 18, 19, 20]])"
            ]
          },
          "metadata": {},
          "execution_count": 38
        }
      ]
    },
    {
      "cell_type": "markdown",
      "source": [
        "🌟 Exercise 10 : Conditional Selection of Values\n",
        "Instructions\n",
        "Extract all odd numbers from a given NumPy array.\n",
        "\n",
        "Expected Output:"
      ],
      "metadata": {
        "id": "M1ckORPIGC8v"
      }
    },
    {
      "cell_type": "code",
      "source": [
        "a = np.arange(10)\n",
        "a[a%2==1]"
      ],
      "metadata": {
        "colab": {
          "base_uri": "https://localhost:8080/"
        },
        "id": "HEG-lvszGGhj",
        "outputId": "634caf00-4ff6-4b24-9556-97023270c8c1"
      },
      "execution_count": 40,
      "outputs": [
        {
          "output_type": "execute_result",
          "data": {
            "text/plain": [
              "array([1, 3, 5, 7, 9])"
            ]
          },
          "metadata": {},
          "execution_count": 40
        }
      ]
    },
    {
      "cell_type": "code",
      "source": [],
      "metadata": {
        "id": "tWhs_WUpGXY6"
      },
      "execution_count": null,
      "outputs": []
    }
  ]
}