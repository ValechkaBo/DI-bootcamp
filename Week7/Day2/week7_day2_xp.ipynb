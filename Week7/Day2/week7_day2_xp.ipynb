{
 "cells": [
  {
   "cell_type": "code",
   "execution_count": 2,
   "metadata": {},
   "outputs": [
    {
     "name": "stdout",
     "output_type": "stream",
     "text": [
      "Collecting seleniumNote: you may need to restart the kernel to use updated packages.\n",
      "\n",
      "  Downloading selenium-4.27.1-py3-none-any.whl.metadata (7.1 kB)\n",
      "Requirement already satisfied: urllib3<3,>=1.26 in c:\\users\\acer\\desktop\\di-bootcamp\\week3\\day4\\my_env\\lib\\site-packages (from urllib3[socks]<3,>=1.26->selenium) (2.2.3)\n",
      "Collecting trio~=0.17 (from selenium)\n",
      "  Downloading trio-0.27.0-py3-none-any.whl.metadata (8.6 kB)\n",
      "Collecting trio-websocket~=0.9 (from selenium)\n",
      "  Downloading trio_websocket-0.11.1-py3-none-any.whl.metadata (4.7 kB)\n",
      "Requirement already satisfied: certifi>=2021.10.8 in c:\\users\\acer\\desktop\\di-bootcamp\\week3\\day4\\my_env\\lib\\site-packages (from selenium) (2024.8.30)\n",
      "Requirement already satisfied: typing_extensions~=4.9 in c:\\users\\acer\\desktop\\di-bootcamp\\week3\\day4\\my_env\\lib\\site-packages (from selenium) (4.12.2)\n",
      "Collecting websocket-client~=1.8 (from selenium)\n",
      "  Downloading websocket_client-1.8.0-py3-none-any.whl.metadata (8.0 kB)\n",
      "Collecting attrs>=23.2.0 (from trio~=0.17->selenium)\n",
      "  Downloading attrs-24.3.0-py3-none-any.whl.metadata (11 kB)\n",
      "Collecting sortedcontainers (from trio~=0.17->selenium)\n",
      "  Downloading sortedcontainers-2.4.0-py2.py3-none-any.whl.metadata (10 kB)\n",
      "Requirement already satisfied: idna in c:\\users\\acer\\desktop\\di-bootcamp\\week3\\day4\\my_env\\lib\\site-packages (from trio~=0.17->selenium) (3.10)\n",
      "Collecting outcome (from trio~=0.17->selenium)\n",
      "  Downloading outcome-1.3.0.post0-py2.py3-none-any.whl.metadata (2.6 kB)\n",
      "Collecting sniffio>=1.3.0 (from trio~=0.17->selenium)\n",
      "  Downloading sniffio-1.3.1-py3-none-any.whl.metadata (3.9 kB)\n",
      "Collecting cffi>=1.14 (from trio~=0.17->selenium)\n",
      "  Downloading cffi-1.17.1-cp311-cp311-win_amd64.whl.metadata (1.6 kB)\n",
      "Collecting wsproto>=0.14 (from trio-websocket~=0.9->selenium)\n",
      "  Downloading wsproto-1.2.0-py3-none-any.whl.metadata (5.6 kB)\n",
      "Collecting pysocks!=1.5.7,<2.0,>=1.5.6 (from urllib3[socks]<3,>=1.26->selenium)\n",
      "  Downloading PySocks-1.7.1-py3-none-any.whl.metadata (13 kB)\n",
      "Collecting pycparser (from cffi>=1.14->trio~=0.17->selenium)\n",
      "  Downloading pycparser-2.22-py3-none-any.whl.metadata (943 bytes)\n",
      "Collecting h11<1,>=0.9.0 (from wsproto>=0.14->trio-websocket~=0.9->selenium)\n",
      "  Downloading h11-0.14.0-py3-none-any.whl.metadata (8.2 kB)\n",
      "Downloading selenium-4.27.1-py3-none-any.whl (9.7 MB)\n",
      "   ---------------------------------------- 0.0/9.7 MB ? eta -:--:--\n",
      "   ---------------------------------------- 0.0/9.7 MB ? eta -:--:--\n",
      "   -- ------------------------------------- 0.5/9.7 MB 3.3 MB/s eta 0:00:03\n",
      "   ----- ---------------------------------- 1.3/9.7 MB 2.9 MB/s eta 0:00:03\n",
      "   -------- ------------------------------- 2.1/9.7 MB 3.7 MB/s eta 0:00:03\n",
      "   ---------- ----------------------------- 2.6/9.7 MB 3.1 MB/s eta 0:00:03\n",
      "   -------------- ------------------------- 3.4/9.7 MB 3.2 MB/s eta 0:00:02\n",
      "   ------------------- -------------------- 4.7/9.7 MB 3.7 MB/s eta 0:00:02\n",
      "   -------------------- ------------------- 5.0/9.7 MB 3.6 MB/s eta 0:00:02\n",
      "   ----------------------- ---------------- 5.8/9.7 MB 3.5 MB/s eta 0:00:02\n",
      "   ------------------------- -------------- 6.3/9.7 MB 3.4 MB/s eta 0:00:02\n",
      "   --------------------------- ------------ 6.6/9.7 MB 3.4 MB/s eta 0:00:01\n",
      "   ------------------------------ --------- 7.3/9.7 MB 3.2 MB/s eta 0:00:01\n",
      "   --------------------------------- ------ 8.1/9.7 MB 3.2 MB/s eta 0:00:01\n",
      "   ------------------------------------ --- 8.9/9.7 MB 3.3 MB/s eta 0:00:01\n",
      "   ---------------------------------------  9.7/9.7 MB 3.2 MB/s eta 0:00:01\n",
      "   ---------------------------------------- 9.7/9.7 MB 3.1 MB/s eta 0:00:00\n",
      "Downloading trio-0.27.0-py3-none-any.whl (481 kB)\n",
      "Downloading trio_websocket-0.11.1-py3-none-any.whl (17 kB)\n",
      "Downloading websocket_client-1.8.0-py3-none-any.whl (58 kB)\n",
      "Downloading attrs-24.3.0-py3-none-any.whl (63 kB)\n",
      "Downloading cffi-1.17.1-cp311-cp311-win_amd64.whl (181 kB)\n",
      "Downloading PySocks-1.7.1-py3-none-any.whl (16 kB)\n",
      "Downloading sniffio-1.3.1-py3-none-any.whl (10 kB)\n",
      "Downloading wsproto-1.2.0-py3-none-any.whl (24 kB)\n",
      "Downloading outcome-1.3.0.post0-py2.py3-none-any.whl (10 kB)\n",
      "Downloading sortedcontainers-2.4.0-py2.py3-none-any.whl (29 kB)\n",
      "Downloading h11-0.14.0-py3-none-any.whl (58 kB)\n",
      "Downloading pycparser-2.22-py3-none-any.whl (117 kB)\n",
      "Installing collected packages: sortedcontainers, websocket-client, sniffio, pysocks, pycparser, h11, attrs, wsproto, outcome, cffi, trio, trio-websocket, selenium\n",
      "Successfully installed attrs-24.3.0 cffi-1.17.1 h11-0.14.0 outcome-1.3.0.post0 pycparser-2.22 pysocks-1.7.1 selenium-4.27.1 sniffio-1.3.1 sortedcontainers-2.4.0 trio-0.27.0 trio-websocket-0.11.1 websocket-client-1.8.0 wsproto-1.2.0\n"
     ]
    }
   ],
   "source": [
    "pip install selenium"
   ]
  },
  {
   "cell_type": "code",
   "execution_count": 3,
   "metadata": {},
   "outputs": [],
   "source": [
    "from selenium import webdriver\n",
    "from selenium.webdriver.common.keys import Keys\n",
    "from selenium.webdriver.common.by import By\n",
    "from selenium.webdriver.support.ui import WebDriverWait\n",
    "from selenium.webdriver.support import expected_conditions as EC\n",
    "import pprint  # To tidy up\n",
    "options = webdriver.ChromeOptions()\n",
    "options.add_argument('--headless')  # Run Chrome in headless mode\n",
    "options.add_argument(\"--no-sandbox\")  # Bypass OS security model\n",
    "options.add_argument(\"--disable-dev-shm-usage\")  # Overcome limited resource problems\n",
    "driver = webdriver.Chrome(options=options)"
   ]
  },
  {
   "cell_type": "markdown",
   "metadata": {},
   "source": [
    "🌟 Exercise 1 : Exploring JavaScript Variables and Data Types\n",
    "Instructions\n",
    "Create a JavaScript script that defines variables of different data types and logs them to the console.\n",
    "Instructions\n",
    "\n",
    "Create a new HTML file with a <script> tag.\n",
    "Inside the <script> tag, declare variables of different data types (String, Number, Boolean, Undefined, Null).\n",
    "Use console.log() to print each variable and its type to the browser console.\n",
    "Open the HTML file in a web browser and inspect the console output.\n",
    "\n",
    "\n",
    "look ex 1"
   ]
  },
  {
   "cell_type": "markdown",
   "metadata": {},
   "source": [
    "🌟 Exercise 2 : JavaScript Page vs. HTML Page\n",
    "Instructions\n",
    "ompare the behavior of a static HTML page with a JavaScript-enhanced HTML page.\n",
    "Instructions\n",
    "\n",
    "Create two HTML files – one with only HTML content and another with HTML and JavaScript.\n",
    "In the first file, create a static page with headings, paragraphs, and a list.\n",
    "In the second file, add JavaScript to dynamically modify one of the elements on page load (e.g., change the text of a heading).\n",
    "Open both files in a web browser and observe the differences in behavior and content rendering.\n",
    "Expected Outcome\n",
    "\n",
    "The static HTML page should display content as is, whereas the JavaScript-enhanced page should show dynamically altered content, illustrating the interactivity added by JavaScript.\n",
    "\n"
   ]
  }
 ],
 "metadata": {
  "kernelspec": {
   "display_name": "my_env",
   "language": "python",
   "name": "python3"
  },
  "language_info": {
   "codemirror_mode": {
    "name": "ipython",
    "version": 3
   },
   "file_extension": ".py",
   "mimetype": "text/x-python",
   "name": "python",
   "nbconvert_exporter": "python",
   "pygments_lexer": "ipython3",
   "version": "3.11.0"
  }
 },
 "nbformat": 4,
 "nbformat_minor": 2
}
